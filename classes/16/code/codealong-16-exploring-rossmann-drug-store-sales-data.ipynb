{
 "cells": [
  {
   "cell_type": "markdown",
   "metadata": {},
   "source": [
    "# DS-SF-23 | Codealong 16 | Exploring Rossmann Drug Store Sales Data (cont.)"
   ]
  },
  {
   "cell_type": "code",
   "execution_count": 1,
   "metadata": {
    "collapsed": false
   },
   "outputs": [],
   "source": [
    "import os\n",
    "import numpy as np\n",
    "import pandas as pd\n",
    "import matplotlib.pyplot as plt\n",
    "import seaborn as sb\n",
    "import statsmodels as sm\n",
    "from statsmodels.graphics.tsaplots import plot_acf\n",
    "\n",
    "pd.set_option('display.max_rows', 10)\n",
    "pd.set_option('display.notebook_repr_html', True)\n",
    "pd.set_option('display.max_columns', 10)\n",
    "\n",
    "%matplotlib inline\n",
    "plt.style.use('ggplot')"
   ]
  },
  {
   "cell_type": "markdown",
   "metadata": {},
   "source": [
    "To explore time series models, we will continue to use the Rossmann sales data.\n",
    "\n",
    "This dataset has sales data for every Rossmann store for a 3-year period and indicators for holidays and basic store information.\n",
    "\n",
    "In the last class, we saw that we could plot the sales data at a particular store to identify how the sales changed over time.\n",
    "\n",
    "We also computed autocorrelation for the data at varying lag periods.  This helps us identify if previous timepoints are predictive of future data and which time points are most important - the previous day, week, or month."
   ]
  },
  {
   "cell_type": "code",
   "execution_count": 2,
   "metadata": {
    "collapsed": false
   },
   "outputs": [],
   "source": [
    "df = pd.read_csv(os.path.join('..', 'datasets', 'rossmann.csv'), skipinitialspace = True, low_memory = False)\n",
    "\n",
    "df.Date = pd.to_datetime(df.Date)\n",
    "df.set_index('Date', inplace = True)\n",
    "\n",
    "df.Sales = df.Sales.astype(float)"
   ]
  },
  {
   "cell_type": "markdown",
   "metadata": {},
   "source": [
    "Again, let's focus on the first store."
   ]
  },
  {
   "cell_type": "code",
   "execution_count": 3,
   "metadata": {
    "collapsed": true
   },
   "outputs": [],
   "source": [
    "df = df[df.Store == 1]"
   ]
  },
  {
   "cell_type": "code",
   "execution_count": 4,
   "metadata": {
    "collapsed": false
   },
   "outputs": [
    {
     "data": {
      "text/html": [
       "<div>\n",
       "<table border=\"1\" class=\"dataframe\">\n",
       "  <thead>\n",
       "    <tr style=\"text-align: right;\">\n",
       "      <th></th>\n",
       "      <th>Store</th>\n",
       "      <th>DayOfWeek</th>\n",
       "      <th>Sales</th>\n",
       "      <th>Customers</th>\n",
       "      <th>Open</th>\n",
       "      <th>Promo</th>\n",
       "      <th>StateHoliday</th>\n",
       "      <th>SchoolHoliday</th>\n",
       "    </tr>\n",
       "    <tr>\n",
       "      <th>Date</th>\n",
       "      <th></th>\n",
       "      <th></th>\n",
       "      <th></th>\n",
       "      <th></th>\n",
       "      <th></th>\n",
       "      <th></th>\n",
       "      <th></th>\n",
       "      <th></th>\n",
       "    </tr>\n",
       "  </thead>\n",
       "  <tbody>\n",
       "    <tr>\n",
       "      <th>2015-07-31</th>\n",
       "      <td>1</td>\n",
       "      <td>5</td>\n",
       "      <td>5263.0</td>\n",
       "      <td>555</td>\n",
       "      <td>1</td>\n",
       "      <td>1</td>\n",
       "      <td>0</td>\n",
       "      <td>1</td>\n",
       "    </tr>\n",
       "    <tr>\n",
       "      <th>2015-07-30</th>\n",
       "      <td>1</td>\n",
       "      <td>4</td>\n",
       "      <td>5020.0</td>\n",
       "      <td>546</td>\n",
       "      <td>1</td>\n",
       "      <td>1</td>\n",
       "      <td>0</td>\n",
       "      <td>1</td>\n",
       "    </tr>\n",
       "    <tr>\n",
       "      <th>2015-07-29</th>\n",
       "      <td>1</td>\n",
       "      <td>3</td>\n",
       "      <td>4782.0</td>\n",
       "      <td>523</td>\n",
       "      <td>1</td>\n",
       "      <td>1</td>\n",
       "      <td>0</td>\n",
       "      <td>1</td>\n",
       "    </tr>\n",
       "    <tr>\n",
       "      <th>2015-07-28</th>\n",
       "      <td>1</td>\n",
       "      <td>2</td>\n",
       "      <td>5011.0</td>\n",
       "      <td>560</td>\n",
       "      <td>1</td>\n",
       "      <td>1</td>\n",
       "      <td>0</td>\n",
       "      <td>1</td>\n",
       "    </tr>\n",
       "    <tr>\n",
       "      <th>2015-07-27</th>\n",
       "      <td>1</td>\n",
       "      <td>1</td>\n",
       "      <td>6102.0</td>\n",
       "      <td>612</td>\n",
       "      <td>1</td>\n",
       "      <td>1</td>\n",
       "      <td>0</td>\n",
       "      <td>1</td>\n",
       "    </tr>\n",
       "    <tr>\n",
       "      <th>...</th>\n",
       "      <td>...</td>\n",
       "      <td>...</td>\n",
       "      <td>...</td>\n",
       "      <td>...</td>\n",
       "      <td>...</td>\n",
       "      <td>...</td>\n",
       "      <td>...</td>\n",
       "      <td>...</td>\n",
       "    </tr>\n",
       "    <tr>\n",
       "      <th>2013-01-05</th>\n",
       "      <td>1</td>\n",
       "      <td>6</td>\n",
       "      <td>4997.0</td>\n",
       "      <td>635</td>\n",
       "      <td>1</td>\n",
       "      <td>0</td>\n",
       "      <td>0</td>\n",
       "      <td>1</td>\n",
       "    </tr>\n",
       "    <tr>\n",
       "      <th>2013-01-04</th>\n",
       "      <td>1</td>\n",
       "      <td>5</td>\n",
       "      <td>4486.0</td>\n",
       "      <td>619</td>\n",
       "      <td>1</td>\n",
       "      <td>0</td>\n",
       "      <td>0</td>\n",
       "      <td>1</td>\n",
       "    </tr>\n",
       "    <tr>\n",
       "      <th>2013-01-03</th>\n",
       "      <td>1</td>\n",
       "      <td>4</td>\n",
       "      <td>4327.0</td>\n",
       "      <td>578</td>\n",
       "      <td>1</td>\n",
       "      <td>0</td>\n",
       "      <td>0</td>\n",
       "      <td>1</td>\n",
       "    </tr>\n",
       "    <tr>\n",
       "      <th>2013-01-02</th>\n",
       "      <td>1</td>\n",
       "      <td>3</td>\n",
       "      <td>5530.0</td>\n",
       "      <td>668</td>\n",
       "      <td>1</td>\n",
       "      <td>0</td>\n",
       "      <td>0</td>\n",
       "      <td>1</td>\n",
       "    </tr>\n",
       "    <tr>\n",
       "      <th>2013-01-01</th>\n",
       "      <td>1</td>\n",
       "      <td>2</td>\n",
       "      <td>0.0</td>\n",
       "      <td>0</td>\n",
       "      <td>0</td>\n",
       "      <td>0</td>\n",
       "      <td>a</td>\n",
       "      <td>1</td>\n",
       "    </tr>\n",
       "  </tbody>\n",
       "</table>\n",
       "<p>942 rows × 8 columns</p>\n",
       "</div>"
      ],
      "text/plain": [
       "            Store  DayOfWeek   Sales  Customers  Open  Promo StateHoliday  \\\n",
       "Date                                                                        \n",
       "2015-07-31      1          5  5263.0        555     1      1            0   \n",
       "2015-07-30      1          4  5020.0        546     1      1            0   \n",
       "2015-07-29      1          3  4782.0        523     1      1            0   \n",
       "2015-07-28      1          2  5011.0        560     1      1            0   \n",
       "2015-07-27      1          1  6102.0        612     1      1            0   \n",
       "...           ...        ...     ...        ...   ...    ...          ...   \n",
       "2013-01-05      1          6  4997.0        635     1      0            0   \n",
       "2013-01-04      1          5  4486.0        619     1      0            0   \n",
       "2013-01-03      1          4  4327.0        578     1      0            0   \n",
       "2013-01-02      1          3  5530.0        668     1      0            0   \n",
       "2013-01-01      1          2     0.0          0     0      0            a   \n",
       "\n",
       "            SchoolHoliday  \n",
       "Date                       \n",
       "2015-07-31              1  \n",
       "2015-07-30              1  \n",
       "2015-07-29              1  \n",
       "2015-07-28              1  \n",
       "2015-07-27              1  \n",
       "...                   ...  \n",
       "2013-01-05              1  \n",
       "2013-01-04              1  \n",
       "2013-01-03              1  \n",
       "2013-01-02              1  \n",
       "2013-01-01              1  \n",
       "\n",
       "[942 rows x 8 columns]"
      ]
     },
     "execution_count": 4,
     "metadata": {},
     "output_type": "execute_result"
    }
   ],
   "source": [
    "df"
   ]
  },
  {
   "cell_type": "markdown",
   "metadata": {},
   "source": [
    "Plot the sales over time."
   ]
  },
  {
   "cell_type": "code",
   "execution_count": 5,
   "metadata": {
    "collapsed": false
   },
   "outputs": [
    {
     "data": {
      "text/plain": [
       "<matplotlib.axes._subplots.AxesSubplot at 0x1043da780>"
      ]
     },
     "execution_count": 5,
     "metadata": {},
     "output_type": "execute_result"
    },
    {
     "data": {
      "image/png": "[encoded data removed]",
      "text/plain": [
       "<matplotlib.figure.Figure at 0x1043da400>"
      ]
     },
     "metadata": {},
     "output_type": "display_data"
    }
   ],
   "source": [
    "df[df.Open == 1].Sales.plot()"
   ]
  },
  {
   "cell_type": "markdown",
   "metadata": {},
   "source": [
    "## Activity | Compute the autocorrelation of Sales in Store 1 for lag 1 and 2."
   ]
  },
  {
   "cell_type": "code",
   "execution_count": null,
   "metadata": {
    "collapsed": true
   },
   "outputs": [],
   "source": [
    "# Find correlation between each day's value and the next value"
   ]
  },
  {
   "cell_type": "code",
   "execution_count": 6,
   "metadata": {
    "collapsed": false
   },
   "outputs": [
    {
     "data": {
      "text/plain": [
       "-0.12732514339140216"
      ]
     },
     "execution_count": 6,
     "metadata": {},
     "output_type": "execute_result"
    }
   ],
   "source": [
    "df.Sales.autocorr(lag = 1)"
   ]
  },
  {
   "cell_type": "code",
   "execution_count": null,
   "metadata": {
    "collapsed": true
   },
   "outputs": [],
   "source": [
    "# Approximately 12% correlation, which is worrringly low"
   ]
  },
  {
   "cell_type": "code",
   "execution_count": null,
   "metadata": {
    "collapsed": true
   },
   "outputs": [],
   "source": [
    "# Find correlation between each day's value and the value two days later"
   ]
  },
  {
   "cell_type": "code",
   "execution_count": 7,
   "metadata": {
    "collapsed": false
   },
   "outputs": [
    {
     "data": {
      "text/plain": [
       "-0.034787155707946972"
      ]
     },
     "execution_count": 7,
     "metadata": {},
     "output_type": "execute_result"
    }
   ],
   "source": [
    "df.Sales.autocorr(lag = 2)"
   ]
  },
  {
   "cell_type": "code",
   "execution_count": null,
   "metadata": {
    "collapsed": true
   },
   "outputs": [],
   "source": [
    "# 3% correlation, which is unacceptably low"
   ]
  },
  {
   "cell_type": "code",
   "execution_count": null,
   "metadata": {
    "collapsed": true
   },
   "outputs": [],
   "source": [
    "# Find correlation between each day's value and the value a week earlier"
   ]
  },
  {
   "cell_type": "code",
   "execution_count": 8,
   "metadata": {
    "collapsed": false
   },
   "outputs": [
    {
     "data": {
      "text/plain": [
       "0.63071924328402851"
      ]
     },
     "execution_count": 8,
     "metadata": {},
     "output_type": "execute_result"
    }
   ],
   "source": [
    "df.Sales.autocorr(lag = 7)"
   ]
  },
  {
   "cell_type": "code",
   "execution_count": null,
   "metadata": {
    "collapsed": true
   },
   "outputs": [],
   "source": [
    "# Much better, but not fully explained"
   ]
  },
  {
   "cell_type": "markdown",
   "metadata": {},
   "source": [
    "## Activity | Will we be able to use a predictive model, particularly an autoregressive one?"
   ]
  },
  {
   "cell_type": "markdown",
   "metadata": {},
   "source": [
    "Answer: We see some correlation, but it appears to be weighted toward weekly cycles. So, yes, a predictive model does seem to be viable, but not an autoregressive model, as the data has a relatively variance each week."
   ]
  },
  {
   "cell_type": "markdown",
   "metadata": {
    "collapsed": true
   },
   "source": [
    "An easier way to diagnose this may be to plot many autocorrelations at once."
   ]
  },
  {
   "cell_type": "code",
   "execution_count": 9,
   "metadata": {
    "collapsed": false
   },
   "outputs": [
    {
     "data": {
      "text/plain": [
       "<matplotlib.axes._subplots.AxesSubplot at 0x1033e77f0>"
      ]
     },
     "execution_count": 9,
     "metadata": {},
     "output_type": "execute_result"
    },
    {
     "data": {
      "image/png": "[encoded data removed]",
      "text/plain": [
       "<matplotlib.figure.Figure at 0x1043dafd0>"
      ]
     },
     "metadata": {},
     "output_type": "display_data"
    }
   ],
   "source": [
    "pd.tools.plotting.autocorrelation_plot(df.Sales)"
   ]
  },
  {
   "cell_type": "markdown",
   "metadata": {},
   "source": [
    "This shows a typical pattern of an autocorrelation plot, that it should decrease to 0 as lag increases.  However, it's hard to observe exactly what the values are."
   ]
  },
  {
   "cell_type": "markdown",
   "metadata": {},
   "source": [
    "## `statsmodels` and autocorrelation plots"
   ]
  },
  {
   "cell_type": "markdown",
   "metadata": {},
   "source": [
    "`statsmodels` has a better autocorrelation plot that allows us to look at fixed number of lag values."
   ]
  },
  {
   "cell_type": "code",
   "execution_count": 10,
   "metadata": {
    "collapsed": false
   },
   "outputs": [
    {
     "data": {
      "image/png": "[encoded data removed]",
      "text/plain": [
       "<matplotlib.figure.Figure at 0x108dbd3c8>"
      ]
     },
     "metadata": {},
     "output_type": "display_data"
    }
   ],
   "source": [
    "plot = plot_acf(df.Sales, lags = 10)"
   ]
  },
  {
   "cell_type": "markdown",
   "metadata": {},
   "source": [
    "Here we observe autocorrelation at 10 lag values.  1 and 2 are what we saw before.  This implies a small but limited impact based on the last few values.  An autoregressive model might be useful.  We also see a larger spike at 7 (the seventh day in the week).\n",
    "\n",
    "If we observed a handful of random distributed spikes, a moving average model would be useful."
   ]
  },
  {
   "cell_type": "code",
   "execution_count": 11,
   "metadata": {
    "collapsed": false
   },
   "outputs": [
    {
     "data": {
      "image/png": "[encoded data removed]",
      "text/plain": [
       "<matplotlib.figure.Figure at 0x1178fae10>"
      ]
     },
     "metadata": {},
     "output_type": "display_data"
    }
   ],
   "source": [
    "plot = plot_acf(df.Sales, lags = 25)"
   ]
  },
  {
   "cell_type": "markdown",
   "metadata": {},
   "source": [
    "Expanding the window to 25 days, we can see that the random spikes occur regularly at 7 days.  What does this mean?"
   ]
  },
  {
   "cell_type": "markdown",
   "metadata": {},
   "source": [
    "## `statsmodels` and `AR`, `MA`, `ARMA`, and `ARIMA` models"
   ]
  },
  {
   "cell_type": "markdown",
   "metadata": {},
   "source": [
    "In this class, we will use `statsmodels` to code AR, MA, ARMA, and ARIMA models.\n",
    "\n",
    "To explore `AR`, `MA`, and `ARMA` models, we will use `sm.tsa.arima_model.ARMA`.  (http://statsmodels.sourceforge.net/0.6.0/generated/statsmodels.tsa.arima_model.ARMA.html)\n",
    "\n",
    "Remember, an `ARMA` model is a combination of autoregressive and moving average models.\n",
    "\n",
    "We can train an `AR` model by turning off the MA component (`q = 0`)."
   ]
  },
  {
   "cell_type": "code",
   "execution_count": 21,
   "metadata": {
    "collapsed": false
   },
   "outputs": [
    {
     "data": {
      "text/html": [
       "<table class=\"simpletable\">\n",
       "<caption>ARMA Model Results</caption>\n",
       "<tr>\n",
       "  <th>Dep. Variable:</th>       <td>Sales</td>      <th>  No. Observations:  </th>    <td>942</td>   \n",
       "</tr>\n",
       "<tr>\n",
       "  <th>Model:</th>            <td>ARMA(7, 0)</td>    <th>  Log Likelihood     </th> <td>-8229.305</td>\n",
       "</tr>\n",
       "<tr>\n",
       "  <th>Method:</th>             <td>css-mle</td>     <th>  S.D. of innovations</th> <td>1502.639</td> \n",
       "</tr>\n",
       "<tr>\n",
       "  <th>Date:</th>          <td>Tue, 28 Jun 2016</td> <th>  AIC                </th> <td>16476.610</td>\n",
       "</tr>\n",
       "<tr>\n",
       "  <th>Time:</th>              <td>19:44:03</td>     <th>  BIC                </th> <td>16520.242</td>\n",
       "</tr>\n",
       "<tr>\n",
       "  <th>Sample:</th>           <td>07-31-2015</td>    <th>  HQIC               </th> <td>16493.242</td>\n",
       "</tr>\n",
       "<tr>\n",
       "  <th></th>                 <td>- 01-01-2013</td>   <th>                     </th>     <td> </td>    \n",
       "</tr>\n",
       "</table>\n",
       "<table class=\"simpletable\">\n",
       "<tr>\n",
       "       <td></td>          <th>coef</th>     <th>std err</th>      <th>z</th>      <th>P>|z|</th> <th>[95.0% Conf. Int.]</th> \n",
       "</tr>\n",
       "<tr>\n",
       "  <th>const</th>       <td> 3946.8053</td> <td>   81.229</td> <td>   48.589</td> <td> 0.000</td> <td> 3787.599  4106.011</td>\n",
       "</tr>\n",
       "<tr>\n",
       "  <th>ar.L1.Sales</th> <td>    0.0051</td> <td>    0.026</td> <td>    0.198</td> <td> 0.843</td> <td>   -0.045     0.055</td>\n",
       "</tr>\n",
       "<tr>\n",
       "  <th>ar.L2.Sales</th> <td>    0.0513</td> <td>    0.025</td> <td>    2.049</td> <td> 0.041</td> <td>    0.002     0.100</td>\n",
       "</tr>\n",
       "<tr>\n",
       "  <th>ar.L3.Sales</th> <td>    0.0715</td> <td>    0.025</td> <td>    2.884</td> <td> 0.004</td> <td>    0.023     0.120</td>\n",
       "</tr>\n",
       "<tr>\n",
       "  <th>ar.L4.Sales</th> <td>   -0.0523</td> <td>    0.025</td> <td>   -2.105</td> <td> 0.036</td> <td>   -0.101    -0.004</td>\n",
       "</tr>\n",
       "<tr>\n",
       "  <th>ar.L5.Sales</th> <td>   -0.1168</td> <td>    0.025</td> <td>   -4.714</td> <td> 0.000</td> <td>   -0.165    -0.068</td>\n",
       "</tr>\n",
       "<tr>\n",
       "  <th>ar.L6.Sales</th> <td>   -0.1753</td> <td>    0.025</td> <td>   -6.990</td> <td> 0.000</td> <td>   -0.224    -0.126</td>\n",
       "</tr>\n",
       "<tr>\n",
       "  <th>ar.L7.Sales</th> <td>    0.6166</td> <td>    0.026</td> <td>   24.020</td> <td> 0.000</td> <td>    0.566     0.667</td>\n",
       "</tr>\n",
       "</table>\n",
       "<table class=\"simpletable\">\n",
       "<caption>Roots</caption>\n",
       "<tr>\n",
       "    <td></td>   <th>           Real</th> <th>         Imaginary</th> <th>         Modulus</th> <th>        Frequency</th>\n",
       "</tr>\n",
       "<tr>\n",
       "  <th>AR.1</th>              -0.9383                    -0.4663j                    1.0478                   -0.4266     \n",
       "</tr>\n",
       "<tr>\n",
       "  <th>AR.2</th>              -0.9383                    +0.4663j                    1.0478                    0.4266     \n",
       "</tr>\n",
       "<tr>\n",
       "  <th>AR.3</th>              -0.2288                    -1.0223j                    1.0475                   -0.2850     \n",
       "</tr>\n",
       "<tr>\n",
       "  <th>AR.4</th>              -0.2288                    +1.0223j                    1.0475                    0.2850     \n",
       "</tr>\n",
       "<tr>\n",
       "  <th>AR.5</th>               0.7410                    -0.7971j                    1.0883                   -0.1308     \n",
       "</tr>\n",
       "<tr>\n",
       "  <th>AR.6</th>               0.7410                    +0.7971j                    1.0883                    0.1308     \n",
       "</tr>\n",
       "<tr>\n",
       "  <th>AR.7</th>               1.1364                    -0.0000j                    1.1364                   -0.0000     \n",
       "</tr>\n",
       "</table>"
      ],
      "text/plain": [
       "<class 'statsmodels.iolib.summary.Summary'>\n",
       "\"\"\"\n",
       "                              ARMA Model Results                              \n",
       "==============================================================================\n",
       "Dep. Variable:                  Sales   No. Observations:                  942\n",
       "Model:                     ARMA(7, 0)   Log Likelihood               -8229.305\n",
       "Method:                       css-mle   S.D. of innovations           1502.639\n",
       "Date:                Tue, 28 Jun 2016   AIC                          16476.610\n",
       "Time:                        19:44:03   BIC                          16520.242\n",
       "Sample:                    07-31-2015   HQIC                         16493.242\n",
       "                         - 01-01-2013                                         \n",
       "===============================================================================\n",
       "                  coef    std err          z      P>|z|      [95.0% Conf. Int.]\n",
       "-------------------------------------------------------------------------------\n",
       "const        3946.8053     81.229     48.589      0.000      3787.599  4106.011\n",
       "ar.L1.Sales     0.0051      0.026      0.198      0.843        -0.045     0.055\n",
       "ar.L2.Sales     0.0513      0.025      2.049      0.041         0.002     0.100\n",
       "ar.L3.Sales     0.0715      0.025      2.884      0.004         0.023     0.120\n",
       "ar.L4.Sales    -0.0523      0.025     -2.105      0.036        -0.101    -0.004\n",
       "ar.L5.Sales    -0.1168      0.025     -4.714      0.000        -0.165    -0.068\n",
       "ar.L6.Sales    -0.1753      0.025     -6.990      0.000        -0.224    -0.126\n",
       "ar.L7.Sales     0.6166      0.026     24.020      0.000         0.566     0.667\n",
       "                                    Roots                                    \n",
       "=============================================================================\n",
       "                 Real           Imaginary           Modulus         Frequency\n",
       "-----------------------------------------------------------------------------\n",
       "AR.1           -0.9383           -0.4663j            1.0478           -0.4266\n",
       "AR.2           -0.9383           +0.4663j            1.0478            0.4266\n",
       "AR.3           -0.2288           -1.0223j            1.0475           -0.2850\n",
       "AR.4           -0.2288           +1.0223j            1.0475            0.2850\n",
       "AR.5            0.7410           -0.7971j            1.0883           -0.1308\n",
       "AR.6            0.7410           +0.7971j            1.0883            0.1308\n",
       "AR.7            1.1364           -0.0000j            1.1364           -0.0000\n",
       "-----------------------------------------------------------------------------\n",
       "\"\"\""
      ]
     },
     "execution_count": 21,
     "metadata": {},
     "output_type": "execute_result"
    }
   ],
   "source": [
    "# Test AR model (p = 1 , q = 0)\n",
    "model = sm.tsa.arima_model.ARMA(df.Sales, (7, 0)).fit()\n",
    "\n",
    "model.summary()"
   ]
  },
  {
   "cell_type": "markdown",
   "metadata": {},
   "source": [
    "## Residuals"
   ]
  },
  {
   "cell_type": "markdown",
   "metadata": {},
   "source": [
    "To start to diagnose the model, we want to look at residuals.\n",
    "\n",
    "1. What are residuals?\n",
    "1. In linear regression, what did we expect of residuals?"
   ]
  },
  {
   "cell_type": "markdown",
   "metadata": {},
   "source": [
    "- Residuals are the errors of the model or how off our predictions are\n",
    "- Ideally, we want randomly distributed errors that are small\n",
    "- If the errors are large, our model does not perform well\n",
    "- If the errors have a pattern, particularly over time, we may have overlooked something in the model or have periods of time that are different than the rest of the dataset"
   ]
  },
  {
   "cell_type": "markdown",
   "metadata": {},
   "source": [
    "We can use `statsmodels` to plot the residuals."
   ]
  },
  {
   "cell_type": "code",
   "execution_count": 22,
   "metadata": {
    "collapsed": false
   },
   "outputs": [
    {
     "data": {
      "text/plain": [
       "<matplotlib.axes._subplots.AxesSubplot at 0x116fb1fd0>"
      ]
     },
     "execution_count": 22,
     "metadata": {},
     "output_type": "execute_result"
    },
    {
     "data": {
      "image/png": "[encoded data removed]",
      "text/plain": [
       "<matplotlib.figure.Figure at 0x1178fd908>"
      ]
     },
     "metadata": {},
     "output_type": "display_data"
    }
   ],
   "source": [
    "model.resid.plot()"
   ]
  },
  {
   "cell_type": "markdown",
   "metadata": {},
   "source": [
    "Our model considers a short period of time, so it does not take into account the longer seasonal pattern.  We can also plot the autocorrelations of the residuals.  In an ideal world, these would all be near 0 and appear random."
   ]
  },
  {
   "cell_type": "code",
   "execution_count": 24,
   "metadata": {
    "collapsed": false
   },
   "outputs": [
    {
     "data": {
      "image/png": "[encoded data removed]",
      "text/plain": [
       "<matplotlib.figure.Figure at 0x117c70898>"
      ]
     },
     "metadata": {},
     "output_type": "display_data"
    }
   ],
   "source": [
    "plot = plot_acf(model.resid, lags = 50)"
   ]
  },
  {
   "cell_type": "markdown",
   "metadata": {},
   "source": [
    "This plot shows a problem: the errors are increasing and decreasing every week in a clear pattern.  We may need to expand our model.  To expand this `AR` model to an `ARMA` model, we can include the moving average component as well. ARMA will incorporate greater sensitivity to fluctuation in the response variable values."
   ]
  },
  {
   "cell_type": "code",
   "execution_count": 26,
   "metadata": {
    "collapsed": false
   },
   "outputs": [
    {
     "data": {
      "text/html": [
       "<table class=\"simpletable\">\n",
       "<caption>ARMA Model Results</caption>\n",
       "<tr>\n",
       "  <th>Dep. Variable:</th>       <td>Sales</td>      <th>  No. Observations:  </th>    <td>942</td>   \n",
       "</tr>\n",
       "<tr>\n",
       "  <th>Model:</th>            <td>ARMA(1, 1)</td>    <th>  Log Likelihood     </th> <td>-8495.049</td>\n",
       "</tr>\n",
       "<tr>\n",
       "  <th>Method:</th>             <td>css-mle</td>     <th>  S.D. of innovations</th> <td>1996.498</td> \n",
       "</tr>\n",
       "<tr>\n",
       "  <th>Date:</th>          <td>Tue, 28 Jun 2016</td> <th>  AIC                </th> <td>16998.098</td>\n",
       "</tr>\n",
       "<tr>\n",
       "  <th>Time:</th>              <td>19:51:58</td>     <th>  BIC                </th> <td>17017.490</td>\n",
       "</tr>\n",
       "<tr>\n",
       "  <th>Sample:</th>           <td>07-31-2015</td>    <th>  HQIC               </th> <td>17005.489</td>\n",
       "</tr>\n",
       "<tr>\n",
       "  <th></th>                 <td>- 01-01-2013</td>   <th>                     </th>     <td> </td>    \n",
       "</tr>\n",
       "</table>\n",
       "<table class=\"simpletable\">\n",
       "<tr>\n",
       "       <td></td>          <th>coef</th>     <th>std err</th>      <th>z</th>      <th>P>|z|</th> <th>[95.0% Conf. Int.]</th> \n",
       "</tr>\n",
       "<tr>\n",
       "  <th>const</th>       <td> 3945.7049</td> <td>   55.525</td> <td>   71.061</td> <td> 0.000</td> <td> 3836.877  4054.533</td>\n",
       "</tr>\n",
       "<tr>\n",
       "  <th>ar.L1.Sales</th> <td>    0.0884</td> <td>    0.203</td> <td>    0.435</td> <td> 0.664</td> <td>   -0.310     0.487</td>\n",
       "</tr>\n",
       "<tr>\n",
       "  <th>ma.L1.Sales</th> <td>   -0.2220</td> <td>    0.198</td> <td>   -1.120</td> <td> 0.263</td> <td>   -0.611     0.167</td>\n",
       "</tr>\n",
       "</table>\n",
       "<table class=\"simpletable\">\n",
       "<caption>Roots</caption>\n",
       "<tr>\n",
       "    <td></td>   <th>           Real</th> <th>         Imaginary</th> <th>         Modulus</th> <th>        Frequency</th>\n",
       "</tr>\n",
       "<tr>\n",
       "  <th>AR.1</th>              11.3090                    +0.0000j                   11.3090                    0.0000     \n",
       "</tr>\n",
       "<tr>\n",
       "  <th>MA.1</th>               4.5035                    +0.0000j                    4.5035                    0.0000     \n",
       "</tr>\n",
       "</table>"
      ],
      "text/plain": [
       "<class 'statsmodels.iolib.summary.Summary'>\n",
       "\"\"\"\n",
       "                              ARMA Model Results                              \n",
       "==============================================================================\n",
       "Dep. Variable:                  Sales   No. Observations:                  942\n",
       "Model:                     ARMA(1, 1)   Log Likelihood               -8495.049\n",
       "Method:                       css-mle   S.D. of innovations           1996.498\n",
       "Date:                Tue, 28 Jun 2016   AIC                          16998.098\n",
       "Time:                        19:51:58   BIC                          17017.490\n",
       "Sample:                    07-31-2015   HQIC                         17005.489\n",
       "                         - 01-01-2013                                         \n",
       "===============================================================================\n",
       "                  coef    std err          z      P>|z|      [95.0% Conf. Int.]\n",
       "-------------------------------------------------------------------------------\n",
       "const        3945.7049     55.525     71.061      0.000      3836.877  4054.533\n",
       "ar.L1.Sales     0.0884      0.203      0.435      0.664        -0.310     0.487\n",
       "ma.L1.Sales    -0.2220      0.198     -1.120      0.263        -0.611     0.167\n",
       "                                    Roots                                    \n",
       "=============================================================================\n",
       "                 Real           Imaginary           Modulus         Frequency\n",
       "-----------------------------------------------------------------------------\n",
       "AR.1           11.3090           +0.0000j           11.3090            0.0000\n",
       "MA.1            4.5035           +0.0000j            4.5035            0.0000\n",
       "-----------------------------------------------------------------------------\n",
       "\"\"\""
      ]
     },
     "execution_count": 26,
     "metadata": {},
     "output_type": "execute_result"
    }
   ],
   "source": [
    "model = sm.tsa.arima_model.ARMA(df.Sales.astype(float), (1, 1)).fit()\n",
    "\n",
    "model.summary()"
   ]
  },
  {
   "cell_type": "markdown",
   "metadata": {},
   "source": [
    "Now we learn two coefficients, one for the `AR(1)` component and one for the `MA(1)` component."
   ]
  },
  {
   "cell_type": "markdown",
   "metadata": {},
   "source": [
    "## Activity\n",
    "\n",
    "1. Take a moment to look at the coefficients of our new model\n",
    "1. Offer an interpretation of this model"
   ]
  },
  {
   "cell_type": "markdown",
   "metadata": {},
   "source": [
    "Answer:"
   ]
  },
  {
   "cell_type": "markdown",
   "metadata": {},
   "source": [
    "We can also use statsmodels to fit `ARIMA` models.  Let's start by using `ARIMA(1, 0, 1)` to fit an `ARMA(1, 1)` model."
   ]
  },
  {
   "cell_type": "code",
   "execution_count": 27,
   "metadata": {
    "collapsed": false
   },
   "outputs": [
    {
     "data": {
      "text/html": [
       "<table class=\"simpletable\">\n",
       "<caption>ARMA Model Results</caption>\n",
       "<tr>\n",
       "  <th>Dep. Variable:</th>       <td>Sales</td>      <th>  No. Observations:  </th>    <td>942</td>   \n",
       "</tr>\n",
       "<tr>\n",
       "  <th>Model:</th>            <td>ARMA(1, 1)</td>    <th>  Log Likelihood     </th> <td>-8495.049</td>\n",
       "</tr>\n",
       "<tr>\n",
       "  <th>Method:</th>             <td>css-mle</td>     <th>  S.D. of innovations</th> <td>1996.498</td> \n",
       "</tr>\n",
       "<tr>\n",
       "  <th>Date:</th>          <td>Tue, 28 Jun 2016</td> <th>  AIC                </th> <td>16998.098</td>\n",
       "</tr>\n",
       "<tr>\n",
       "  <th>Time:</th>              <td>20:09:23</td>     <th>  BIC                </th> <td>17017.490</td>\n",
       "</tr>\n",
       "<tr>\n",
       "  <th>Sample:</th>           <td>07-31-2015</td>    <th>  HQIC               </th> <td>17005.489</td>\n",
       "</tr>\n",
       "<tr>\n",
       "  <th></th>                 <td>- 01-01-2013</td>   <th>                     </th>     <td> </td>    \n",
       "</tr>\n",
       "</table>\n",
       "<table class=\"simpletable\">\n",
       "<tr>\n",
       "       <td></td>          <th>coef</th>     <th>std err</th>      <th>z</th>      <th>P>|z|</th> <th>[95.0% Conf. Int.]</th> \n",
       "</tr>\n",
       "<tr>\n",
       "  <th>const</th>       <td> 3945.7049</td> <td>   55.525</td> <td>   71.061</td> <td> 0.000</td> <td> 3836.877  4054.533</td>\n",
       "</tr>\n",
       "<tr>\n",
       "  <th>ar.L1.Sales</th> <td>    0.0884</td> <td>    0.203</td> <td>    0.435</td> <td> 0.664</td> <td>   -0.310     0.487</td>\n",
       "</tr>\n",
       "<tr>\n",
       "  <th>ma.L1.Sales</th> <td>   -0.2220</td> <td>    0.198</td> <td>   -1.120</td> <td> 0.263</td> <td>   -0.611     0.167</td>\n",
       "</tr>\n",
       "</table>\n",
       "<table class=\"simpletable\">\n",
       "<caption>Roots</caption>\n",
       "<tr>\n",
       "    <td></td>   <th>           Real</th> <th>         Imaginary</th> <th>         Modulus</th> <th>        Frequency</th>\n",
       "</tr>\n",
       "<tr>\n",
       "  <th>AR.1</th>              11.3090                    +0.0000j                   11.3090                    0.0000     \n",
       "</tr>\n",
       "<tr>\n",
       "  <th>MA.1</th>               4.5035                    +0.0000j                    4.5035                    0.0000     \n",
       "</tr>\n",
       "</table>"
      ],
      "text/plain": [
       "<class 'statsmodels.iolib.summary.Summary'>\n",
       "\"\"\"\n",
       "                              ARMA Model Results                              \n",
       "==============================================================================\n",
       "Dep. Variable:                  Sales   No. Observations:                  942\n",
       "Model:                     ARMA(1, 1)   Log Likelihood               -8495.049\n",
       "Method:                       css-mle   S.D. of innovations           1996.498\n",
       "Date:                Tue, 28 Jun 2016   AIC                          16998.098\n",
       "Time:                        20:09:23   BIC                          17017.490\n",
       "Sample:                    07-31-2015   HQIC                         17005.489\n",
       "                         - 01-01-2013                                         \n",
       "===============================================================================\n",
       "                  coef    std err          z      P>|z|      [95.0% Conf. Int.]\n",
       "-------------------------------------------------------------------------------\n",
       "const        3945.7049     55.525     71.061      0.000      3836.877  4054.533\n",
       "ar.L1.Sales     0.0884      0.203      0.435      0.664        -0.310     0.487\n",
       "ma.L1.Sales    -0.2220      0.198     -1.120      0.263        -0.611     0.167\n",
       "                                    Roots                                    \n",
       "=============================================================================\n",
       "                 Real           Imaginary           Modulus         Frequency\n",
       "-----------------------------------------------------------------------------\n",
       "AR.1           11.3090           +0.0000j           11.3090            0.0000\n",
       "MA.1            4.5035           +0.0000j            4.5035            0.0000\n",
       "-----------------------------------------------------------------------------\n",
       "\"\"\""
      ]
     },
     "execution_count": 27,
     "metadata": {},
     "output_type": "execute_result"
    }
   ],
   "source": [
    "model = sm.tsa.arima_model.ARIMA(df.Sales, (1, 0, 1)).fit()\n",
    "\n",
    "model.summary()"
   ]
  },
  {
   "cell_type": "markdown",
   "metadata": {},
   "source": [
    "We can see that this model is the same as our previous ARMA model.  We can also fit a true ARIMA model to predict the difference of the series."
   ]
  },
  {
   "cell_type": "code",
   "execution_count": 28,
   "metadata": {
    "collapsed": false
   },
   "outputs": [
    {
     "data": {
      "text/html": [
       "<table class=\"simpletable\">\n",
       "<caption>ARIMA Model Results</caption>\n",
       "<tr>\n",
       "  <th>Dep. Variable:</th>      <td>D.Sales</td>     <th>  No. Observations:  </th>    <td>780</td>   \n",
       "</tr>\n",
       "<tr>\n",
       "  <th>Model:</th>          <td>ARIMA(1, 1, 1)</td>  <th>  Log Likelihood     </th> <td>-6261.011</td>\n",
       "</tr>\n",
       "<tr>\n",
       "  <th>Method:</th>             <td>css-mle</td>     <th>  S.D. of innovations</th>  <td>738.624</td> \n",
       "</tr>\n",
       "<tr>\n",
       "  <th>Date:</th>          <td>Tue, 28 Jun 2016</td> <th>  AIC                </th> <td>12530.022</td>\n",
       "</tr>\n",
       "<tr>\n",
       "  <th>Time:</th>              <td>20:09:24</td>     <th>  BIC                </th> <td>12548.659</td>\n",
       "</tr>\n",
       "<tr>\n",
       "  <th>Sample:</th>           <td>07-30-2015</td>    <th>  HQIC               </th> <td>12537.190</td>\n",
       "</tr>\n",
       "<tr>\n",
       "  <th></th>                 <td>- 01-02-2013</td>   <th>                     </th>     <td> </td>    \n",
       "</tr>\n",
       "</table>\n",
       "<table class=\"simpletable\">\n",
       "<tr>\n",
       "        <td></td>           <th>coef</th>     <th>std err</th>      <th>z</th>      <th>P>|z|</th> <th>[95.0% Conf. Int.]</th> \n",
       "</tr>\n",
       "<tr>\n",
       "  <th>const</th>         <td>    0.5108</td> <td>    0.364</td> <td>    1.405</td> <td> 0.160</td> <td>   -0.202     1.223</td>\n",
       "</tr>\n",
       "<tr>\n",
       "  <th>ar.L1.D.Sales</th> <td>    0.6801</td> <td>    0.026</td> <td>   25.801</td> <td> 0.000</td> <td>    0.628     0.732</td>\n",
       "</tr>\n",
       "<tr>\n",
       "  <th>ma.L1.D.Sales</th> <td>   -1.0000</td> <td>    0.004</td> <td> -240.411</td> <td> 0.000</td> <td>   -1.008    -0.992</td>\n",
       "</tr>\n",
       "</table>\n",
       "<table class=\"simpletable\">\n",
       "<caption>Roots</caption>\n",
       "<tr>\n",
       "    <td></td>   <th>           Real</th> <th>         Imaginary</th> <th>         Modulus</th> <th>        Frequency</th>\n",
       "</tr>\n",
       "<tr>\n",
       "  <th>AR.1</th>               1.4703                    +0.0000j                    1.4703                    0.0000     \n",
       "</tr>\n",
       "<tr>\n",
       "  <th>MA.1</th>               1.0000                    +0.0000j                    1.0000                    0.0000     \n",
       "</tr>\n",
       "</table>"
      ],
      "text/plain": [
       "<class 'statsmodels.iolib.summary.Summary'>\n",
       "\"\"\"\n",
       "                             ARIMA Model Results                              \n",
       "==============================================================================\n",
       "Dep. Variable:                D.Sales   No. Observations:                  780\n",
       "Model:                 ARIMA(1, 1, 1)   Log Likelihood               -6261.011\n",
       "Method:                       css-mle   S.D. of innovations            738.624\n",
       "Date:                Tue, 28 Jun 2016   AIC                          12530.022\n",
       "Time:                        20:09:24   BIC                          12548.659\n",
       "Sample:                    07-30-2015   HQIC                         12537.190\n",
       "                         - 01-02-2013                                         \n",
       "=================================================================================\n",
       "                    coef    std err          z      P>|z|      [95.0% Conf. Int.]\n",
       "---------------------------------------------------------------------------------\n",
       "const             0.5108      0.364      1.405      0.160        -0.202     1.223\n",
       "ar.L1.D.Sales     0.6801      0.026     25.801      0.000         0.628     0.732\n",
       "ma.L1.D.Sales    -1.0000      0.004   -240.411      0.000        -1.008    -0.992\n",
       "                                    Roots                                    \n",
       "=============================================================================\n",
       "                 Real           Imaginary           Modulus         Frequency\n",
       "-----------------------------------------------------------------------------\n",
       "AR.1            1.4703           +0.0000j            1.4703            0.0000\n",
       "MA.1            1.0000           +0.0000j            1.0000            0.0000\n",
       "-----------------------------------------------------------------------------\n",
       "\"\"\""
      ]
     },
     "execution_count": 28,
     "metadata": {},
     "output_type": "execute_result"
    }
   ],
   "source": [
    "model = sm.tsa.arima_model.ARIMA(df[df.Open == 1].Sales, (1, 1, 1)).fit()\n",
    "\n",
    "model.summary()"
   ]
  },
  {
   "cell_type": "markdown",
   "metadata": {},
   "source": [
    "We can remove the MA component since it does not appear to be useful."
   ]
  },
  {
   "cell_type": "code",
   "execution_count": 29,
   "metadata": {
    "collapsed": false
   },
   "outputs": [
    {
     "data": {
      "text/html": [
       "<table class=\"simpletable\">\n",
       "<caption>ARIMA Model Results</caption>\n",
       "<tr>\n",
       "  <th>Dep. Variable:</th>      <td>D.Sales</td>     <th>  No. Observations:  </th>    <td>780</td>   \n",
       "</tr>\n",
       "<tr>\n",
       "  <th>Model:</th>          <td>ARIMA(1, 1, 0)</td>  <th>  Log Likelihood     </th> <td>-6313.616</td>\n",
       "</tr>\n",
       "<tr>\n",
       "  <th>Method:</th>             <td>css-mle</td>     <th>  S.D. of innovations</th>  <td>792.680</td> \n",
       "</tr>\n",
       "<tr>\n",
       "  <th>Date:</th>          <td>Tue, 28 Jun 2016</td> <th>  AIC                </th> <td>12633.233</td>\n",
       "</tr>\n",
       "<tr>\n",
       "  <th>Time:</th>              <td>20:09:25</td>     <th>  BIC                </th> <td>12647.211</td>\n",
       "</tr>\n",
       "<tr>\n",
       "  <th>Sample:</th>           <td>07-30-2015</td>    <th>  HQIC               </th> <td>12638.609</td>\n",
       "</tr>\n",
       "<tr>\n",
       "  <th></th>                 <td>- 01-02-2013</td>   <th>                     </th>     <td> </td>    \n",
       "</tr>\n",
       "</table>\n",
       "<table class=\"simpletable\">\n",
       "<tr>\n",
       "        <td></td>           <th>coef</th>     <th>std err</th>      <th>z</th>      <th>P>|z|</th> <th>[95.0% Conf. Int.]</th> \n",
       "</tr>\n",
       "<tr>\n",
       "  <th>const</th>         <td>    0.2161</td> <td>   24.028</td> <td>    0.009</td> <td> 0.993</td> <td>  -46.877    47.309</td>\n",
       "</tr>\n",
       "<tr>\n",
       "  <th>ar.L1.D.Sales</th> <td>   -0.1815</td> <td>    0.035</td> <td>   -5.150</td> <td> 0.000</td> <td>   -0.251    -0.112</td>\n",
       "</tr>\n",
       "</table>\n",
       "<table class=\"simpletable\">\n",
       "<caption>Roots</caption>\n",
       "<tr>\n",
       "    <td></td>   <th>           Real</th> <th>         Imaginary</th> <th>         Modulus</th> <th>        Frequency</th>\n",
       "</tr>\n",
       "<tr>\n",
       "  <th>AR.1</th>              -5.5103                    +0.0000j                    5.5103                    0.5000     \n",
       "</tr>\n",
       "</table>"
      ],
      "text/plain": [
       "<class 'statsmodels.iolib.summary.Summary'>\n",
       "\"\"\"\n",
       "                             ARIMA Model Results                              \n",
       "==============================================================================\n",
       "Dep. Variable:                D.Sales   No. Observations:                  780\n",
       "Model:                 ARIMA(1, 1, 0)   Log Likelihood               -6313.616\n",
       "Method:                       css-mle   S.D. of innovations            792.680\n",
       "Date:                Tue, 28 Jun 2016   AIC                          12633.233\n",
       "Time:                        20:09:25   BIC                          12647.211\n",
       "Sample:                    07-30-2015   HQIC                         12638.609\n",
       "                         - 01-02-2013                                         \n",
       "=================================================================================\n",
       "                    coef    std err          z      P>|z|      [95.0% Conf. Int.]\n",
       "---------------------------------------------------------------------------------\n",
       "const             0.2161     24.028      0.009      0.993       -46.877    47.309\n",
       "ar.L1.D.Sales    -0.1815      0.035     -5.150      0.000        -0.251    -0.112\n",
       "                                    Roots                                    \n",
       "=============================================================================\n",
       "                 Real           Imaginary           Modulus         Frequency\n",
       "-----------------------------------------------------------------------------\n",
       "AR.1           -5.5103           +0.0000j            5.5103            0.5000\n",
       "-----------------------------------------------------------------------------\n",
       "\"\"\""
      ]
     },
     "execution_count": 29,
     "metadata": {},
     "output_type": "execute_result"
    }
   ],
   "source": [
    "model = sm.tsa.arima_model.ARIMA(df[df.Open == 1].Sales, (1, 1, 0)).fit()\n",
    "\n",
    "model.summary()"
   ]
  },
  {
   "cell_type": "markdown",
   "metadata": {},
   "source": [
    "We now have an `AR(1)` model on the differenced series with a coefficient of -0.18."
   ]
  },
  {
   "cell_type": "markdown",
   "metadata": {},
   "source": [
    "## Activity"
   ]
  },
  {
   "cell_type": "markdown",
   "metadata": {},
   "source": [
    "1. Does this model match the lag 1 autocorrelation of the differenced series?\n",
    "1. Is the data stationary?"
   ]
  },
  {
   "cell_type": "code",
   "execution_count": 30,
   "metadata": {
    "collapsed": false
   },
   "outputs": [
    {
     "data": {
      "text/plain": [
       "-0.18144101447610667"
      ]
     },
     "execution_count": 30,
     "metadata": {},
     "output_type": "execute_result"
    }
   ],
   "source": [
    "df[df.Open == 1].Sales.diff(1).autocorr(1)"
   ]
  },
  {
   "cell_type": "markdown",
   "metadata": {},
   "source": [
    "With our models, we can also plot our predictions against the true series using the plot_predict function: We can compare the last 50 days of true values against our predictions."
   ]
  },
  {
   "cell_type": "code",
   "execution_count": 31,
   "metadata": {
    "collapsed": false
   },
   "outputs": [
    {
     "name": "stderr",
     "output_type": "stream",
     "text": [
      "//anaconda/lib/python3.5/site-packages/statsmodels/tsa/arima_model.py:1847: FutureWarning: TimeSeries is deprecated. Please use Series\n",
      "  forecast = TimeSeries(forecast, index=self.data.predict_dates)\n"
     ]
    },
    {
     "data": {
      "image/png": "[encoded data removed]",
      "text/plain": [
       "<matplotlib.figure.Figure at 0x117e789e8>"
      ]
     },
     "metadata": {},
     "output_type": "display_data"
    }
   ],
   "source": [
    "plot = model.plot_predict(1, 50)"
   ]
  },
  {
   "cell_type": "markdown",
   "metadata": {},
   "source": [
    "The function takes two arguments, the start and end index of the dataframe to plot.  Here, we are plotting the last 50 values.  To plot earlier values with our predictions continuing where the true values stop, we can do the following."
   ]
  },
  {
   "cell_type": "code",
   "execution_count": 32,
   "metadata": {
    "collapsed": false
   },
   "outputs": [
    {
     "name": "stderr",
     "output_type": "stream",
     "text": [
      "//anaconda/lib/python3.5/site-packages/ipykernel/__main__.py:2: UserWarning: Boolean Series key will be reindexed to match DataFrame index.\n",
      "  from ipykernel import kernelapp as app\n",
      "//anaconda/lib/python3.5/site-packages/statsmodels/tsa/arima_model.py:1847: FutureWarning: TimeSeries is deprecated. Please use Series\n",
      "  forecast = TimeSeries(forecast, index=self.data.predict_dates)\n"
     ]
    },
    {
     "data": {
      "image/png": "[encoded data removed]",
      "text/plain": [
       "<matplotlib.figure.Figure at 0x117dcf668>"
      ]
     },
     "metadata": {},
     "output_type": "display_data"
    }
   ],
   "source": [
    "fig, ax = plt.subplots()\n",
    "ax = df['2014'][df.Open == 1].plot(ax = ax)\n",
    "\n",
    "fig = model.plot_predict(1, 200, ax = ax, plot_insample = False)"
   ]
  },
  {
   "cell_type": "markdown",
   "metadata": {},
   "source": [
    "This plots true values in 2014 and our predictions 200 days out from 2014."
   ]
  },
  {
   "cell_type": "markdown",
   "metadata": {},
   "source": [
    "## Activity\n",
    "\n",
    "We can revisit our diagnostics to check that our models are working well.\n",
    "\n",
    "1. Plot the residuals and autocorrelation of the residuals.\n",
    "1. Are there patterns or outliers?"
   ]
  },
  {
   "cell_type": "markdown",
   "metadata": {},
   "source": [
    "The two previous problems remain:\n",
    "(1) large seasonal errors and (2) errors with high autocorrelation."
   ]
  },
  {
   "cell_type": "markdown",
   "metadata": {},
   "source": [
    "We can adjust the AR component of the model to adjust for a piece of this.  Let's increase the lag to 7."
   ]
  },
  {
   "cell_type": "code",
   "execution_count": 35,
   "metadata": {
    "collapsed": false
   },
   "outputs": [
    {
     "data": {
      "text/html": [
       "<table class=\"simpletable\">\n",
       "<caption>ARIMA Model Results</caption>\n",
       "<tr>\n",
       "  <th>Dep. Variable:</th>      <td>D.Sales</td>     <th>  No. Observations:  </th>    <td>780</td>   \n",
       "</tr>\n",
       "<tr>\n",
       "  <th>Model:</th>          <td>ARIMA(7, 1, 2)</td>  <th>  Log Likelihood     </th> <td>-6221.636</td>\n",
       "</tr>\n",
       "<tr>\n",
       "  <th>Method:</th>             <td>css-mle</td>     <th>  S.D. of innovations</th>  <td>703.783</td> \n",
       "</tr>\n",
       "<tr>\n",
       "  <th>Date:</th>          <td>Tue, 28 Jun 2016</td> <th>  AIC                </th> <td>12465.272</td>\n",
       "</tr>\n",
       "<tr>\n",
       "  <th>Time:</th>              <td>20:11:11</td>     <th>  BIC                </th> <td>12516.524</td>\n",
       "</tr>\n",
       "<tr>\n",
       "  <th>Sample:</th>           <td>07-30-2015</td>    <th>  HQIC               </th> <td>12484.984</td>\n",
       "</tr>\n",
       "<tr>\n",
       "  <th></th>                 <td>- 01-02-2013</td>   <th>                     </th>     <td> </td>    \n",
       "</tr>\n",
       "</table>\n",
       "<table class=\"simpletable\">\n",
       "<tr>\n",
       "        <td></td>           <th>coef</th>     <th>std err</th>      <th>z</th>      <th>P>|z|</th> <th>[95.0% Conf. Int.]</th> \n",
       "</tr>\n",
       "<tr>\n",
       "  <th>const</th>         <td>    0.6862</td> <td>    4.555</td> <td>    0.151</td> <td> 0.880</td> <td>   -8.241     9.613</td>\n",
       "</tr>\n",
       "<tr>\n",
       "  <th>ar.L1.D.Sales</th> <td>    0.8404</td> <td>    0.211</td> <td>    3.982</td> <td> 0.000</td> <td>    0.427     1.254</td>\n",
       "</tr>\n",
       "<tr>\n",
       "  <th>ar.L2.D.Sales</th> <td>   -0.1503</td> <td>    0.145</td> <td>   -1.038</td> <td> 0.300</td> <td>   -0.434     0.134</td>\n",
       "</tr>\n",
       "<tr>\n",
       "  <th>ar.L3.D.Sales</th> <td>   -0.1831</td> <td>    0.046</td> <td>   -3.976</td> <td> 0.000</td> <td>   -0.273    -0.093</td>\n",
       "</tr>\n",
       "<tr>\n",
       "  <th>ar.L4.D.Sales</th> <td>    0.2557</td> <td>    0.060</td> <td>    4.296</td> <td> 0.000</td> <td>    0.139     0.372</td>\n",
       "</tr>\n",
       "<tr>\n",
       "  <th>ar.L5.D.Sales</th> <td>   -0.3381</td> <td>    0.067</td> <td>   -5.018</td> <td> 0.000</td> <td>   -0.470    -0.206</td>\n",
       "</tr>\n",
       "<tr>\n",
       "  <th>ar.L6.D.Sales</th> <td>    0.0691</td> <td>    0.074</td> <td>    0.931</td> <td> 0.352</td> <td>   -0.076     0.215</td>\n",
       "</tr>\n",
       "<tr>\n",
       "  <th>ar.L7.D.Sales</th> <td>   -0.0656</td> <td>    0.050</td> <td>   -1.325</td> <td> 0.185</td> <td>   -0.163     0.031</td>\n",
       "</tr>\n",
       "<tr>\n",
       "  <th>ma.L1.D.Sales</th> <td>   -1.1350</td> <td>    0.209</td> <td>   -5.443</td> <td> 0.000</td> <td>   -1.544    -0.726</td>\n",
       "</tr>\n",
       "<tr>\n",
       "  <th>ma.L2.D.Sales</th> <td>    0.2373</td> <td>    0.197</td> <td>    1.203</td> <td> 0.229</td> <td>   -0.149     0.624</td>\n",
       "</tr>\n",
       "</table>\n",
       "<table class=\"simpletable\">\n",
       "<caption>Roots</caption>\n",
       "<tr>\n",
       "    <td></td>   <th>           Real</th> <th>         Imaginary</th> <th>         Modulus</th> <th>        Frequency</th>\n",
       "</tr>\n",
       "<tr>\n",
       "  <th>AR.1</th>              -1.2128                    -0.0000j                    1.2128                   -0.5000     \n",
       "</tr>\n",
       "<tr>\n",
       "  <th>AR.2</th>               1.0141                    -0.4950j                    1.1285                   -0.0723     \n",
       "</tr>\n",
       "<tr>\n",
       "  <th>AR.3</th>               1.0141                    +0.4950j                    1.1285                    0.0723     \n",
       "</tr>\n",
       "<tr>\n",
       "  <th>AR.4</th>              -0.1357                    -1.7545j                    1.7597                   -0.2623     \n",
       "</tr>\n",
       "<tr>\n",
       "  <th>AR.5</th>              -0.1357                    +1.7545j                    1.7597                    0.2623     \n",
       "</tr>\n",
       "<tr>\n",
       "  <th>AR.6</th>               0.2547                    -1.7666j                    1.7848                   -0.2272     \n",
       "</tr>\n",
       "<tr>\n",
       "  <th>AR.7</th>               0.2547                    +1.7666j                    1.7848                    0.2272     \n",
       "</tr>\n",
       "<tr>\n",
       "  <th>MA.1</th>               1.1647                    +0.0000j                    1.1647                    0.0000     \n",
       "</tr>\n",
       "<tr>\n",
       "  <th>MA.2</th>               3.6179                    +0.0000j                    3.6179                    0.0000     \n",
       "</tr>\n",
       "</table>"
      ],
      "text/plain": [
       "<class 'statsmodels.iolib.summary.Summary'>\n",
       "\"\"\"\n",
       "                             ARIMA Model Results                              \n",
       "==============================================================================\n",
       "Dep. Variable:                D.Sales   No. Observations:                  780\n",
       "Model:                 ARIMA(7, 1, 2)   Log Likelihood               -6221.636\n",
       "Method:                       css-mle   S.D. of innovations            703.783\n",
       "Date:                Tue, 28 Jun 2016   AIC                          12465.272\n",
       "Time:                        20:11:11   BIC                          12516.524\n",
       "Sample:                    07-30-2015   HQIC                         12484.984\n",
       "                         - 01-02-2013                                         \n",
       "=================================================================================\n",
       "                    coef    std err          z      P>|z|      [95.0% Conf. Int.]\n",
       "---------------------------------------------------------------------------------\n",
       "const             0.6862      4.555      0.151      0.880        -8.241     9.613\n",
       "ar.L1.D.Sales     0.8404      0.211      3.982      0.000         0.427     1.254\n",
       "ar.L2.D.Sales    -0.1503      0.145     -1.038      0.300        -0.434     0.134\n",
       "ar.L3.D.Sales    -0.1831      0.046     -3.976      0.000        -0.273    -0.093\n",
       "ar.L4.D.Sales     0.2557      0.060      4.296      0.000         0.139     0.372\n",
       "ar.L5.D.Sales    -0.3381      0.067     -5.018      0.000        -0.470    -0.206\n",
       "ar.L6.D.Sales     0.0691      0.074      0.931      0.352        -0.076     0.215\n",
       "ar.L7.D.Sales    -0.0656      0.050     -1.325      0.185        -0.163     0.031\n",
       "ma.L1.D.Sales    -1.1350      0.209     -5.443      0.000        -1.544    -0.726\n",
       "ma.L2.D.Sales     0.2373      0.197      1.203      0.229        -0.149     0.624\n",
       "                                    Roots                                    \n",
       "=============================================================================\n",
       "                 Real           Imaginary           Modulus         Frequency\n",
       "-----------------------------------------------------------------------------\n",
       "AR.1           -1.2128           -0.0000j            1.2128           -0.5000\n",
       "AR.2            1.0141           -0.4950j            1.1285           -0.0723\n",
       "AR.3            1.0141           +0.4950j            1.1285            0.0723\n",
       "AR.4           -0.1357           -1.7545j            1.7597           -0.2623\n",
       "AR.5           -0.1357           +1.7545j            1.7597            0.2623\n",
       "AR.6            0.2547           -1.7666j            1.7848           -0.2272\n",
       "AR.7            0.2547           +1.7666j            1.7848            0.2272\n",
       "MA.1            1.1647           +0.0000j            1.1647            0.0000\n",
       "MA.2            3.6179           +0.0000j            3.6179            0.0000\n",
       "-----------------------------------------------------------------------------\n",
       "\"\"\""
      ]
     },
     "execution_count": 35,
     "metadata": {},
     "output_type": "execute_result"
    }
   ],
   "source": [
    "model = sm.tsa.arima_model.ARIMA(df[df.Open == 1].Sales, (7, 1, 2)).fit()\n",
    "\n",
    "model.summary()"
   ]
  },
  {
   "cell_type": "code",
   "execution_count": 36,
   "metadata": {
    "collapsed": false
   },
   "outputs": [
    {
     "data": {
      "image/png": "[encoded data removed]",
      "text/plain": [
       "<matplotlib.figure.Figure at 0x1180e32b0>"
      ]
     },
     "metadata": {},
     "output_type": "display_data"
    }
   ],
   "source": [
    "plot = plot_acf(model.resid, lags = 50)"
   ]
  },
  {
   "cell_type": "markdown",
   "metadata": {},
   "source": [
    "This removes some of the autocorrelation in the residuals but large discrepancies still exist.\n",
    "\n",
    "However, they exist where we are breaking our model assumptions."
   ]
  },
  {
   "cell_type": "markdown",
   "metadata": {},
   "source": [
    "## Activity\n",
    "\n",
    "1. Alter the time period of predictions and the `p`, `d`, and `q` parameters\n",
    "1. Do any of these improve diagnostics?\n",
    "1. What does changing `p` and `q` imply based upon the autocorrelation plot?\n",
    "1. How about changing `d`?"
   ]
  },
  {
   "cell_type": "markdown",
   "metadata": {},
   "source": [
    "Answer:\n",
    "Increasing p increases the dependency on previous values further (longer lag). But our autocorrelation plots show this isn’t necessary past a certain point.\n",
    "Increasing q increases the likelihood of an unexpected jump at a handful of points. The autocorrelation plots show this doesn’t help past a certain point.\n",
    "Increasing d increases differencing, but d = 1 moves our data towards stationarity (other than a few points).  d = 2 would imply an exponential trend which we don’t have here."
   ]
  },
  {
   "cell_type": "markdown",
   "metadata": {},
   "source": [
    "There are variants of ARIMA that will better handle the seasonal aspect of our data.  This is referred to as Seasonal ARIMA.\n",
    "\n",
    "These models fit two ARIMA models, one on the current frequency (daily in our example) and another on the seasonal frequency (maybe monthly or yearly patterns).\n",
    "\n",
    "Additionally, issues with seasonality could be handled by preprocessing tricks such as detrending."
   ]
  }
 ],
 "metadata": {
  "kernelspec": {
   "display_name": "Python 3",
   "language": "python",
   "name": "python3"
  },
  "language_info": {
   "codemirror_mode": {
    "name": "ipython",
    "version": 3
   },
   "file_extension": ".py",
   "mimetype": "text/x-python",
   "name": "python",
   "nbconvert_exporter": "python",
   "pygments_lexer": "ipython3",
   "version": "3.5.1"
  }
 },
 "nbformat": 4,
 "nbformat_minor": 0
}
