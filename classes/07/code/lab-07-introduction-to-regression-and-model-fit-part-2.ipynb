{
 "cells": [
  {
   "cell_type": "markdown",
   "metadata": {},
   "source": [
    "# DS-SF-23 | Lab 07 | Introduction to Regression and Model Fit, Part 2 | Answer Key"
   ]
  },
  {
   "cell_type": "code",
   "execution_count": 140,
   "metadata": {
    "collapsed": false
   },
   "outputs": [],
   "source": [
    "import os\n",
    "import numpy as np\n",
    "import pandas as pd\n",
    "from sklearn import feature_selection, linear_model\n",
    "\n",
    "pd.set_option('display.max_rows', 10)\n",
    "pd.set_option('display.notebook_repr_html', True)\n",
    "pd.set_option('display.max_columns', 10)"
   ]
  },
  {
   "cell_type": "code",
   "execution_count": 141,
   "metadata": {
    "collapsed": false
   },
   "outputs": [],
   "source": [
    "df = pd.read_csv(os.path.join('..', 'datasets', 'credit.csv'))"
   ]
  },
  {
   "cell_type": "code",
   "execution_count": 142,
   "metadata": {
    "collapsed": false
   },
   "outputs": [
    {
     "data": {
      "text/html": [
       "<div>\n",
       "<table border=\"1\" class=\"dataframe\">\n",
       "  <thead>\n",
       "    <tr style=\"text-align: right;\">\n",
       "      <th></th>\n",
       "      <th>Income</th>\n",
       "      <th>Rating</th>\n",
       "      <th>Cards</th>\n",
       "      <th>Age</th>\n",
       "      <th>Education</th>\n",
       "      <th>Gender</th>\n",
       "      <th>Student</th>\n",
       "      <th>Married</th>\n",
       "      <th>Ethnicity</th>\n",
       "      <th>Balance</th>\n",
       "    </tr>\n",
       "  </thead>\n",
       "  <tbody>\n",
       "    <tr>\n",
       "      <th>0</th>\n",
       "      <td>14.891</td>\n",
       "      <td>283</td>\n",
       "      <td>2</td>\n",
       "      <td>34</td>\n",
       "      <td>11</td>\n",
       "      <td>Male</td>\n",
       "      <td>No</td>\n",
       "      <td>Yes</td>\n",
       "      <td>Caucasian</td>\n",
       "      <td>333</td>\n",
       "    </tr>\n",
       "    <tr>\n",
       "      <th>1</th>\n",
       "      <td>106.025</td>\n",
       "      <td>483</td>\n",
       "      <td>3</td>\n",
       "      <td>82</td>\n",
       "      <td>15</td>\n",
       "      <td>Female</td>\n",
       "      <td>Yes</td>\n",
       "      <td>Yes</td>\n",
       "      <td>Asian</td>\n",
       "      <td>903</td>\n",
       "    </tr>\n",
       "    <tr>\n",
       "      <th>2</th>\n",
       "      <td>104.593</td>\n",
       "      <td>514</td>\n",
       "      <td>4</td>\n",
       "      <td>71</td>\n",
       "      <td>11</td>\n",
       "      <td>Male</td>\n",
       "      <td>No</td>\n",
       "      <td>No</td>\n",
       "      <td>Asian</td>\n",
       "      <td>580</td>\n",
       "    </tr>\n",
       "    <tr>\n",
       "      <th>3</th>\n",
       "      <td>148.924</td>\n",
       "      <td>681</td>\n",
       "      <td>3</td>\n",
       "      <td>36</td>\n",
       "      <td>11</td>\n",
       "      <td>Female</td>\n",
       "      <td>No</td>\n",
       "      <td>No</td>\n",
       "      <td>Asian</td>\n",
       "      <td>964</td>\n",
       "    </tr>\n",
       "    <tr>\n",
       "      <th>4</th>\n",
       "      <td>55.882</td>\n",
       "      <td>357</td>\n",
       "      <td>2</td>\n",
       "      <td>68</td>\n",
       "      <td>16</td>\n",
       "      <td>Male</td>\n",
       "      <td>No</td>\n",
       "      <td>Yes</td>\n",
       "      <td>Caucasian</td>\n",
       "      <td>331</td>\n",
       "    </tr>\n",
       "  </tbody>\n",
       "</table>\n",
       "</div>"
      ],
      "text/plain": [
       "    Income  Rating  Cards  Age  Education  Gender Student Married  Ethnicity  \\\n",
       "0   14.891     283      2   34         11    Male      No     Yes  Caucasian   \n",
       "1  106.025     483      3   82         15  Female     Yes     Yes      Asian   \n",
       "2  104.593     514      4   71         11    Male      No      No      Asian   \n",
       "3  148.924     681      3   36         11  Female      No      No      Asian   \n",
       "4   55.882     357      2   68         16    Male      No     Yes  Caucasian   \n",
       "\n",
       "   Balance  \n",
       "0      333  \n",
       "1      903  \n",
       "2      580  \n",
       "3      964  \n",
       "4      331  "
      ]
     },
     "execution_count": 142,
     "metadata": {},
     "output_type": "execute_result"
    }
   ],
   "source": [
    "df.head()"
   ]
  },
  {
   "cell_type": "markdown",
   "metadata": {},
   "source": [
    "A description of the dataset is as follows:\n",
    "\n",
    "- Income (in thousands of dollars)\n",
    "- Rating: Credit score rating\n",
    "- Cards: Number of Credit cards owned\n",
    "- Age\n",
    "- Education: Years of Education\n",
    "- Gender: Male/Female\n",
    "- Student: Yes/No\n",
    "- Married: Yes/No\n",
    "- Ethnicity: African American/Asian/Caucasian\n",
    "- Balance: Average credit card debt"
   ]
  },
  {
   "cell_type": "markdown",
   "metadata": {},
   "source": [
    "> ## Question 1.  Let's explore the quantitative variables that affect `Balance`.  From your preliminary analysis, which 2 variables seem to affect `Balance` the most?  Our goal is interpretation; can we use these 2 variables simultaneously?  Why or why not?"
   ]
  },
  {
   "cell_type": "code",
   "execution_count": 143,
   "metadata": {
    "collapsed": false
   },
   "outputs": [
    {
     "data": {
      "text/html": [
       "<div>\n",
       "<table border=\"1\" class=\"dataframe\">\n",
       "  <thead>\n",
       "    <tr style=\"text-align: right;\">\n",
       "      <th></th>\n",
       "      <th>Income</th>\n",
       "      <th>Rating</th>\n",
       "      <th>Cards</th>\n",
       "      <th>Age</th>\n",
       "      <th>Education</th>\n",
       "      <th>Balance</th>\n",
       "    </tr>\n",
       "  </thead>\n",
       "  <tbody>\n",
       "    <tr>\n",
       "      <th>Income</th>\n",
       "      <td>1.000000</td>\n",
       "      <td>0.791378</td>\n",
       "      <td>-0.018273</td>\n",
       "      <td>0.175338</td>\n",
       "      <td>-0.027692</td>\n",
       "      <td>0.463656</td>\n",
       "    </tr>\n",
       "    <tr>\n",
       "      <th>Rating</th>\n",
       "      <td>0.791378</td>\n",
       "      <td>1.000000</td>\n",
       "      <td>0.053239</td>\n",
       "      <td>0.103165</td>\n",
       "      <td>-0.030136</td>\n",
       "      <td>0.863625</td>\n",
       "    </tr>\n",
       "    <tr>\n",
       "      <th>Cards</th>\n",
       "      <td>-0.018273</td>\n",
       "      <td>0.053239</td>\n",
       "      <td>1.000000</td>\n",
       "      <td>0.042948</td>\n",
       "      <td>-0.051084</td>\n",
       "      <td>0.086456</td>\n",
       "    </tr>\n",
       "    <tr>\n",
       "      <th>Age</th>\n",
       "      <td>0.175338</td>\n",
       "      <td>0.103165</td>\n",
       "      <td>0.042948</td>\n",
       "      <td>1.000000</td>\n",
       "      <td>0.003619</td>\n",
       "      <td>0.001835</td>\n",
       "    </tr>\n",
       "    <tr>\n",
       "      <th>Education</th>\n",
       "      <td>-0.027692</td>\n",
       "      <td>-0.030136</td>\n",
       "      <td>-0.051084</td>\n",
       "      <td>0.003619</td>\n",
       "      <td>1.000000</td>\n",
       "      <td>-0.008062</td>\n",
       "    </tr>\n",
       "    <tr>\n",
       "      <th>Balance</th>\n",
       "      <td>0.463656</td>\n",
       "      <td>0.863625</td>\n",
       "      <td>0.086456</td>\n",
       "      <td>0.001835</td>\n",
       "      <td>-0.008062</td>\n",
       "      <td>1.000000</td>\n",
       "    </tr>\n",
       "  </tbody>\n",
       "</table>\n",
       "</div>"
      ],
      "text/plain": [
       "             Income    Rating     Cards       Age  Education   Balance\n",
       "Income     1.000000  0.791378 -0.018273  0.175338  -0.027692  0.463656\n",
       "Rating     0.791378  1.000000  0.053239  0.103165  -0.030136  0.863625\n",
       "Cards     -0.018273  0.053239  1.000000  0.042948  -0.051084  0.086456\n",
       "Age        0.175338  0.103165  0.042948  1.000000   0.003619  0.001835\n",
       "Education -0.027692 -0.030136 -0.051084  0.003619   1.000000 -0.008062\n",
       "Balance    0.463656  0.863625  0.086456  0.001835  -0.008062  1.000000"
      ]
     },
     "execution_count": 143,
     "metadata": {},
     "output_type": "execute_result"
    }
   ],
   "source": [
    "df.corr()"
   ]
  },
  {
   "cell_type": "markdown",
   "metadata": {},
   "source": [
    "Answer: Income and Rating have the largest impact on balance. We should not use these two variables simulatneously because they are tightly correlated, raising the chance of inaccuracy due to multicorrelation."
   ]
  },
  {
   "cell_type": "markdown",
   "metadata": {},
   "source": [
    "> ## Question 2.  `Race`, `Gender`, `Married`, and `Student` are categorical variables.  Go ahead and create dummy variables for all of them."
   ]
  },
  {
   "cell_type": "code",
   "execution_count": 144,
   "metadata": {
    "collapsed": false
   },
   "outputs": [
    {
     "data": {
      "text/plain": [
       "Index(['Income', 'Rating', 'Cards', 'Age', 'Education', 'Gender', 'Student',\n",
       "       'Married', 'Ethnicity', 'Balance', 'Race_African American',\n",
       "       'Race_Asian', 'Race_Caucasian', 'Gender_Female', 'Gender_Male',\n",
       "       'Married_No', 'Married_Yes', 'Student_No', 'Student_Yes'],\n",
       "      dtype='object')"
      ]
     },
     "execution_count": 144,
     "metadata": {},
     "output_type": "execute_result"
    }
   ],
   "source": [
    "race_df = pd.get_dummies(df.Ethnicity, prefix = 'Race')\n",
    "gender_df = pd.get_dummies(df.Gender, prefix = 'Gender')\n",
    "married_df = pd.get_dummies(df.Married, prefix = 'Married')\n",
    "student_df = pd.get_dummies(df.Student, prefix = 'Student')\n",
    "\n",
    "df = df.join([race_df, gender_df, married_df, student_df])\n",
    "df.columns"
   ]
  },
  {
   "cell_type": "markdown",
   "metadata": {},
   "source": [
    "> ## Question 3.  Using sklearn and a linear regression, predict `Balance` using `Income`, `Cards`, `Age`, `Education`, `Gender`, and `Race`"
   ]
  },
  {
   "cell_type": "markdown",
   "metadata": {},
   "source": [
    "First, find the coefficients of your regression line."
   ]
  },
  {
   "cell_type": "code",
   "execution_count": 145,
   "metadata": {
    "collapsed": false
   },
   "outputs": [
    {
     "name": "stdout",
     "output_type": "stream",
     "text": [
      "257.369493707\n",
      "[  6.27936781  33.59766321  -2.31938588   1.59642886 -26.9394313\n",
      "  -0.10049563]\n"
     ]
    }
   ],
   "source": [
    "X = df[ ['Income', 'Cards', 'Age', 'Education', 'Gender_Male', 'Race_African American'] ]\n",
    "y = df.Balance\n",
    "\n",
    "model = linear_model.LinearRegression()\n",
    "model.fit(X,y)\n",
    "\n",
    "print(model.intercept_)\n",
    "print(model.coef_)"
   ]
  },
  {
   "cell_type": "markdown",
   "metadata": {},
   "source": [
    "Then, find the p-values of your estimates.  You have several variables, so try to show your p-values alongside the names of the variables."
   ]
  },
  {
   "cell_type": "code",
   "execution_count": 146,
   "metadata": {
    "collapsed": false
   },
   "outputs": [
    {
     "data": {
      "text/plain": [
       "[('Income', 1.0308858025893513e-22),\n",
       " ('Cards', 0.084176555599370956),\n",
       " ('Age', 0.97081387233013317),\n",
       " ('Education', 0.87230640156710226),\n",
       " ('Gender_Male', 0.66851610550260099),\n",
       " ('Race_African American', 0.78443031908756577)]"
      ]
     },
     "execution_count": 146,
     "metadata": {},
     "output_type": "execute_result"
    }
   ],
   "source": [
    "list(zip(X.columns.values, feature_selection.f_regression(X, y)[1]))"
   ]
  },
  {
   "cell_type": "markdown",
   "metadata": {},
   "source": [
    "> ## Question 4.  Which of your coefficients are significant at the 5% significance level?"
   ]
  },
  {
   "cell_type": "markdown",
   "metadata": {},
   "source": [
    "Answer: Income is the only one."
   ]
  },
  {
   "cell_type": "code",
   "execution_count": 147,
   "metadata": {
    "collapsed": false
   },
   "outputs": [],
   "source": [
    "## Question 5.  What is your model's $R^2$?"
   ]
  },
  {
   "cell_type": "code",
   "execution_count": 148,
   "metadata": {
    "collapsed": false
   },
   "outputs": [
    {
     "data": {
      "text/plain": [
       "0.23223261170777187"
      ]
     },
     "execution_count": 148,
     "metadata": {},
     "output_type": "execute_result"
    }
   ],
   "source": [
    "model.score(X,y)"
   ]
  },
  {
   "cell_type": "markdown",
   "metadata": {},
   "source": [
    "> ## Question 6.  How do we interpret this value?"
   ]
  },
  {
   "cell_type": "markdown",
   "metadata": {},
   "source": [
    "Answer: Our model explains approximately 23% of the variation in Balance (i.e., avg. credit card debt)."
   ]
  },
  {
   "cell_type": "markdown",
   "metadata": {},
   "source": [
    "> ## Question 7.  Now let's focus on the two most significant variables from your previous model and re-run your regression model."
   ]
  },
  {
   "cell_type": "code",
   "execution_count": 149,
   "metadata": {
    "collapsed": false
   },
   "outputs": [
    {
     "name": "stdout",
     "output_type": "stream",
     "text": [
      "257.369493707\n",
      "[  6.27936781  33.59766321  -2.31938588   1.59642886 -26.9394313\n",
      "  -0.10049563]\n"
     ]
    }
   ],
   "source": [
    "X2 = df[ ['Income', 'Cards'] ]\n",
    "y2 = df.Balance\n",
    "\n",
    "model_v2 = linear_model.LinearRegression()\n",
    "model_v2.fit(X2, y2)\n",
    "\n",
    "print(model.intercept_)\n",
    "print(model.coef_)"
   ]
  },
  {
   "cell_type": "markdown",
   "metadata": {},
   "source": [
    "> ## Question 8.  In comparison to the previous model, did the $R^2$ increase or decrease?  Why?"
   ]
  },
  {
   "cell_type": "code",
   "execution_count": 150,
   "metadata": {
    "collapsed": false
   },
   "outputs": [
    {
     "data": {
      "text/plain": [
       "0.22399175162249518"
      ]
     },
     "execution_count": 150,
     "metadata": {},
     "output_type": "execute_result"
    }
   ],
   "source": [
    "model_v2.score(X2, y2)"
   ]
  },
  {
   "cell_type": "markdown",
   "metadata": {},
   "source": [
    "Answer: R-squared decreased very slightly because the other variables marginally increased the amount of variation in the DV that we were successfully predicting (specifically, by about 1%). Given that none of the p-values for these variables were significant, this was likely due to random error, so the higher R-squared value in the prior case does not necessarily indicate that the former model was superior in any meaningful way."
   ]
  },
  {
   "cell_type": "markdown",
   "metadata": {},
   "source": [
    "> ## Question 9.  Now let's regress `Balance` on `Gender` alone.  After running your linear regressions, do you have enough evidence to claim that females have more balance than males?  (Hint: Look at the p-value of the Gender coefficient.  If it is significant then you will have evidence to support that claim, otherwise you cannot support the statement.)"
   ]
  },
  {
   "cell_type": "code",
   "execution_count": 151,
   "metadata": {
    "collapsed": false
   },
   "outputs": [
    {
     "name": "stdout",
     "output_type": "stream",
     "text": [
      "509.803108808\n",
      "[ 19.73312308]\n",
      "Gender_Female [ 0.66851611]\n"
     ]
    }
   ],
   "source": [
    "X3 = df[ ['Gender_Female'] ]\n",
    "y3 = df.Balance\n",
    "\n",
    "model_v3 = linear_model.LinearRegression()\n",
    "model_v3.fit(X3, y3)\n",
    "\n",
    "print(model_v3.intercept_)\n",
    "print(model_v3.coef_)\n",
    "print(X3.columns.values[0], feature_selection.f_regression(X3, y3)[1])"
   ]
  },
  {
   "cell_type": "markdown",
   "metadata": {},
   "source": [
    "Answer: No, the p-value is 67%, which is significantly above the 5% threshold for signifiance. Fail to reject the null hypothesis."
   ]
  },
  {
   "cell_type": "markdown",
   "metadata": {},
   "source": [
    "> ## Question 10.  Now let's regress `Balance` on `Ethnicity`.  After running your linear regressions, do you have enough evidence to claim that some ethnic groups carry more balance than others?"
   ]
  },
  {
   "cell_type": "code",
   "execution_count": 152,
   "metadata": {
    "collapsed": false
   },
   "outputs": [
    {
     "name": "stdout",
     "output_type": "stream",
     "text": [
      "-6.05772146767e+16\n",
      "[  6.05772147e+16   6.05772147e+16   6.05772147e+16]\n",
      "['Ethnicity'] [ 0.78443032  0.84489564  0.94772751]\n"
     ]
    }
   ],
   "source": [
    "X4 = df[ ['Race_African American', 'Race_Asian', 'Race_Caucasian'] ]\n",
    "y4 = df.Balance\n",
    "\n",
    "model_v4 = linear_model.LinearRegression()\n",
    "model_v4.fit(X4, y4)\n",
    "\n",
    "print(model_v4.intercept_)\n",
    "print(model_v4.coef_)\n",
    "print(x4.columns.values, feature_selection.f_regression(X4, y4)[1])\n"
   ]
  },
  {
   "cell_type": "markdown",
   "metadata": {},
   "source": [
    "The evidence shows that the p-values for African-American, Asian, and Caucasian are all much greater than 5%, so we fail to reject the null hypothessis that there is no correlation between race and balance.')"
   ]
  },
  {
   "cell_type": "markdown",
   "metadata": {},
   "source": [
    "> ## Question 11.  Finally let's regress `Balance` on `Student`.  After running your linear regressions, do you have enough evidence to claim that students carry more balance than non-students?"
   ]
  },
  {
   "cell_type": "code",
   "execution_count": 158,
   "metadata": {
    "collapsed": false
   },
   "outputs": [
    {
     "name": "stdout",
     "output_type": "stream",
     "text": [
      "480.369444444\n",
      "[ 396.45555556]\n"
     ]
    },
    {
     "data": {
      "text/plain": [
       "[('Student_Yes', 1.4877341077327523e-07)]"
      ]
     },
     "execution_count": 158,
     "metadata": {},
     "output_type": "execute_result"
    }
   ],
   "source": [
    "X5 = df[ ['Student_Yes'] ]\n",
    "y5 = df.Balance\n",
    "\n",
    "model_v5 = linear_model.LinearRegression()\n",
    "model_v5.fit(X5, y5)\n",
    "\n",
    "print(model_v5.intercept_)\n",
    "print(model_v5.coef_)\n",
    "list(zip(X5.columns.values, feature_selection.f_regression(X5, y5)[1]))"
   ]
  },
  {
   "cell_type": "markdown",
   "metadata": {},
   "source": [
    "Answer: Yes, we have evidence at the 5% significance level that students carry about $396 more debt than the non-students in the sample."
   ]
  },
  {
   "cell_type": "markdown",
   "metadata": {},
   "source": [
    "> ## Question 12.  Now let's consider the effect of `Student` and `Income` on `Balance` simultaneously.  Are all the coefficients significant?"
   ]
  },
  {
   "cell_type": "code",
   "execution_count": 165,
   "metadata": {
    "collapsed": false,
    "scrolled": true
   },
   "outputs": [
    {
     "name": "stdout",
     "output_type": "stream",
     "text": [
      "211.142964398\n",
      "['Student_Yes' 'Income'] [ 382.67053884    5.98433557]\n",
      "['Student_Yes' 'Income'] [  1.48773411e-07   1.03088580e-22]\n"
     ]
    }
   ],
   "source": [
    "X6 = df[ ['Student_Yes', 'Income'] ]\n",
    "y6 = df.Balance\n",
    "\n",
    "model_v6 = linear_model.LinearRegression()\n",
    "model_v6.fit(X6, y6)\n",
    "\n",
    "print(model_v6.intercept_)\n",
    "print(X6.columns.values, model_v6.coef_)\n",
    "print(X6.columns.values, feature_selection.f_regression(X6, y6)[1])"
   ]
  },
  {
   "cell_type": "markdown",
   "metadata": {},
   "source": [
    "#### Answer: Yes, at 95% confidence, both Student and Income significantly are positively associated with increased Balance. Being a student is associated with 382 dollars of debt compared to non-students, and each one thousand dollar increase in income is associated with a 6 dollar increase in debt."
   ]
  },
  {
   "cell_type": "markdown",
   "metadata": {},
   "source": [
    "> ## Question 13.  Now let's consider the interaction effect of `Student` and `Income` on `Balance` simultaneously.  Are all the coefficients significant?  It they are, write down your regression model below"
   ]
  },
  {
   "cell_type": "markdown",
   "metadata": {},
   "source": [
    "(First generate a new variable for the interaction term)"
   ]
  },
  {
   "cell_type": "code",
   "execution_count": 168,
   "metadata": {
    "collapsed": false
   },
   "outputs": [],
   "source": [
    "df['Student * Income'] = df['Student_Yes'] * df['Income']"
   ]
  },
  {
   "cell_type": "code",
   "execution_count": 173,
   "metadata": {
    "collapsed": false
   },
   "outputs": [
    {
     "name": "stdout",
     "output_type": "stream",
     "text": [
      "200.62315295\n",
      "['Student_Yes' 'Income' 'Student * Income'] [ 476.67584321    6.21816874   -1.99915087]\n",
      "['Student_Yes' 'Income' 'Student * Income'] [  1.48773411e-07   1.03088580e-22   4.61768368e-08]\n"
     ]
    }
   ],
   "source": [
    "X7 = df[ ['Student_Yes', 'Income', 'Student * Income'] ]\n",
    "y7 = df.Balance\n",
    "\n",
    "model_v7 = linear_model.LinearRegression()\n",
    "model_v7.fit(X7, y7)\n",
    "\n",
    "print(model_v7.intercept_)\n",
    "print(X7.columns.values, model_v7.coef_)\n",
    "print(X7.columns.values, feature_selection.f_regression(X7, y7)[1])"
   ]
  },
  {
   "cell_type": "markdown",
   "metadata": {},
   "source": [
    "Answer: Yes, all three coefficients are significant at the 5% level. Being a student is associated with having 476 dollars more debt than non-students, each 1000 dollars earned correlates to 6 dollars more debt, and, for students, each 1000 dollars earned correlates to 2 dollars less debt.\n",
    "\n",
    "$Balance = 200.62 * (476.68*Student_{Yes}) * (6.21*Income) * (-1.99*Student_{Yes}*Income)$"
   ]
  },
  {
   "cell_type": "markdown",
   "metadata": {},
   "source": [
    "> ## Question 14.  Is there any income level at which students and non-students on average carry same level of balance?"
   ]
  },
  {
   "cell_type": "markdown",
   "metadata": {},
   "source": [
    "Answer:"
   ]
  }
 ],
 "metadata": {
  "kernelspec": {
   "display_name": "Python 3",
   "language": "python",
   "name": "python3"
  },
  "language_info": {
   "codemirror_mode": {
    "name": "ipython",
    "version": 3
   },
   "file_extension": ".py",
   "mimetype": "text/x-python",
   "name": "python",
   "nbconvert_exporter": "python",
   "pygments_lexer": "ipython3",
   "version": "3.5.1"
  }
 },
 "nbformat": 4,
 "nbformat_minor": 0
}
