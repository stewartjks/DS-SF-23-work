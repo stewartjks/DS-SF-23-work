{
 "cells": [
  {
   "cell_type": "markdown",
   "metadata": {},
   "source": [
    "Part 1: Loading and Transforming Data"
   ]
  },
  {
   "cell_type": "code",
   "execution_count": 2,
   "metadata": {
    "collapsed": false
   },
   "outputs": [],
   "source": [
    "import os\n",
    "import numpy as np\n",
    "import pandas as pd\n",
    "import csv\n",
    "import matplotlib.pyplot as plt\n",
    "import seaborn as sns\n",
    "import statsmodels.api as sm\n",
    "import statsmodels.formula.api as smf\n",
    "from sklearn import tree, neighbors, metrics, grid_search, cross_validation, feature_selection, linear_model\n",
    "import sqlite3\n",
    "\n",
    "pd.set_option('display.max_rows', 50)\n",
    "pd.set_option('display.notebook_repr_html', True)\n",
    "pd.set_option('display.max_columns', 100)\n",
    "\n",
    "%matplotlib inline\n",
    "plt.style.use('ggplot')"
   ]
  },
  {
   "cell_type": "markdown",
   "metadata": {},
   "source": [
    "Section A: Import and Clean IRS Data"
   ]
  },
  {
   "cell_type": "code",
   "execution_count": 3,
   "metadata": {
    "collapsed": false
   },
   "outputs": [],
   "source": [
    "# load the 2013 IRS income data file\n",
    "# note: you can obtain the data from this URL: https://www.irs.gov/pub/irs-soi/13zpallnoagi.csv\n",
    "df = pd.read_csv('https://www.irs.gov/pub/irs-soi/13zpallnoagi.csv', low_memory = False)"
   ]
  },
  {
   "cell_type": "code",
   "execution_count": 4,
   "metadata": {
    "collapsed": true
   },
   "outputs": [],
   "source": [
    "# subset the rows related to geography and adj. gross income\n",
    "df = df[['STATE', 'ZIPCODE', 'A00100']]"
   ]
  },
  {
   "cell_type": "code",
   "execution_count": 5,
   "metadata": {
    "collapsed": true
   },
   "outputs": [],
   "source": [
    "# create a dataframe for the zipcode-level data\n",
    "df_zip = df.drop('STATE', axis = 1)"
   ]
  },
  {
   "cell_type": "code",
   "execution_count": 6,
   "metadata": {
    "collapsed": true
   },
   "outputs": [],
   "source": [
    "# remove the rows containing state-level totals\n",
    "df_zip = df_zip[df_zip.ZIPCODE != 0]"
   ]
  },
  {
   "cell_type": "code",
   "execution_count": 7,
   "metadata": {
    "collapsed": true
   },
   "outputs": [],
   "source": [
    "# create a dataframe for the state-level data\n",
    "df_state = df"
   ]
  },
  {
   "cell_type": "code",
   "execution_count": 8,
   "metadata": {
    "collapsed": true
   },
   "outputs": [],
   "source": [
    "# remove rows containing zip code-level data\n",
    "df_state = df_state[df_state.ZIPCODE < 1]"
   ]
  },
  {
   "cell_type": "code",
   "execution_count": 9,
   "metadata": {
    "collapsed": true
   },
   "outputs": [],
   "source": [
    "# drop zipcode column from state-level dataframe\n",
    "df_state = df_state.drop('ZIPCODE', axis = 1)"
   ]
  },
  {
   "cell_type": "markdown",
   "metadata": {},
   "source": [
    "Section B: Add Data to SQLite Database and Join IRS Tables to Main Dataset"
   ]
  },
  {
   "cell_type": "code",
   "execution_count": 10,
   "metadata": {
    "collapsed": true
   },
   "outputs": [],
   "source": [
    "# Create database file\n",
    "db = sqlite3.connect('complaints.db')"
   ]
  },
  {
   "cell_type": "code",
   "execution_count": 10,
   "metadata": {
    "collapsed": false
   },
   "outputs": [],
   "source": [
    "# load the main consumer complaint data file\n",
    "df = pd.read_csv('https://data.consumerfinance.gov/views/s6ew-h6mp/rows.csv', low_memory = False)"
   ]
  },
  {
   "cell_type": "code",
   "execution_count": 12,
   "metadata": {
    "collapsed": true
   },
   "outputs": [],
   "source": [
    "# store the unmodified consumer complaint data file for subsequent descriptive analysis\n",
    "df_original = pd.read_csv('Consumer_Complaints.csv', low_memory = False)"
   ]
  },
  {
   "cell_type": "code",
   "execution_count": 13,
   "metadata": {
    "collapsed": false
   },
   "outputs": [
    {
     "data": {
      "text/plain": [
       "Index(['Date_received', 'Product', 'Sub-product', 'Issue', 'Sub-issue',\n",
       "       'Consumer_complaint_narrative', 'Company_public_response', 'Company',\n",
       "       'State', 'ZIP_code', 'Tags', 'Consumer_consent_provided?',\n",
       "       'Submitted_via', 'Date_sent_to_company', 'Company_response_to_consumer',\n",
       "       'Timely_response?', 'Consumer_disputed?', 'Complaint_ID'],\n",
       "      dtype='object')"
      ]
     },
     "execution_count": 13,
     "metadata": {},
     "output_type": "execute_result"
    }
   ],
   "source": [
    "# Reformat complaints dataset columns to snake-case convention\n",
    "df.columns = df.columns.str.replace(' ','_')\n",
    "df.columns"
   ]
  },
  {
   "cell_type": "code",
   "execution_count": 14,
   "metadata": {
    "collapsed": true
   },
   "outputs": [],
   "source": [
    "# Write complaints file to database\n",
    "df.to_sql('Consumer_Complaints',\n",
    "          con = db,\n",
    "          index = False,\n",
    "          if_exists = 'replace')"
   ]
  },
  {
   "cell_type": "code",
   "execution_count": 15,
   "metadata": {
    "collapsed": false
   },
   "outputs": [],
   "source": [
    "# Write zip-level income file to database\n",
    "df_zip.to_sql('Zip_Income',\n",
    "          con = db,\n",
    "          index = False,\n",
    "          if_exists = 'replace')"
   ]
  },
  {
   "cell_type": "code",
   "execution_count": 16,
   "metadata": {
    "collapsed": true
   },
   "outputs": [],
   "source": [
    "# Write state-level income file to database\n",
    "df_state.to_sql('State_Income',\n",
    "          con = db,\n",
    "          index = False,\n",
    "          if_exists = 'replace')\n"
   ]
  },
  {
   "cell_type": "code",
   "execution_count": 17,
   "metadata": {
    "collapsed": true
   },
   "outputs": [],
   "source": [
    "# Join zip-level income data to complaints dataset\n",
    "df = pd.io.sql.read_sql('SELECT * ' +\n",
    "                   'FROM Consumer_Complaints AS cc ' +\n",
    "                   'JOIN Zip_Income AS zi ' +\n",
    "                   'ON cc.Zip_code = zi.Zipcode;', con = db)"
   ]
  },
  {
   "cell_type": "code",
   "execution_count": 18,
   "metadata": {
    "collapsed": true
   },
   "outputs": [],
   "source": [
    "# Rename Zip Code-Level Adj Gross Income Column\n",
    "df = df.rename(columns = {'A00100' : 'AGI_zip'})"
   ]
  },
  {
   "cell_type": "code",
   "execution_count": 19,
   "metadata": {
    "collapsed": true
   },
   "outputs": [],
   "source": [
    "# Remove duplicate zip code column\n",
    "df = df.drop('ZIPCODE', axis = 1)"
   ]
  },
  {
   "cell_type": "code",
   "execution_count": 20,
   "metadata": {
    "collapsed": true
   },
   "outputs": [],
   "source": [
    "# Write updated complaints file to database\n",
    "df.to_sql('Consumer_Complaints',\n",
    "          con = db,\n",
    "          index = False,\n",
    "          if_exists = 'replace')"
   ]
  },
  {
   "cell_type": "code",
   "execution_count": 21,
   "metadata": {
    "collapsed": true
   },
   "outputs": [],
   "source": [
    "# Join state-level income data to complaints dataset\n",
    "df = pd.io.sql.read_sql('SELECT * ' +\n",
    "                   'FROM Consumer_Complaints AS cc ' +\n",
    "                   'JOIN State_Income AS si ' +\n",
    "                   'ON cc.State = si.State;', con = db)"
   ]
  },
  {
   "cell_type": "code",
   "execution_count": 22,
   "metadata": {
    "collapsed": false
   },
   "outputs": [],
   "source": [
    "# Save df post-join for descriptive comparison\n",
    "df_modified = pd.io.sql.read_sql('SELECT * ' +\n",
    "                   'FROM Consumer_Complaints AS cc ' +\n",
    "                   'JOIN State_Income AS si ' +\n",
    "                   'ON cc.State = si.State;', con = db)"
   ]
  },
  {
   "cell_type": "code",
   "execution_count": 23,
   "metadata": {
    "collapsed": false
   },
   "outputs": [],
   "source": [
    "# Remove duplicate State Column\n",
    "df = df.drop('STATE', axis = 1)"
   ]
  },
  {
   "cell_type": "code",
   "execution_count": 24,
   "metadata": {
    "collapsed": true
   },
   "outputs": [],
   "source": [
    "# Remove duplicate State column for saved post-join df\n",
    "df_modified = df_modified.drop('STATE', axis = 1)"
   ]
  },
  {
   "cell_type": "code",
   "execution_count": 25,
   "metadata": {
    "collapsed": false
   },
   "outputs": [
    {
     "data": {
      "text/plain": [
       "Index(['Date_received', 'Product', 'Sub-product', 'Issue', 'Sub-issue',\n",
       "       'Consumer_complaint_narrative', 'Company_public_response', 'Company',\n",
       "       'State', 'ZIP_code', 'Tags', 'Consumer_consent_provided?',\n",
       "       'Submitted_via', 'Date_sent_to_company', 'Company_response_to_consumer',\n",
       "       'Timely_response?', 'Consumer_disputed?', 'Complaint_ID', 'AGI_zip',\n",
       "       'AGI_state'],\n",
       "      dtype='object')"
      ]
     },
     "execution_count": 25,
     "metadata": {},
     "output_type": "execute_result"
    }
   ],
   "source": [
    "# Relabel State-Level Adjusted Gross Income column\n",
    "df = df.rename(columns = {'A00100' : 'AGI_state'})\n",
    "df.columns"
   ]
  },
  {
   "cell_type": "code",
   "execution_count": 26,
   "metadata": {
    "collapsed": false
   },
   "outputs": [],
   "source": [
    "# subset dataframe with rows with timely response\n",
    "timely_df = df[df['Timely_response?'] == 'Yes']"
   ]
  },
  {
   "cell_type": "code",
   "execution_count": 27,
   "metadata": {
    "collapsed": false
   },
   "outputs": [
    {
     "data": {
      "text/plain": [
       "464283"
      ]
     },
     "execution_count": 27,
     "metadata": {},
     "output_type": "execute_result"
    }
   ],
   "source": [
    "# count number of rows with timely response from defendant\n",
    "timely_count = len(timely_df)\n",
    "timely_count"
   ]
  },
  {
   "cell_type": "code",
   "execution_count": 28,
   "metadata": {
    "collapsed": false
   },
   "outputs": [],
   "source": [
    "# subset dataframe with rows with untimely response\n",
    "untimely_df = df[df['Timely_response?'] == 'No']"
   ]
  },
  {
   "cell_type": "code",
   "execution_count": 29,
   "metadata": {
    "collapsed": false
   },
   "outputs": [
    {
     "data": {
      "text/plain": [
       "11338"
      ]
     },
     "execution_count": 29,
     "metadata": {},
     "output_type": "execute_result"
    }
   ],
   "source": [
    "# count number of rows with untimely response from defendant\n",
    "untimely_count = len(untimely_df)\n",
    "untimely_count"
   ]
  },
  {
   "cell_type": "code",
   "execution_count": 30,
   "metadata": {
    "collapsed": false
   },
   "outputs": [
    {
     "data": {
      "text/plain": [
       "0.023838308232815623"
      ]
     },
     "execution_count": 30,
     "metadata": {},
     "output_type": "execute_result"
    }
   ],
   "source": [
    "# percentage of rows with untimely response\n",
    "untimely_rate = untimely_count/len(df)\n",
    "untimely_rate"
   ]
  },
  {
   "cell_type": "code",
   "execution_count": 31,
   "metadata": {
    "collapsed": false
   },
   "outputs": [
    {
     "data": {
      "text/plain": [
       "(14628, 20)"
      ]
     },
     "execution_count": 31,
     "metadata": {},
     "output_type": "execute_result"
    }
   ],
   "source": [
    "# take random sample of 14628 rows from timely df (to equalize row count by timeliness/untimeliness)\n",
    "timely_df_sample = timely_df.sample(14628)\n",
    "timely_df_sample.shape"
   ]
  },
  {
   "cell_type": "code",
   "execution_count": 32,
   "metadata": {
    "collapsed": false
   },
   "outputs": [],
   "source": [
    "# join timely response to sampled untimely response df\n",
    "train_data = [timely_df_sample, untimely_df]\n",
    "train_df = pd.concat(train_data)"
   ]
  },
  {
   "cell_type": "code",
   "execution_count": 33,
   "metadata": {
    "collapsed": false
   },
   "outputs": [
    {
     "data": {
      "text/plain": [
       "(25966, 20)"
      ]
     },
     "execution_count": 33,
     "metadata": {},
     "output_type": "execute_result"
    }
   ],
   "source": [
    "train_df.shape"
   ]
  },
  {
   "cell_type": "code",
   "execution_count": 34,
   "metadata": {
    "collapsed": false
   },
   "outputs": [],
   "source": [
    "# create dummies for response variable\n",
    "timely_dummies = pd.get_dummies(train_df['Timely_response?'], prefix = 'Timely')\n",
    "# ---- create dummies for features\n",
    "product_dummies = pd.get_dummies(train_df['Product'], prefix = 'Product')\n",
    "sub_product_dummies = pd.get_dummies(train_df['Sub-product'], prefix = 'Sub_Product')\n",
    "issue_dummies = pd.get_dummies(train_df['Issue'], prefix = 'Issue')\n",
    "sub_issue_dummies = pd.get_dummies(train_df['Sub-issue'], prefix = 'Sub_Issue')\n",
    "tags_dummies = pd.get_dummies(train_df['Tags'], prefix = 'Tags')\n",
    "sub_method_dummies = pd.get_dummies(train_df['Submitted_via'], prefix = 'Sub_')"
   ]
  },
  {
   "cell_type": "code",
   "execution_count": 35,
   "metadata": {
    "collapsed": false
   },
   "outputs": [],
   "source": [
    "# create var for continuous variables (zip- and state-level income)\n",
    "agi_cols = train_df[['AGI_zip', 'AGI_state']]"
   ]
  },
  {
   "cell_type": "code",
   "execution_count": 36,
   "metadata": {
    "collapsed": false,
    "scrolled": true
   },
   "outputs": [],
   "source": [
    "# Add response variable dummies to test dataframe\n",
    "train_df = train_df.join([timely_dummies])"
   ]
  },
  {
   "cell_type": "code",
   "execution_count": 37,
   "metadata": {
    "collapsed": true
   },
   "outputs": [],
   "source": [
    "# Split data into training and test groups\n",
    "overall_df = train_df\n",
    "train_df_desc = overall_df.sample(frac = .6, random_state = 1)\n",
    "test_df = overall_df.drop(train_df_desc.index)"
   ]
  },
  {
   "cell_type": "code",
   "execution_count": 38,
   "metadata": {
    "collapsed": false
   },
   "outputs": [],
   "source": [
    "# Drop non-dummy features for training data\n",
    "train_df = train_df_desc.drop(['Product', 'Sub-product', 'Issue', 'Sub-issue', 'Company_public_response', 'Company',\n",
    "                          'ZIP_code', 'Consumer_complaint_narrative', 'State', 'Tags', 'Submitted_via',\n",
    "                          'Company_response_to_consumer', 'Timely_response?', 'Complaint_ID', 'Date_received',\n",
    "                          'Consumer_consent_provided?', 'Date_sent_to_company', 'Consumer_disputed?', 'AGI_zip',\n",
    "                          'AGI_state'],\n",
    "                           axis = 1)"
   ]
  },
  {
   "cell_type": "code",
   "execution_count": 39,
   "metadata": {
    "collapsed": true
   },
   "outputs": [],
   "source": [
    "# Drop non-dummy features for test data\n",
    "test_df = test_df.drop(['Product', 'Sub-product', 'Issue', 'Sub-issue', 'Company_public_response', 'Company',\n",
    "                          'ZIP_code', 'Consumer_complaint_narrative', 'State', 'Tags', 'Submitted_via',\n",
    "                          'Company_response_to_consumer', 'Timely_response?', 'Complaint_ID', 'Date_received',\n",
    "                          'Consumer_consent_provided?', 'Date_sent_to_company', 'Consumer_disputed?', 'AGI_zip',\n",
    "                          'AGI_state'],\n",
    "                           axis = 1)"
   ]
  },
  {
   "cell_type": "code",
   "execution_count": 40,
   "metadata": {
    "collapsed": true
   },
   "outputs": [],
   "source": [
    "# Define base feature set by removing response var columns\n",
    "train_X = train_df.drop(['Timely_Yes', 'Timely_No'], axis = 1)\n",
    "test_X = test_df.drop(['Timely_Yes', 'Timely_No'], axis = 1)"
   ]
  },
  {
   "cell_type": "code",
   "execution_count": 41,
   "metadata": {
    "collapsed": true
   },
   "outputs": [],
   "source": [
    "# Define response variable\n",
    "train_y = train_df['Timely_Yes']\n",
    "test_y = test_df['Timely_Yes']"
   ]
  },
  {
   "cell_type": "markdown",
   "metadata": {},
   "source": [
    "Part 2: Descriptive Statistics and Data Visualization"
   ]
  },
  {
   "cell_type": "code",
   "execution_count": 42,
   "metadata": {
    "collapsed": false
   },
   "outputs": [
    {
     "data": {
      "text/plain": [
       "590081"
      ]
     },
     "execution_count": 42,
     "metadata": {},
     "output_type": "execute_result"
    }
   ],
   "source": [
    "# count records in original complaint file\n",
    "len(df_original)"
   ]
  },
  {
   "cell_type": "code",
   "execution_count": 43,
   "metadata": {
    "collapsed": false,
    "scrolled": true
   },
   "outputs": [
    {
     "data": {
      "text/plain": [
       "475621"
      ]
     },
     "execution_count": 43,
     "metadata": {},
     "output_type": "execute_result"
    }
   ],
   "source": [
    "# count records in complaint file post-income join\n",
    "len(df_modified)"
   ]
  },
  {
   "cell_type": "code",
   "execution_count": 44,
   "metadata": {
    "collapsed": false
   },
   "outputs": [],
   "source": [
    "# create dataframes for states in pre- and post-join complaint data\n",
    "orig_states = pd.Series(df_original.State.unique())\n",
    "orig_states_df = pd.DataFrame(data = orig_states, index = None, columns = ['State'])\n",
    "mod_states = pd.Series(df_modified.State.unique())\n",
    "mod_states_df = pd.DataFrame(mod_states, index = None, columns = ['State'])"
   ]
  },
  {
   "cell_type": "code",
   "execution_count": 45,
   "metadata": {
    "collapsed": false
   },
   "outputs": [
    {
     "name": "stdout",
     "output_type": "stream",
     "text": [
      "63 51\n"
     ]
    }
   ],
   "source": [
    "# find number of states in pre- and post-join data\n",
    "print(len(orig_states_df), len(mod_states_df))"
   ]
  },
  {
   "cell_type": "code",
   "execution_count": 46,
   "metadata": {
    "collapsed": false
   },
   "outputs": [],
   "source": [
    "# find 51st value in post-join data\n",
    "# used mod_states_df.sort_values(by = 'State', ascending = True) to find 'DC' as additional value"
   ]
  },
  {
   "cell_type": "code",
   "execution_count": 47,
   "metadata": {
    "collapsed": false,
    "scrolled": true
   },
   "outputs": [
    {
     "data": {
      "text/html": [
       "<div>\n",
       "<table border=\"1\" class=\"dataframe\">\n",
       "  <thead>\n",
       "    <tr style=\"text-align: right;\">\n",
       "      <th></th>\n",
       "      <th>State</th>\n",
       "    </tr>\n",
       "  </thead>\n",
       "  <tbody>\n",
       "    <tr>\n",
       "      <th>37</th>\n",
       "      <td>NaN</td>\n",
       "    </tr>\n",
       "    <tr>\n",
       "      <th>48</th>\n",
       "      <td>PR</td>\n",
       "    </tr>\n",
       "    <tr>\n",
       "      <th>49</th>\n",
       "      <td>AE</td>\n",
       "    </tr>\n",
       "    <tr>\n",
       "      <th>53</th>\n",
       "      <td>AP</td>\n",
       "    </tr>\n",
       "    <tr>\n",
       "      <th>54</th>\n",
       "      <td>MH</td>\n",
       "    </tr>\n",
       "    <tr>\n",
       "      <th>56</th>\n",
       "      <td>VI</td>\n",
       "    </tr>\n",
       "    <tr>\n",
       "      <th>57</th>\n",
       "      <td>FM</td>\n",
       "    </tr>\n",
       "    <tr>\n",
       "      <th>58</th>\n",
       "      <td>GU</td>\n",
       "    </tr>\n",
       "    <tr>\n",
       "      <th>59</th>\n",
       "      <td>PW</td>\n",
       "    </tr>\n",
       "    <tr>\n",
       "      <th>60</th>\n",
       "      <td>AA</td>\n",
       "    </tr>\n",
       "    <tr>\n",
       "      <th>61</th>\n",
       "      <td>AS</td>\n",
       "    </tr>\n",
       "    <tr>\n",
       "      <th>62</th>\n",
       "      <td>MP</td>\n",
       "    </tr>\n",
       "  </tbody>\n",
       "</table>\n",
       "</div>"
      ],
      "text/plain": [
       "   State\n",
       "37   NaN\n",
       "48    PR\n",
       "49    AE\n",
       "53    AP\n",
       "54    MH\n",
       "56    VI\n",
       "57    FM\n",
       "58    GU\n",
       "59    PW\n",
       "60    AA\n",
       "61    AS\n",
       "62    MP"
      ]
     },
     "execution_count": 47,
     "metadata": {},
     "output_type": "execute_result"
    }
   ],
   "source": [
    "# find states not contained in both dfs\n",
    "preserved_states_df = orig_states_df.merge(mod_states_df, on=['State'])\n",
    "orig_states_df[(~orig_states_df.State.isin(preserved_states_df.State))]"
   ]
  },
  {
   "cell_type": "code",
   "execution_count": 48,
   "metadata": {
    "collapsed": false
   },
   "outputs": [
    {
     "data": {
      "text/plain": [
       "27313"
      ]
     },
     "execution_count": 48,
     "metadata": {},
     "output_type": "execute_result"
    }
   ],
   "source": [
    "# count unique zip codes in original complaint file\n",
    "pd.Series(df_original['ZIP code'].unique()).count()"
   ]
  },
  {
   "cell_type": "code",
   "execution_count": 49,
   "metadata": {
    "collapsed": false
   },
   "outputs": [
    {
     "data": {
      "text/plain": [
       "20706"
      ]
     },
     "execution_count": 49,
     "metadata": {},
     "output_type": "execute_result"
    }
   ],
   "source": [
    "# count unique zip codes in modified complaint file\n",
    "pd.Series(df_modified['ZIP_code'].unique()).count()"
   ]
  },
  {
   "cell_type": "code",
   "execution_count": 50,
   "metadata": {
    "collapsed": false
   },
   "outputs": [
    {
     "data": {
      "text/plain": [
       "3335"
      ]
     },
     "execution_count": 50,
     "metadata": {},
     "output_type": "execute_result"
    }
   ],
   "source": [
    "# count unique companies in original file\n",
    "pd.Series(df.Company.unique()).count()"
   ]
  },
  {
   "cell_type": "code",
   "execution_count": 51,
   "metadata": {
    "collapsed": false
   },
   "outputs": [
    {
     "data": {
      "text/plain": [
       "44"
      ]
     },
     "execution_count": 51,
     "metadata": {},
     "output_type": "execute_result"
    }
   ],
   "source": [
    "# count unique sub-product categories in training data\n",
    "pd.Series(train_df_desc['Sub-product'].unique()).count()"
   ]
  },
  {
   "cell_type": "code",
   "execution_count": 52,
   "metadata": {
    "collapsed": false
   },
   "outputs": [
    {
     "data": {
      "text/plain": [
       "66"
      ]
     },
     "execution_count": 52,
     "metadata": {},
     "output_type": "execute_result"
    }
   ],
   "source": [
    "# count unique sub-issue categories in training data\n",
    "pd.Series(train_df_desc['Sub-issue'].unique()).count()"
   ]
  },
  {
   "cell_type": "code",
   "execution_count": 53,
   "metadata": {
    "collapsed": false
   },
   "outputs": [
    {
     "data": {
      "text/plain": [
       "Index(['Date_received', 'Product', 'Sub-product', 'Issue', 'Sub-issue',\n",
       "       'Consumer_complaint_narrative', 'Company_public_response', 'Company',\n",
       "       'State', 'ZIP_code', 'Tags', 'Consumer_consent_provided?',\n",
       "       'Submitted_via', 'Date_sent_to_company', 'Company_response_to_consumer',\n",
       "       'Timely_response?', 'Consumer_disputed?', 'Complaint_ID', 'AGI_zip',\n",
       "       'AGI_state', 'Timely_No', 'Timely_Yes'],\n",
       "      dtype='object')"
      ]
     },
     "execution_count": 53,
     "metadata": {},
     "output_type": "execute_result"
    }
   ],
   "source": [
    "# Print columns for pre-dummies training data\n",
    "train_df_desc.columns"
   ]
  },
  {
   "cell_type": "code",
   "execution_count": 54,
   "metadata": {
    "collapsed": false
   },
   "outputs": [
    {
     "data": {
      "image/png": "[encoded data removed]",
      "text/plain": [
       "<matplotlib.figure.Figure at 0x19a5ce6d8>"
      ]
     },
     "metadata": {},
     "output_type": "display_data"
    }
   ],
   "source": [
    "# plot product vs. mean timeliness\n",
    "# commented rows sns.set_context(\"paper\")\n",
    "# plt.figure(figsize=(16, 10))\n",
    "sns.barplot(x=\"Product\", y=\"Timely_Yes\", ci = None, data=train_df_desc);"
   ]
  },
  {
   "cell_type": "code",
   "execution_count": 55,
   "metadata": {
    "collapsed": false
   },
   "outputs": [
    {
     "data": {
      "image/png": "[encoded data removed]",
      "text/plain": [
       "<matplotlib.figure.Figure at 0x19a3500f0>"
      ]
     },
     "metadata": {},
     "output_type": "display_data"
    }
   ],
   "source": [
    "# plot sub-product vs. mean timeliness\n",
    "# plt.figure(figsize=(16, 10))\n",
    "sns.barplot(x=\"Sub-product\", y=\"Timely_Yes\", ci = None, data=train_df_desc);"
   ]
  },
  {
   "cell_type": "code",
   "execution_count": 56,
   "metadata": {
    "collapsed": false
   },
   "outputs": [
    {
     "data": {
      "image/png": "[encoded data removed]",
      "text/plain": [
       "<matplotlib.figure.Figure at 0x199ecacc0>"
      ]
     },
     "metadata": {},
     "output_type": "display_data"
    }
   ],
   "source": [
    "# plot submission method vs. mean timeliness\n",
    "# plt.figure(figsize=(10, 8))\n",
    "sns.barplot(x=\"Submitted_via\", y=\"Timely_Yes\", ci = None, data=train_df_desc);"
   ]
  },
  {
   "cell_type": "code",
   "execution_count": 57,
   "metadata": {
    "collapsed": false
   },
   "outputs": [
    {
     "data": {
      "image/png": "[encoded data removed]",
      "text/plain": [
       "<matplotlib.figure.Figure at 0x19a23e978>"
      ]
     },
     "metadata": {},
     "output_type": "display_data"
    }
   ],
   "source": [
    "# plot social status vs. mean timeliness\n",
    "# plt.figure(figsize=(16, 10))\n",
    "sns.barplot(x=\"Tags\", y=\"Timely_Yes\", ci = None, data=train_df_desc);"
   ]
  },
  {
   "cell_type": "code",
   "execution_count": 58,
   "metadata": {
    "collapsed": false,
    "scrolled": true
   },
   "outputs": [
    {
     "data": {
      "image/png": "[encoded data removed]",
      "text/plain": [
       "<matplotlib.figure.Figure at 0x19a0ec748>"
      ]
     },
     "metadata": {},
     "output_type": "display_data"
    }
   ],
   "source": [
    "# plot issue vs. mean timeliness\n",
    "# plt.figure(figsize=(16, 10))\n",
    "sns.barplot(x=\"Issue\", y=\"Timely_Yes\", ci = None, data = train_df_desc);"
   ]
  },
  {
   "cell_type": "code",
   "execution_count": 59,
   "metadata": {
    "collapsed": false
   },
   "outputs": [
    {
     "data": {
      "image/png": "[encoded data removed]",
      "text/plain": [
       "<matplotlib.figure.Figure at 0x199cb0c18>"
      ]
     },
     "metadata": {},
     "output_type": "display_data"
    }
   ],
   "source": [
    "# plot sub-issue vs. mean timeliness\n",
    "# plt.figure(figsize=(16, 10))\n",
    "sns.barplot(x=\"Sub-issue\", y=\"Timely_Yes\", ci = None, data=train_df_desc);"
   ]
  },
  {
   "cell_type": "code",
   "execution_count": 60,
   "metadata": {
    "collapsed": false
   },
   "outputs": [
    {
     "data": {
      "image/png": "[encoded data removed]",
      "text/plain": [
       "<matplotlib.figure.Figure at 0x199355ac8>"
      ]
     },
     "metadata": {},
     "output_type": "display_data"
    }
   ],
   "source": [
    "# plot AGI_state vs. mean timeliness\n",
    "# plt.figure(figsize=(16, 10))\n",
    "sns.barplot(x=\"AGI_state\", y=\"Timely_Yes\", ci = None, data=train_df_desc);"
   ]
  },
  {
   "cell_type": "code",
   "execution_count": 61,
   "metadata": {
    "collapsed": false
   },
   "outputs": [
    {
     "data": {
      "text/plain": [
       "<matplotlib.axes._subplots.AxesSubplot at 0x19965dd30>"
      ]
     },
     "execution_count": 61,
     "metadata": {},
     "output_type": "execute_result"
    },
    {
     "data": {
      "image/png": "[encoded data removed]",
      "text/plain": [
       "<matplotlib.figure.Figure at 0x1993b9cf8>"
      ]
     },
     "metadata": {},
     "output_type": "display_data"
    }
   ],
   "source": [
    "# plot AGI_zip vs. mean timeliness\n",
    "plt.figure(figsize=(40, 14))\n",
    "sns.barplot(x=\"AGI_zip\", y=\"Timely_Yes\", ci = None, data=train_df_desc);\n",
    "# this demonstrates that zip code-level data is too granular"
   ]
  },
  {
   "cell_type": "code",
   "execution_count": 62,
   "metadata": {
    "collapsed": false
   },
   "outputs": [],
   "source": [
    "# Tabulate relationship between Company and Timely Response\n",
    "Timely_Co_Tab = pd.crosstab(index = train_df_desc['Company'], columns = train_df_desc['Timely_Yes'], colnames = ['Timely'])"
   ]
  },
  {
   "cell_type": "code",
   "execution_count": 63,
   "metadata": {
    "collapsed": false,
    "scrolled": true
   },
   "outputs": [
    {
     "data": {
      "text/html": [
       "<div>\n",
       "<table border=\"1\" class=\"dataframe\">\n",
       "  <thead>\n",
       "    <tr style=\"text-align: right;\">\n",
       "      <th>Timely</th>\n",
       "      <th>0.0</th>\n",
       "      <th>1.0</th>\n",
       "    </tr>\n",
       "    <tr>\n",
       "      <th>Company</th>\n",
       "      <th></th>\n",
       "      <th></th>\n",
       "    </tr>\n",
       "  </thead>\n",
       "  <tbody>\n",
       "    <tr>\n",
       "      <th>Bank of America</th>\n",
       "      <td>885</td>\n",
       "      <td>864</td>\n",
       "    </tr>\n",
       "    <tr>\n",
       "      <th>Ocwen</th>\n",
       "      <td>292</td>\n",
       "      <td>338</td>\n",
       "    </tr>\n",
       "    <tr>\n",
       "      <th>Wells Fargo &amp; Company</th>\n",
       "      <td>186</td>\n",
       "      <td>740</td>\n",
       "    </tr>\n",
       "    <tr>\n",
       "      <th>Citibank</th>\n",
       "      <td>180</td>\n",
       "      <td>425</td>\n",
       "    </tr>\n",
       "    <tr>\n",
       "      <th>Mobiloans, LLC</th>\n",
       "      <td>96</td>\n",
       "      <td>0</td>\n",
       "    </tr>\n",
       "    <tr>\n",
       "      <th>Residential Credit Solutions</th>\n",
       "      <td>89</td>\n",
       "      <td>11</td>\n",
       "    </tr>\n",
       "    <tr>\n",
       "      <th>Nationstar Mortgage</th>\n",
       "      <td>69</td>\n",
       "      <td>221</td>\n",
       "    </tr>\n",
       "    <tr>\n",
       "      <th>Platinum Holdings Group, LLC</th>\n",
       "      <td>69</td>\n",
       "      <td>5</td>\n",
       "    </tr>\n",
       "    <tr>\n",
       "      <th>Premier Recovery Group</th>\n",
       "      <td>63</td>\n",
       "      <td>1</td>\n",
       "    </tr>\n",
       "    <tr>\n",
       "      <th>Regions Financial Corporation</th>\n",
       "      <td>61</td>\n",
       "      <td>35</td>\n",
       "    </tr>\n",
       "  </tbody>\n",
       "</table>\n",
       "</div>"
      ],
      "text/plain": [
       "Timely                         0.0  1.0\n",
       "Company                                \n",
       "Bank of America                885  864\n",
       "Ocwen                          292  338\n",
       "Wells Fargo & Company          186  740\n",
       "Citibank                       180  425\n",
       "Mobiloans, LLC                  96    0\n",
       "Residential Credit Solutions    89   11\n",
       "Nationstar Mortgage             69  221\n",
       "Platinum Holdings Group, LLC    69    5\n",
       "Premier Recovery Group          63    1\n",
       "Regions Financial Corporation   61   35"
      ]
     },
     "execution_count": 63,
     "metadata": {},
     "output_type": "execute_result"
    }
   ],
   "source": [
    "# Find the ten companies with the highest counts of untimely response\n",
    "Timely_Co_Tab.sort_values(0.0, ascending = False).head(10)"
   ]
  },
  {
   "cell_type": "code",
   "execution_count": 64,
   "metadata": {
    "collapsed": false,
    "scrolled": true
   },
   "outputs": [],
   "source": [
    "# Create a column for untimely response rate\n",
    "Timely_Co_Tab['Untimely_Rate'] = (Timely_Co_Tab[0] / Timely_Co_Tab[1])"
   ]
  },
  {
   "cell_type": "code",
   "execution_count": 65,
   "metadata": {
    "collapsed": false
   },
   "outputs": [
    {
     "data": {
      "text/html": [
       "<div>\n",
       "<table border=\"1\" class=\"dataframe\">\n",
       "  <thead>\n",
       "    <tr style=\"text-align: right;\">\n",
       "      <th>Timely</th>\n",
       "      <th>0.0</th>\n",
       "      <th>1.0</th>\n",
       "      <th>Untimely_Rate</th>\n",
       "    </tr>\n",
       "    <tr>\n",
       "      <th>Company</th>\n",
       "      <th></th>\n",
       "      <th></th>\n",
       "      <th></th>\n",
       "    </tr>\n",
       "  </thead>\n",
       "  <tbody>\n",
       "    <tr>\n",
       "      <th>Mobiloans, LLC</th>\n",
       "      <td>96</td>\n",
       "      <td>0</td>\n",
       "      <td>inf</td>\n",
       "    </tr>\n",
       "    <tr>\n",
       "      <th>Concord Resolution Inc (Closed)</th>\n",
       "      <td>39</td>\n",
       "      <td>0</td>\n",
       "      <td>inf</td>\n",
       "    </tr>\n",
       "    <tr>\n",
       "      <th>Georgetown Mortgage</th>\n",
       "      <td>31</td>\n",
       "      <td>0</td>\n",
       "      <td>inf</td>\n",
       "    </tr>\n",
       "    <tr>\n",
       "      <th>High Point Asset Inc</th>\n",
       "      <td>31</td>\n",
       "      <td>0</td>\n",
       "      <td>inf</td>\n",
       "    </tr>\n",
       "    <tr>\n",
       "      <th>Neighborhood Housing Services of Richmond, Inc</th>\n",
       "      <td>29</td>\n",
       "      <td>0</td>\n",
       "      <td>inf</td>\n",
       "    </tr>\n",
       "    <tr>\n",
       "      <th>Rubin &amp; Yates, LLC</th>\n",
       "      <td>22</td>\n",
       "      <td>0</td>\n",
       "      <td>inf</td>\n",
       "    </tr>\n",
       "    <tr>\n",
       "      <th>Hillcrest Davidson &amp; Assoc</th>\n",
       "      <td>20</td>\n",
       "      <td>0</td>\n",
       "      <td>inf</td>\n",
       "    </tr>\n",
       "    <tr>\n",
       "      <th>Clear Debt Solutions, LLC</th>\n",
       "      <td>19</td>\n",
       "      <td>0</td>\n",
       "      <td>inf</td>\n",
       "    </tr>\n",
       "    <tr>\n",
       "      <th>Marauder Corporation</th>\n",
       "      <td>19</td>\n",
       "      <td>0</td>\n",
       "      <td>inf</td>\n",
       "    </tr>\n",
       "    <tr>\n",
       "      <th>Prudent Law Group</th>\n",
       "      <td>18</td>\n",
       "      <td>0</td>\n",
       "      <td>inf</td>\n",
       "    </tr>\n",
       "  </tbody>\n",
       "</table>\n",
       "</div>"
      ],
      "text/plain": [
       "Timely                                          0.0  1.0  Untimely_Rate\n",
       "Company                                                                \n",
       "Mobiloans, LLC                                   96    0            inf\n",
       "Concord Resolution Inc (Closed)                  39    0            inf\n",
       "Georgetown Mortgage                              31    0            inf\n",
       "High Point Asset Inc                             31    0            inf\n",
       "Neighborhood Housing Services of Richmond, Inc   29    0            inf\n",
       "Rubin & Yates, LLC                               22    0            inf\n",
       "Hillcrest Davidson & Assoc                       20    0            inf\n",
       "Clear Debt Solutions, LLC                        19    0            inf\n",
       "Marauder Corporation                             19    0            inf\n",
       "Prudent Law Group                                18    0            inf"
      ]
     },
     "execution_count": 65,
     "metadata": {},
     "output_type": "execute_result"
    }
   ],
   "source": [
    "# Sort for the ten highest untimely response rates with secondary sort of number of untimely responses\n",
    "Timely_Co_Tab.sort_values(['Untimely_Rate', 0.0], ascending = False).head(10)"
   ]
  },
  {
   "cell_type": "markdown",
   "metadata": {
    "collapsed": true
   },
   "source": [
    "Part 3: Hypothesis Testing with Logistic Regression"
   ]
  },
  {
   "cell_type": "code",
   "execution_count": 66,
   "metadata": {
    "collapsed": false
   },
   "outputs": [],
   "source": [
    "# Regress Product variable\n",
    "X1 = train_X.join([product_dummies])"
   ]
  },
  {
   "cell_type": "code",
   "execution_count": 67,
   "metadata": {
    "collapsed": false
   },
   "outputs": [
    {
     "name": "stdout",
     "output_type": "stream",
     "text": [
      "Optimization terminated successfully.\n",
      "         Current function value: 0.587474\n",
      "         Iterations 7\n"
     ]
    }
   ],
   "source": [
    "logit = sm.Logit(train_y, X1)\n",
    "logit = logit.fit()"
   ]
  },
  {
   "cell_type": "code",
   "execution_count": 68,
   "metadata": {
    "collapsed": false,
    "scrolled": false
   },
   "outputs": [
    {
     "data": {
      "text/html": [
       "<table class=\"simpletable\">\n",
       "<caption>Logit Regression Results</caption>\n",
       "<tr>\n",
       "  <th>Dep. Variable:</th>    <td>Timely_Yes</td>    <th>  No. Observations:  </th>  <td> 15580</td> \n",
       "</tr>\n",
       "<tr>\n",
       "  <th>Model:</th>               <td>Logit</td>      <th>  Df Residuals:      </th>  <td> 15569</td> \n",
       "</tr>\n",
       "<tr>\n",
       "  <th>Method:</th>               <td>MLE</td>       <th>  Df Model:          </th>  <td>    10</td> \n",
       "</tr>\n",
       "<tr>\n",
       "  <th>Date:</th>          <td>Sat, 09 Jul 2016</td> <th>  Pseudo R-squ.:     </th>  <td>0.1414</td> \n",
       "</tr>\n",
       "<tr>\n",
       "  <th>Time:</th>              <td>12:21:30</td>     <th>  Log-Likelihood:    </th> <td> -9152.8</td>\n",
       "</tr>\n",
       "<tr>\n",
       "  <th>converged:</th>           <td>True</td>       <th>  LL-Null:           </th> <td> -10660.</td>\n",
       "</tr>\n",
       "<tr>\n",
       "  <th> </th>                      <td> </td>        <th>  LLR p-value:       </th>  <td> 0.000</td> \n",
       "</tr>\n",
       "</table>\n",
       "<table class=\"simpletable\">\n",
       "<tr>\n",
       "                 <td></td>                    <th>coef</th>     <th>std err</th>      <th>z</th>      <th>P>|z|</th> <th>[95.0% Conf. Int.]</th> \n",
       "</tr>\n",
       "<tr>\n",
       "  <th>Product_Bank account or service</th> <td>    0.9725</td> <td>    0.060</td> <td>   16.085</td> <td> 0.000</td> <td>    0.854     1.091</td>\n",
       "</tr>\n",
       "<tr>\n",
       "  <th>Product_Consumer Loan</th>           <td>    0.3332</td> <td>    0.088</td> <td>    3.772</td> <td> 0.000</td> <td>    0.160     0.506</td>\n",
       "</tr>\n",
       "<tr>\n",
       "  <th>Product_Credit card</th>             <td>    1.2692</td> <td>    0.065</td> <td>   19.456</td> <td> 0.000</td> <td>    1.141     1.397</td>\n",
       "</tr>\n",
       "<tr>\n",
       "  <th>Product_Credit reporting</th>        <td>    3.0025</td> <td>    0.119</td> <td>   25.210</td> <td> 0.000</td> <td>    2.769     3.236</td>\n",
       "</tr>\n",
       "<tr>\n",
       "  <th>Product_Debt collection</th>         <td>   -0.7605</td> <td>    0.032</td> <td>  -24.136</td> <td> 0.000</td> <td>   -0.822    -0.699</td>\n",
       "</tr>\n",
       "<tr>\n",
       "  <th>Product_Money transfers</th>         <td>    0.2948</td> <td>    0.223</td> <td>    1.320</td> <td> 0.187</td> <td>   -0.143     0.732</td>\n",
       "</tr>\n",
       "<tr>\n",
       "  <th>Product_Mortgage</th>                <td>    0.2923</td> <td>    0.028</td> <td>   10.587</td> <td> 0.000</td> <td>    0.238     0.346</td>\n",
       "</tr>\n",
       "<tr>\n",
       "  <th>Product_Other financial service</th> <td>   -1.0116</td> <td>    0.413</td> <td>   -2.450</td> <td> 0.014</td> <td>   -1.821    -0.202</td>\n",
       "</tr>\n",
       "<tr>\n",
       "  <th>Product_Payday loan</th>             <td>   -1.3049</td> <td>    0.163</td> <td>   -8.019</td> <td> 0.000</td> <td>   -1.624    -0.986</td>\n",
       "</tr>\n",
       "<tr>\n",
       "  <th>Product_Prepaid card</th>            <td>    1.9459</td> <td>    0.478</td> <td>    4.070</td> <td> 0.000</td> <td>    1.009     2.883</td>\n",
       "</tr>\n",
       "<tr>\n",
       "  <th>Product_Student loan</th>            <td>    1.1733</td> <td>    0.123</td> <td>    9.509</td> <td> 0.000</td> <td>    0.931     1.415</td>\n",
       "</tr>\n",
       "</table>"
      ],
      "text/plain": [
       "<class 'statsmodels.iolib.summary.Summary'>\n",
       "\"\"\"\n",
       "                           Logit Regression Results                           \n",
       "==============================================================================\n",
       "Dep. Variable:             Timely_Yes   No. Observations:                15580\n",
       "Model:                          Logit   Df Residuals:                    15569\n",
       "Method:                           MLE   Df Model:                           10\n",
       "Date:                Sat, 09 Jul 2016   Pseudo R-squ.:                  0.1414\n",
       "Time:                        12:21:30   Log-Likelihood:                -9152.8\n",
       "converged:                       True   LL-Null:                       -10660.\n",
       "                                        LLR p-value:                     0.000\n",
       "===================================================================================================\n",
       "                                      coef    std err          z      P>|z|      [95.0% Conf. Int.]\n",
       "---------------------------------------------------------------------------------------------------\n",
       "Product_Bank account or service     0.9725      0.060     16.085      0.000         0.854     1.091\n",
       "Product_Consumer Loan               0.3332      0.088      3.772      0.000         0.160     0.506\n",
       "Product_Credit card                 1.2692      0.065     19.456      0.000         1.141     1.397\n",
       "Product_Credit reporting            3.0025      0.119     25.210      0.000         2.769     3.236\n",
       "Product_Debt collection            -0.7605      0.032    -24.136      0.000        -0.822    -0.699\n",
       "Product_Money transfers             0.2948      0.223      1.320      0.187        -0.143     0.732\n",
       "Product_Mortgage                    0.2923      0.028     10.587      0.000         0.238     0.346\n",
       "Product_Other financial service    -1.0116      0.413     -2.450      0.014        -1.821    -0.202\n",
       "Product_Payday loan                -1.3049      0.163     -8.019      0.000        -1.624    -0.986\n",
       "Product_Prepaid card                1.9459      0.478      4.070      0.000         1.009     2.883\n",
       "Product_Student loan                1.1733      0.123      9.509      0.000         0.931     1.415\n",
       "===================================================================================================\n",
       "\"\"\""
      ]
     },
     "execution_count": 68,
     "metadata": {},
     "output_type": "execute_result"
    }
   ],
   "source": [
    "logit.summary()"
   ]
  },
  {
   "cell_type": "code",
   "execution_count": 69,
   "metadata": {
    "collapsed": false
   },
   "outputs": [
    {
     "name": "stdout",
     "output_type": "stream",
     "text": [
      "Optimization terminated successfully.\n",
      "         Current function value: 0.587692\n",
      "         Iterations 7\n"
     ]
    },
    {
     "data": {
      "text/html": [
       "<table class=\"simpletable\">\n",
       "<caption>Logit Regression Results</caption>\n",
       "<tr>\n",
       "  <th>Dep. Variable:</th>    <td>Timely_Yes</td>    <th>  No. Observations:  </th>  <td> 15580</td> \n",
       "</tr>\n",
       "<tr>\n",
       "  <th>Model:</th>               <td>Logit</td>      <th>  Df Residuals:      </th>  <td> 15570</td> \n",
       "</tr>\n",
       "<tr>\n",
       "  <th>Method:</th>               <td>MLE</td>       <th>  Df Model:          </th>  <td>     9</td> \n",
       "</tr>\n",
       "<tr>\n",
       "  <th>Date:</th>          <td>Sat, 09 Jul 2016</td> <th>  Pseudo R-squ.:     </th>  <td>0.1411</td> \n",
       "</tr>\n",
       "<tr>\n",
       "  <th>Time:</th>              <td>12:21:30</td>     <th>  Log-Likelihood:    </th> <td> -9156.2</td>\n",
       "</tr>\n",
       "<tr>\n",
       "  <th>converged:</th>           <td>True</td>       <th>  LL-Null:           </th> <td> -10660.</td>\n",
       "</tr>\n",
       "<tr>\n",
       "  <th> </th>                      <td> </td>        <th>  LLR p-value:       </th>  <td> 0.000</td> \n",
       "</tr>\n",
       "</table>\n",
       "<table class=\"simpletable\">\n",
       "<tr>\n",
       "                 <td></td>                    <th>coef</th>     <th>std err</th>      <th>z</th>      <th>P>|z|</th> <th>[95.0% Conf. Int.]</th> \n",
       "</tr>\n",
       "<tr>\n",
       "  <th>Product_Bank account or service</th> <td>    0.9725</td> <td>    0.060</td> <td>   16.085</td> <td> 0.000</td> <td>    0.854     1.091</td>\n",
       "</tr>\n",
       "<tr>\n",
       "  <th>Product_Consumer Loan</th>           <td>    0.3332</td> <td>    0.088</td> <td>    3.772</td> <td> 0.000</td> <td>    0.160     0.506</td>\n",
       "</tr>\n",
       "<tr>\n",
       "  <th>Product_Credit card</th>             <td>    1.2692</td> <td>    0.065</td> <td>   19.456</td> <td> 0.000</td> <td>    1.141     1.397</td>\n",
       "</tr>\n",
       "<tr>\n",
       "  <th>Product_Credit reporting</th>        <td>    3.0025</td> <td>    0.119</td> <td>   25.210</td> <td> 0.000</td> <td>    2.769     3.236</td>\n",
       "</tr>\n",
       "<tr>\n",
       "  <th>Product_Debt collection</th>         <td>   -0.7605</td> <td>    0.032</td> <td>  -24.136</td> <td> 0.000</td> <td>   -0.822    -0.699</td>\n",
       "</tr>\n",
       "<tr>\n",
       "  <th>Product_Money transfers</th>         <td>    0.2948</td> <td>    0.223</td> <td>    1.320</td> <td> 0.187</td> <td>   -0.143     0.732</td>\n",
       "</tr>\n",
       "<tr>\n",
       "  <th>Product_Mortgage</th>                <td>    0.2923</td> <td>    0.028</td> <td>   10.587</td> <td> 0.000</td> <td>    0.238     0.346</td>\n",
       "</tr>\n",
       "<tr>\n",
       "  <th>Product_Payday loan</th>             <td>   -1.3049</td> <td>    0.163</td> <td>   -8.019</td> <td> 0.000</td> <td>   -1.624    -0.986</td>\n",
       "</tr>\n",
       "<tr>\n",
       "  <th>Product_Prepaid card</th>            <td>    1.9459</td> <td>    0.478</td> <td>    4.070</td> <td> 0.000</td> <td>    1.009     2.883</td>\n",
       "</tr>\n",
       "<tr>\n",
       "  <th>Product_Student loan</th>            <td>    1.1733</td> <td>    0.123</td> <td>    9.509</td> <td> 0.000</td> <td>    0.931     1.415</td>\n",
       "</tr>\n",
       "</table>"
      ],
      "text/plain": [
       "<class 'statsmodels.iolib.summary.Summary'>\n",
       "\"\"\"\n",
       "                           Logit Regression Results                           \n",
       "==============================================================================\n",
       "Dep. Variable:             Timely_Yes   No. Observations:                15580\n",
       "Model:                          Logit   Df Residuals:                    15570\n",
       "Method:                           MLE   Df Model:                            9\n",
       "Date:                Sat, 09 Jul 2016   Pseudo R-squ.:                  0.1411\n",
       "Time:                        12:21:30   Log-Likelihood:                -9156.2\n",
       "converged:                       True   LL-Null:                       -10660.\n",
       "                                        LLR p-value:                     0.000\n",
       "===================================================================================================\n",
       "                                      coef    std err          z      P>|z|      [95.0% Conf. Int.]\n",
       "---------------------------------------------------------------------------------------------------\n",
       "Product_Bank account or service     0.9725      0.060     16.085      0.000         0.854     1.091\n",
       "Product_Consumer Loan               0.3332      0.088      3.772      0.000         0.160     0.506\n",
       "Product_Credit card                 1.2692      0.065     19.456      0.000         1.141     1.397\n",
       "Product_Credit reporting            3.0025      0.119     25.210      0.000         2.769     3.236\n",
       "Product_Debt collection            -0.7605      0.032    -24.136      0.000        -0.822    -0.699\n",
       "Product_Money transfers             0.2948      0.223      1.320      0.187        -0.143     0.732\n",
       "Product_Mortgage                    0.2923      0.028     10.587      0.000         0.238     0.346\n",
       "Product_Payday loan                -1.3049      0.163     -8.019      0.000        -1.624    -0.986\n",
       "Product_Prepaid card                1.9459      0.478      4.070      0.000         1.009     2.883\n",
       "Product_Student loan                1.1733      0.123      9.509      0.000         0.931     1.415\n",
       "===================================================================================================\n",
       "\"\"\""
      ]
     },
     "execution_count": 69,
     "metadata": {},
     "output_type": "execute_result"
    }
   ],
   "source": [
    "# Evaluate Product again without sole insignificant var ('Other Financial Service)\n",
    "X1 = X1.drop('Product_Other financial service', axis = 1)\n",
    "logit = sm.Logit(train_y, X1)\n",
    "logit = logit.fit()\n",
    "logit.summary()"
   ]
  },
  {
   "cell_type": "code",
   "execution_count": 70,
   "metadata": {
    "collapsed": false
   },
   "outputs": [
    {
     "data": {
      "text/plain": [
       "0.68395378690629016"
      ]
     },
     "execution_count": 70,
     "metadata": {},
     "output_type": "execute_result"
    }
   ],
   "source": [
    "# Evaluate Product r-square with sklearn\n",
    "product = linear_model.LogisticRegression()\n",
    "product.fit(X1, train_y)\n",
    "product.score(X1, train_y)"
   ]
  },
  {
   "cell_type": "code",
   "execution_count": 71,
   "metadata": {
    "collapsed": false
   },
   "outputs": [
    {
     "name": "stdout",
     "output_type": "stream",
     "text": [
      "cannot evaluate with StatsModels: 45 > 30 variables\n"
     ]
    }
   ],
   "source": [
    "# Can't evaluate Sub_Product variable -- too many values\n",
    "X2 = train_X.join([sub_product_dummies])\n",
    "# logit = sm.Logit(train_y, X2)\n",
    "# logit = logit.fit()\n",
    "# logit.summary()\n",
    "print('cannot evaluate with StatsModels:', len(X2.columns), '> 30 variables')"
   ]
  },
  {
   "cell_type": "code",
   "execution_count": 72,
   "metadata": {
    "collapsed": false
   },
   "outputs": [
    {
     "data": {
      "text/plain": [
       "0.69024390243902434"
      ]
     },
     "execution_count": 72,
     "metadata": {},
     "output_type": "execute_result"
    }
   ],
   "source": [
    "# Evaluate Sub_Product r-square with sklearn\n",
    "sub_product = linear_model.LogisticRegression()\n",
    "sub_product.fit(X2, train_y)\n",
    "sub_product.score(X2, train_y)"
   ]
  },
  {
   "cell_type": "code",
   "execution_count": 73,
   "metadata": {
    "collapsed": false
   },
   "outputs": [
    {
     "name": "stdout",
     "output_type": "stream",
     "text": [
      "cannot evaluate with StatsModels: 92 > 30 variables\n"
     ]
    }
   ],
   "source": [
    "# Can't evaluate Issue variable\n",
    "X3 = train_X.join([issue_dummies])\n",
    "# logit = sm.Logit(train_y, X3)\n",
    "# logit = logit.fit()\n",
    "#  --> Returns: Warning: Maximum number of iterations has been exceeded. Current function value: 0.575228 Iterations: 35\n",
    "# Conclusion: too many features to test\n",
    "print('cannot evaluate with StatsModels:', len(X3.columns), '> 30 variables')"
   ]
  },
  {
   "cell_type": "code",
   "execution_count": 74,
   "metadata": {
    "collapsed": false
   },
   "outputs": [
    {
     "data": {
      "text/plain": [
       "0.69017971758664953"
      ]
     },
     "execution_count": 74,
     "metadata": {},
     "output_type": "execute_result"
    }
   ],
   "source": [
    "# Evaluate Issue r-square with sklearn\n",
    "issue = linear_model.LogisticRegression()\n",
    "issue.fit(X3, train_y)\n",
    "issue.score(X3, train_y)"
   ]
  },
  {
   "cell_type": "code",
   "execution_count": 75,
   "metadata": {
    "collapsed": false
   },
   "outputs": [
    {
     "name": "stdout",
     "output_type": "stream",
     "text": [
      "cannot r with StatsModels: 67 > 30 variables\n"
     ]
    }
   ],
   "source": [
    "# Can't evaluate Sub_Issue variable\n",
    "X4 = train_X.join([sub_issue_dummies])\n",
    "# logit = sm.Logit(train_y, X4)\n",
    "# logit = logit.fit()\n",
    "# --> Returns: Warning: Maximum number of iterations has been exceeded. Current function value: 0.575228 Iterations: 35\n",
    "# Conclusion: too many features to test\n",
    "print('cannot r with StatsModels:', len(X4.columns), '> 30 variables')"
   ]
  },
  {
   "cell_type": "code",
   "execution_count": 76,
   "metadata": {
    "collapsed": false
   },
   "outputs": [
    {
     "data": {
      "text/plain": [
       "0.68305519897304234"
      ]
     },
     "execution_count": 76,
     "metadata": {},
     "output_type": "execute_result"
    }
   ],
   "source": [
    "# Evaluate Sub_Issue r-square with sklearn\n",
    "sub_issue = linear_model.LogisticRegression()\n",
    "sub_issue.fit(X4, train_y)\n",
    "sub_issue.score(X4, train_y)"
   ]
  },
  {
   "cell_type": "code",
   "execution_count": 77,
   "metadata": {
    "collapsed": true
   },
   "outputs": [],
   "source": [
    "# Regress social status ('Tags') variable\n",
    "X5 = train_X.join([tags_dummies])"
   ]
  },
  {
   "cell_type": "code",
   "execution_count": 78,
   "metadata": {
    "collapsed": false
   },
   "outputs": [
    {
     "name": "stdout",
     "output_type": "stream",
     "text": [
      "Optimization terminated successfully.\n",
      "         Current function value: 0.691228\n",
      "         Iterations 4\n"
     ]
    }
   ],
   "source": [
    "logit = sm.Logit(train_y, X5)\n",
    "logit = logit.fit()"
   ]
  },
  {
   "cell_type": "code",
   "execution_count": 79,
   "metadata": {
    "collapsed": false
   },
   "outputs": [
    {
     "data": {
      "text/html": [
       "<table class=\"simpletable\">\n",
       "<caption>Logit Regression Results</caption>\n",
       "<tr>\n",
       "  <th>Dep. Variable:</th>    <td>Timely_Yes</td>    <th>  No. Observations:  </th>  <td> 15580</td> \n",
       "</tr>\n",
       "<tr>\n",
       "  <th>Model:</th>               <td>Logit</td>      <th>  Df Residuals:      </th>  <td> 15577</td> \n",
       "</tr>\n",
       "<tr>\n",
       "  <th>Method:</th>               <td>MLE</td>       <th>  Df Model:          </th>  <td>     2</td> \n",
       "</tr>\n",
       "<tr>\n",
       "  <th>Date:</th>          <td>Sat, 09 Jul 2016</td> <th>  Pseudo R-squ.:     </th> <td>-0.01023</td>\n",
       "</tr>\n",
       "<tr>\n",
       "  <th>Time:</th>              <td>12:21:30</td>     <th>  Log-Likelihood:    </th> <td> -10769.</td>\n",
       "</tr>\n",
       "<tr>\n",
       "  <th>converged:</th>           <td>True</td>       <th>  LL-Null:           </th> <td> -10660.</td>\n",
       "</tr>\n",
       "<tr>\n",
       "  <th> </th>                      <td> </td>        <th>  LLR p-value:       </th>  <td> 1.000</td> \n",
       "</tr>\n",
       "</table>\n",
       "<table class=\"simpletable\">\n",
       "<tr>\n",
       "                   <td></td>                     <th>coef</th>     <th>std err</th>      <th>z</th>      <th>P>|z|</th> <th>[95.0% Conf. Int.]</th> \n",
       "</tr>\n",
       "<tr>\n",
       "  <th>Tags_Older American</th>                <td>    0.4332</td> <td>    0.061</td> <td>    7.069</td> <td> 0.000</td> <td>    0.313     0.553</td>\n",
       "</tr>\n",
       "<tr>\n",
       "  <th>Tags_Older American, Servicemember</th> <td>    0.4429</td> <td>    0.153</td> <td>    2.891</td> <td> 0.004</td> <td>    0.143     0.743</td>\n",
       "</tr>\n",
       "<tr>\n",
       "  <th>Tags_Servicemember</th>                 <td>   -0.0205</td> <td>    0.072</td> <td>   -0.286</td> <td> 0.775</td> <td>   -0.161     0.120</td>\n",
       "</tr>\n",
       "</table>"
      ],
      "text/plain": [
       "<class 'statsmodels.iolib.summary.Summary'>\n",
       "\"\"\"\n",
       "                           Logit Regression Results                           \n",
       "==============================================================================\n",
       "Dep. Variable:             Timely_Yes   No. Observations:                15580\n",
       "Model:                          Logit   Df Residuals:                    15577\n",
       "Method:                           MLE   Df Model:                            2\n",
       "Date:                Sat, 09 Jul 2016   Pseudo R-squ.:                -0.01023\n",
       "Time:                        12:21:30   Log-Likelihood:                -10769.\n",
       "converged:                       True   LL-Null:                       -10660.\n",
       "                                        LLR p-value:                     1.000\n",
       "======================================================================================================\n",
       "                                         coef    std err          z      P>|z|      [95.0% Conf. Int.]\n",
       "------------------------------------------------------------------------------------------------------\n",
       "Tags_Older American                    0.4332      0.061      7.069      0.000         0.313     0.553\n",
       "Tags_Older American, Servicemember     0.4429      0.153      2.891      0.004         0.143     0.743\n",
       "Tags_Servicemember                    -0.0205      0.072     -0.286      0.775        -0.161     0.120\n",
       "======================================================================================================\n",
       "\"\"\""
      ]
     },
     "execution_count": 79,
     "metadata": {},
     "output_type": "execute_result"
    }
   ],
   "source": [
    "logit.summary()"
   ]
  },
  {
   "cell_type": "code",
   "execution_count": 80,
   "metadata": {
    "collapsed": false
   },
   "outputs": [
    {
     "data": {
      "text/plain": [
       "0.56720154043645699"
      ]
     },
     "execution_count": 80,
     "metadata": {},
     "output_type": "execute_result"
    }
   ],
   "source": [
    "# Evaluate social status r-square with sklearn\n",
    "tags = linear_model.LogisticRegression()\n",
    "tags.fit(X5, train_y)\n",
    "tags.score(X5, train_y)"
   ]
  },
  {
   "cell_type": "code",
   "execution_count": 81,
   "metadata": {
    "collapsed": false
   },
   "outputs": [],
   "source": [
    "# Regress Products and Tags together"
   ]
  },
  {
   "cell_type": "code",
   "execution_count": 82,
   "metadata": {
    "collapsed": false
   },
   "outputs": [],
   "source": [
    "X6 = train_X.join([product_dummies, tags_dummies])"
   ]
  },
  {
   "cell_type": "code",
   "execution_count": 83,
   "metadata": {
    "collapsed": false
   },
   "outputs": [
    {
     "name": "stdout",
     "output_type": "stream",
     "text": [
      "Optimization terminated successfully.\n",
      "         Current function value: 0.587164\n",
      "         Iterations 7\n"
     ]
    }
   ],
   "source": [
    "logit = sm.Logit(train_y, X6)\n",
    "logit = logit.fit()"
   ]
  },
  {
   "cell_type": "code",
   "execution_count": 84,
   "metadata": {
    "collapsed": false
   },
   "outputs": [
    {
     "data": {
      "text/html": [
       "<table class=\"simpletable\">\n",
       "<caption>Logit Regression Results</caption>\n",
       "<tr>\n",
       "  <th>Dep. Variable:</th>    <td>Timely_Yes</td>    <th>  No. Observations:  </th>  <td> 15580</td> \n",
       "</tr>\n",
       "<tr>\n",
       "  <th>Model:</th>               <td>Logit</td>      <th>  Df Residuals:      </th>  <td> 15566</td> \n",
       "</tr>\n",
       "<tr>\n",
       "  <th>Method:</th>               <td>MLE</td>       <th>  Df Model:          </th>  <td>    13</td> \n",
       "</tr>\n",
       "<tr>\n",
       "  <th>Date:</th>          <td>Sat, 09 Jul 2016</td> <th>  Pseudo R-squ.:     </th>  <td>0.1419</td> \n",
       "</tr>\n",
       "<tr>\n",
       "  <th>Time:</th>              <td>12:21:30</td>     <th>  Log-Likelihood:    </th> <td> -9148.0</td>\n",
       "</tr>\n",
       "<tr>\n",
       "  <th>converged:</th>           <td>True</td>       <th>  LL-Null:           </th> <td> -10660.</td>\n",
       "</tr>\n",
       "<tr>\n",
       "  <th> </th>                      <td> </td>        <th>  LLR p-value:       </th>  <td> 0.000</td> \n",
       "</tr>\n",
       "</table>\n",
       "<table class=\"simpletable\">\n",
       "<tr>\n",
       "                   <td></td>                     <th>coef</th>     <th>std err</th>      <th>z</th>      <th>P>|z|</th> <th>[95.0% Conf. Int.]</th> \n",
       "</tr>\n",
       "<tr>\n",
       "  <th>Product_Bank account or service</th>    <td>    0.9550</td> <td>    0.061</td> <td>   15.672</td> <td> 0.000</td> <td>    0.836     1.074</td>\n",
       "</tr>\n",
       "<tr>\n",
       "  <th>Product_Consumer Loan</th>              <td>    0.3156</td> <td>    0.089</td> <td>    3.553</td> <td> 0.000</td> <td>    0.142     0.490</td>\n",
       "</tr>\n",
       "<tr>\n",
       "  <th>Product_Credit card</th>                <td>    1.2520</td> <td>    0.066</td> <td>   19.067</td> <td> 0.000</td> <td>    1.123     1.381</td>\n",
       "</tr>\n",
       "<tr>\n",
       "  <th>Product_Credit reporting</th>           <td>    2.9934</td> <td>    0.119</td> <td>   25.113</td> <td> 0.000</td> <td>    2.760     3.227</td>\n",
       "</tr>\n",
       "<tr>\n",
       "  <th>Product_Debt collection</th>            <td>   -0.7733</td> <td>    0.033</td> <td>  -23.737</td> <td> 0.000</td> <td>   -0.837    -0.709</td>\n",
       "</tr>\n",
       "<tr>\n",
       "  <th>Product_Money transfers</th>            <td>    0.2797</td> <td>    0.223</td> <td>    1.252</td> <td> 0.211</td> <td>   -0.158     0.718</td>\n",
       "</tr>\n",
       "<tr>\n",
       "  <th>Product_Mortgage</th>                   <td>    0.2778</td> <td>    0.028</td> <td>    9.803</td> <td> 0.000</td> <td>    0.222     0.333</td>\n",
       "</tr>\n",
       "<tr>\n",
       "  <th>Product_Other financial service</th>    <td>   -1.0544</td> <td>    0.414</td> <td>   -2.549</td> <td> 0.011</td> <td>   -1.865    -0.244</td>\n",
       "</tr>\n",
       "<tr>\n",
       "  <th>Product_Payday loan</th>                <td>   -1.3269</td> <td>    0.163</td> <td>   -8.132</td> <td> 0.000</td> <td>   -1.647    -1.007</td>\n",
       "</tr>\n",
       "<tr>\n",
       "  <th>Product_Prepaid card</th>               <td>    1.9428</td> <td>    0.478</td> <td>    4.064</td> <td> 0.000</td> <td>    1.006     2.880</td>\n",
       "</tr>\n",
       "<tr>\n",
       "  <th>Product_Student loan</th>               <td>    1.1695</td> <td>    0.123</td> <td>    9.470</td> <td> 0.000</td> <td>    0.927     1.412</td>\n",
       "</tr>\n",
       "<tr>\n",
       "  <th>Tags_Older American</th>                <td>    0.1402</td> <td>    0.069</td> <td>    2.023</td> <td> 0.043</td> <td>    0.004     0.276</td>\n",
       "</tr>\n",
       "<tr>\n",
       "  <th>Tags_Older American, Servicemember</th> <td>    0.3955</td> <td>    0.166</td> <td>    2.379</td> <td> 0.017</td> <td>    0.070     0.721</td>\n",
       "</tr>\n",
       "<tr>\n",
       "  <th>Tags_Servicemember</th>                 <td>   -0.0099</td> <td>    0.081</td> <td>   -0.122</td> <td> 0.903</td> <td>   -0.169     0.149</td>\n",
       "</tr>\n",
       "</table>"
      ],
      "text/plain": [
       "<class 'statsmodels.iolib.summary.Summary'>\n",
       "\"\"\"\n",
       "                           Logit Regression Results                           \n",
       "==============================================================================\n",
       "Dep. Variable:             Timely_Yes   No. Observations:                15580\n",
       "Model:                          Logit   Df Residuals:                    15566\n",
       "Method:                           MLE   Df Model:                           13\n",
       "Date:                Sat, 09 Jul 2016   Pseudo R-squ.:                  0.1419\n",
       "Time:                        12:21:30   Log-Likelihood:                -9148.0\n",
       "converged:                       True   LL-Null:                       -10660.\n",
       "                                        LLR p-value:                     0.000\n",
       "======================================================================================================\n",
       "                                         coef    std err          z      P>|z|      [95.0% Conf. Int.]\n",
       "------------------------------------------------------------------------------------------------------\n",
       "Product_Bank account or service        0.9550      0.061     15.672      0.000         0.836     1.074\n",
       "Product_Consumer Loan                  0.3156      0.089      3.553      0.000         0.142     0.490\n",
       "Product_Credit card                    1.2520      0.066     19.067      0.000         1.123     1.381\n",
       "Product_Credit reporting               2.9934      0.119     25.113      0.000         2.760     3.227\n",
       "Product_Debt collection               -0.7733      0.033    -23.737      0.000        -0.837    -0.709\n",
       "Product_Money transfers                0.2797      0.223      1.252      0.211        -0.158     0.718\n",
       "Product_Mortgage                       0.2778      0.028      9.803      0.000         0.222     0.333\n",
       "Product_Other financial service       -1.0544      0.414     -2.549      0.011        -1.865    -0.244\n",
       "Product_Payday loan                   -1.3269      0.163     -8.132      0.000        -1.647    -1.007\n",
       "Product_Prepaid card                   1.9428      0.478      4.064      0.000         1.006     2.880\n",
       "Product_Student loan                   1.1695      0.123      9.470      0.000         0.927     1.412\n",
       "Tags_Older American                    0.1402      0.069      2.023      0.043         0.004     0.276\n",
       "Tags_Older American, Servicemember     0.3955      0.166      2.379      0.017         0.070     0.721\n",
       "Tags_Servicemember                    -0.0099      0.081     -0.122      0.903        -0.169     0.149\n",
       "======================================================================================================\n",
       "\"\"\""
      ]
     },
     "execution_count": 84,
     "metadata": {},
     "output_type": "execute_result"
    }
   ],
   "source": [
    "logit.summary()"
   ]
  },
  {
   "cell_type": "code",
   "execution_count": 85,
   "metadata": {
    "collapsed": true
   },
   "outputs": [],
   "source": [
    "# Regress Debt Collection value for Product variable by itself"
   ]
  },
  {
   "cell_type": "code",
   "execution_count": 86,
   "metadata": {
    "collapsed": true
   },
   "outputs": [],
   "source": [
    "X7 = train_X.join([product_dummies])\n",
    "X7 = X7[['Product_Debt collection']]"
   ]
  },
  {
   "cell_type": "code",
   "execution_count": 87,
   "metadata": {
    "collapsed": false
   },
   "outputs": [
    {
     "name": "stdout",
     "output_type": "stream",
     "text": [
      "Optimization terminated successfully.\n",
      "         Current function value: 0.673078\n",
      "         Iterations 4\n"
     ]
    },
    {
     "data": {
      "text/html": [
       "<table class=\"simpletable\">\n",
       "<caption>Logit Regression Results</caption>\n",
       "<tr>\n",
       "  <th>Dep. Variable:</th>    <td>Timely_Yes</td>    <th>  No. Observations:  </th>  <td> 15580</td> \n",
       "</tr>\n",
       "<tr>\n",
       "  <th>Model:</th>               <td>Logit</td>      <th>  Df Residuals:      </th>  <td> 15579</td> \n",
       "</tr>\n",
       "<tr>\n",
       "  <th>Method:</th>               <td>MLE</td>       <th>  Df Model:          </th>  <td>     0</td> \n",
       "</tr>\n",
       "<tr>\n",
       "  <th>Date:</th>          <td>Sat, 09 Jul 2016</td> <th>  Pseudo R-squ.:     </th>  <td>0.01629</td>\n",
       "</tr>\n",
       "<tr>\n",
       "  <th>Time:</th>              <td>12:21:30</td>     <th>  Log-Likelihood:    </th> <td> -10487.</td>\n",
       "</tr>\n",
       "<tr>\n",
       "  <th>converged:</th>           <td>True</td>       <th>  LL-Null:           </th> <td> -10660.</td>\n",
       "</tr>\n",
       "<tr>\n",
       "  <th> </th>                      <td> </td>        <th>  LLR p-value:       </th>  <td>   nan</td> \n",
       "</tr>\n",
       "</table>\n",
       "<table class=\"simpletable\">\n",
       "<tr>\n",
       "             <td></td>                <th>coef</th>     <th>std err</th>      <th>z</th>      <th>P>|z|</th> <th>[95.0% Conf. Int.]</th> \n",
       "</tr>\n",
       "<tr>\n",
       "  <th>Product_Debt collection</th> <td>   -0.7605</td> <td>    0.032</td> <td>  -24.136</td> <td> 0.000</td> <td>   -0.822    -0.699</td>\n",
       "</tr>\n",
       "</table>"
      ],
      "text/plain": [
       "<class 'statsmodels.iolib.summary.Summary'>\n",
       "\"\"\"\n",
       "                           Logit Regression Results                           \n",
       "==============================================================================\n",
       "Dep. Variable:             Timely_Yes   No. Observations:                15580\n",
       "Model:                          Logit   Df Residuals:                    15579\n",
       "Method:                           MLE   Df Model:                            0\n",
       "Date:                Sat, 09 Jul 2016   Pseudo R-squ.:                 0.01629\n",
       "Time:                        12:21:30   Log-Likelihood:                -10487.\n",
       "converged:                       True   LL-Null:                       -10660.\n",
       "                                        LLR p-value:                       nan\n",
       "===========================================================================================\n",
       "                              coef    std err          z      P>|z|      [95.0% Conf. Int.]\n",
       "-------------------------------------------------------------------------------------------\n",
       "Product_Debt collection    -0.7605      0.032    -24.136      0.000        -0.822    -0.699\n",
       "===========================================================================================\n",
       "\"\"\""
      ]
     },
     "execution_count": 87,
     "metadata": {},
     "output_type": "execute_result"
    }
   ],
   "source": [
    "logit = sm.Logit(train_y, X7)\n",
    "logit = logit.fit()\n",
    "logit.summary()"
   ]
  },
  {
   "cell_type": "code",
   "execution_count": 88,
   "metadata": {
    "collapsed": false
   },
   "outputs": [],
   "source": [
    "# Regress Submission Method\n",
    "X9 = train_X.join([sub_method_dummies])"
   ]
  },
  {
   "cell_type": "code",
   "execution_count": 89,
   "metadata": {
    "collapsed": false
   },
   "outputs": [
    {
     "name": "stdout",
     "output_type": "stream",
     "text": [
      "Optimization terminated successfully.\n",
      "         Current function value: 0.680999\n",
      "         Iterations 4\n"
     ]
    },
    {
     "data": {
      "text/html": [
       "<table class=\"simpletable\">\n",
       "<caption>Logit Regression Results</caption>\n",
       "<tr>\n",
       "  <th>Dep. Variable:</th>    <td>Timely_Yes</td>    <th>  No. Observations:  </th>  <td> 15580</td>  \n",
       "</tr>\n",
       "<tr>\n",
       "  <th>Model:</th>               <td>Logit</td>      <th>  Df Residuals:      </th>  <td> 15574</td>  \n",
       "</tr>\n",
       "<tr>\n",
       "  <th>Method:</th>               <td>MLE</td>       <th>  Df Model:          </th>  <td>     5</td>  \n",
       "</tr>\n",
       "<tr>\n",
       "  <th>Date:</th>          <td>Sat, 09 Jul 2016</td> <th>  Pseudo R-squ.:     </th> <td>0.004716</td> \n",
       "</tr>\n",
       "<tr>\n",
       "  <th>Time:</th>              <td>12:21:30</td>     <th>  Log-Likelihood:    </th> <td> -10610.</td> \n",
       "</tr>\n",
       "<tr>\n",
       "  <th>converged:</th>           <td>True</td>       <th>  LL-Null:           </th> <td> -10660.</td> \n",
       "</tr>\n",
       "<tr>\n",
       "  <th> </th>                      <td> </td>        <th>  LLR p-value:       </th> <td>4.040e-20</td>\n",
       "</tr>\n",
       "</table>\n",
       "<table class=\"simpletable\">\n",
       "<tr>\n",
       "          <td></td>            <th>coef</th>     <th>std err</th>      <th>z</th>      <th>P>|z|</th> <th>[95.0% Conf. Int.]</th> \n",
       "</tr>\n",
       "<tr>\n",
       "  <th>Sub__Email</th>       <td>    0.1335</td> <td>    0.518</td> <td>    0.258</td> <td> 0.796</td> <td>   -0.881     1.148</td>\n",
       "</tr>\n",
       "<tr>\n",
       "  <th>Sub__Fax</th>         <td>    0.4190</td> <td>    0.130</td> <td>    3.221</td> <td> 0.001</td> <td>    0.164     0.674</td>\n",
       "</tr>\n",
       "<tr>\n",
       "  <th>Sub__Phone</th>       <td>    0.1399</td> <td>    0.054</td> <td>    2.601</td> <td> 0.009</td> <td>    0.034     0.245</td>\n",
       "</tr>\n",
       "<tr>\n",
       "  <th>Sub__Postal mail</th> <td>    0.7280</td> <td>    0.068</td> <td>   10.761</td> <td> 0.000</td> <td>    0.595     0.861</td>\n",
       "</tr>\n",
       "<tr>\n",
       "  <th>Sub__Referral</th>    <td>    0.4508</td> <td>    0.036</td> <td>   12.500</td> <td> 0.000</td> <td>    0.380     0.521</td>\n",
       "</tr>\n",
       "<tr>\n",
       "  <th>Sub__Web</th>         <td>    0.1788</td> <td>    0.020</td> <td>    8.772</td> <td> 0.000</td> <td>    0.139     0.219</td>\n",
       "</tr>\n",
       "</table>"
      ],
      "text/plain": [
       "<class 'statsmodels.iolib.summary.Summary'>\n",
       "\"\"\"\n",
       "                           Logit Regression Results                           \n",
       "==============================================================================\n",
       "Dep. Variable:             Timely_Yes   No. Observations:                15580\n",
       "Model:                          Logit   Df Residuals:                    15574\n",
       "Method:                           MLE   Df Model:                            5\n",
       "Date:                Sat, 09 Jul 2016   Pseudo R-squ.:                0.004716\n",
       "Time:                        12:21:30   Log-Likelihood:                -10610.\n",
       "converged:                       True   LL-Null:                       -10660.\n",
       "                                        LLR p-value:                 4.040e-20\n",
       "====================================================================================\n",
       "                       coef    std err          z      P>|z|      [95.0% Conf. Int.]\n",
       "------------------------------------------------------------------------------------\n",
       "Sub__Email           0.1335      0.518      0.258      0.796        -0.881     1.148\n",
       "Sub__Fax             0.4190      0.130      3.221      0.001         0.164     0.674\n",
       "Sub__Phone           0.1399      0.054      2.601      0.009         0.034     0.245\n",
       "Sub__Postal mail     0.7280      0.068     10.761      0.000         0.595     0.861\n",
       "Sub__Referral        0.4508      0.036     12.500      0.000         0.380     0.521\n",
       "Sub__Web             0.1788      0.020      8.772      0.000         0.139     0.219\n",
       "====================================================================================\n",
       "\"\"\""
      ]
     },
     "execution_count": 89,
     "metadata": {},
     "output_type": "execute_result"
    }
   ],
   "source": [
    "logit = sm.Logit(train_y, X9)\n",
    "logit = logit.fit()\n",
    "logit.summary()"
   ]
  },
  {
   "cell_type": "code",
   "execution_count": 90,
   "metadata": {
    "collapsed": false
   },
   "outputs": [
    {
     "name": "stdout",
     "output_type": "stream",
     "text": [
      "Optimization terminated successfully.\n",
      "         Current function value: 0.681001\n",
      "         Iterations 4\n"
     ]
    },
    {
     "data": {
      "text/html": [
       "<table class=\"simpletable\">\n",
       "<caption>Logit Regression Results</caption>\n",
       "<tr>\n",
       "  <th>Dep. Variable:</th>    <td>Timely_Yes</td>    <th>  No. Observations:  </th>  <td> 15580</td>  \n",
       "</tr>\n",
       "<tr>\n",
       "  <th>Model:</th>               <td>Logit</td>      <th>  Df Residuals:      </th>  <td> 15575</td>  \n",
       "</tr>\n",
       "<tr>\n",
       "  <th>Method:</th>               <td>MLE</td>       <th>  Df Model:          </th>  <td>     4</td>  \n",
       "</tr>\n",
       "<tr>\n",
       "  <th>Date:</th>          <td>Sat, 09 Jul 2016</td> <th>  Pseudo R-squ.:     </th> <td>0.004713</td> \n",
       "</tr>\n",
       "<tr>\n",
       "  <th>Time:</th>              <td>12:21:30</td>     <th>  Log-Likelihood:    </th> <td> -10610.</td> \n",
       "</tr>\n",
       "<tr>\n",
       "  <th>converged:</th>           <td>True</td>       <th>  LL-Null:           </th> <td> -10660.</td> \n",
       "</tr>\n",
       "<tr>\n",
       "  <th> </th>                      <td> </td>        <th>  LLR p-value:       </th> <td>7.749e-21</td>\n",
       "</tr>\n",
       "</table>\n",
       "<table class=\"simpletable\">\n",
       "<tr>\n",
       "          <td></td>            <th>coef</th>     <th>std err</th>      <th>z</th>      <th>P>|z|</th> <th>[95.0% Conf. Int.]</th> \n",
       "</tr>\n",
       "<tr>\n",
       "  <th>Sub__Fax</th>         <td>    0.4190</td> <td>    0.130</td> <td>    3.221</td> <td> 0.001</td> <td>    0.164     0.674</td>\n",
       "</tr>\n",
       "<tr>\n",
       "  <th>Sub__Phone</th>       <td>    0.1399</td> <td>    0.054</td> <td>    2.601</td> <td> 0.009</td> <td>    0.034     0.245</td>\n",
       "</tr>\n",
       "<tr>\n",
       "  <th>Sub__Postal mail</th> <td>    0.7280</td> <td>    0.068</td> <td>   10.761</td> <td> 0.000</td> <td>    0.595     0.861</td>\n",
       "</tr>\n",
       "<tr>\n",
       "  <th>Sub__Referral</th>    <td>    0.4508</td> <td>    0.036</td> <td>   12.500</td> <td> 0.000</td> <td>    0.380     0.521</td>\n",
       "</tr>\n",
       "<tr>\n",
       "  <th>Sub__Web</th>         <td>    0.1788</td> <td>    0.020</td> <td>    8.772</td> <td> 0.000</td> <td>    0.139     0.219</td>\n",
       "</tr>\n",
       "</table>"
      ],
      "text/plain": [
       "<class 'statsmodels.iolib.summary.Summary'>\n",
       "\"\"\"\n",
       "                           Logit Regression Results                           \n",
       "==============================================================================\n",
       "Dep. Variable:             Timely_Yes   No. Observations:                15580\n",
       "Model:                          Logit   Df Residuals:                    15575\n",
       "Method:                           MLE   Df Model:                            4\n",
       "Date:                Sat, 09 Jul 2016   Pseudo R-squ.:                0.004713\n",
       "Time:                        12:21:30   Log-Likelihood:                -10610.\n",
       "converged:                       True   LL-Null:                       -10660.\n",
       "                                        LLR p-value:                 7.749e-21\n",
       "====================================================================================\n",
       "                       coef    std err          z      P>|z|      [95.0% Conf. Int.]\n",
       "------------------------------------------------------------------------------------\n",
       "Sub__Fax             0.4190      0.130      3.221      0.001         0.164     0.674\n",
       "Sub__Phone           0.1399      0.054      2.601      0.009         0.034     0.245\n",
       "Sub__Postal mail     0.7280      0.068     10.761      0.000         0.595     0.861\n",
       "Sub__Referral        0.4508      0.036     12.500      0.000         0.380     0.521\n",
       "Sub__Web             0.1788      0.020      8.772      0.000         0.139     0.219\n",
       "====================================================================================\n",
       "\"\"\""
      ]
     },
     "execution_count": 90,
     "metadata": {},
     "output_type": "execute_result"
    }
   ],
   "source": [
    "# Eliminate lowest z-scores and retest Submission Method\n",
    "X9 = X9.drop('Sub__Email', axis = 1)\n",
    "logit = sm.Logit(train_y, X9)\n",
    "logit = logit.fit()\n",
    "logit.summary()"
   ]
  },
  {
   "cell_type": "code",
   "execution_count": 91,
   "metadata": {
    "collapsed": false
   },
   "outputs": [],
   "source": [
    "# Regress all significant values from Product variable and Older American, Servicemember from regression 6\n",
    "X9 = train_X.join([product_dummies, tags_dummies])\n",
    "X9 = X9.drop(['Product_Other financial service', 'Tags_Older American, Servicemember', 'Tags_Servicemember'], axis = 1)"
   ]
  },
  {
   "cell_type": "code",
   "execution_count": 92,
   "metadata": {
    "collapsed": false
   },
   "outputs": [
    {
     "name": "stdout",
     "output_type": "stream",
     "text": [
      "Optimization terminated successfully.\n",
      "         Current function value: 0.587574\n",
      "         Iterations 7\n"
     ]
    },
    {
     "data": {
      "text/html": [
       "<table class=\"simpletable\">\n",
       "<caption>Logit Regression Results</caption>\n",
       "<tr>\n",
       "  <th>Dep. Variable:</th>    <td>Timely_Yes</td>    <th>  No. Observations:  </th>  <td> 15580</td> \n",
       "</tr>\n",
       "<tr>\n",
       "  <th>Model:</th>               <td>Logit</td>      <th>  Df Residuals:      </th>  <td> 15569</td> \n",
       "</tr>\n",
       "<tr>\n",
       "  <th>Method:</th>               <td>MLE</td>       <th>  Df Model:          </th>  <td>    10</td> \n",
       "</tr>\n",
       "<tr>\n",
       "  <th>Date:</th>          <td>Sat, 09 Jul 2016</td> <th>  Pseudo R-squ.:     </th>  <td>0.1413</td> \n",
       "</tr>\n",
       "<tr>\n",
       "  <th>Time:</th>              <td>12:21:30</td>     <th>  Log-Likelihood:    </th> <td> -9154.4</td>\n",
       "</tr>\n",
       "<tr>\n",
       "  <th>converged:</th>           <td>True</td>       <th>  LL-Null:           </th> <td> -10660.</td>\n",
       "</tr>\n",
       "<tr>\n",
       "  <th> </th>                      <td> </td>        <th>  LLR p-value:       </th>  <td> 0.000</td> \n",
       "</tr>\n",
       "</table>\n",
       "<table class=\"simpletable\">\n",
       "<tr>\n",
       "                 <td></td>                    <th>coef</th>     <th>std err</th>      <th>z</th>      <th>P>|z|</th> <th>[95.0% Conf. Int.]</th> \n",
       "</tr>\n",
       "<tr>\n",
       "  <th>Product_Bank account or service</th> <td>    0.9603</td> <td>    0.061</td> <td>   15.799</td> <td> 0.000</td> <td>    0.841     1.079</td>\n",
       "</tr>\n",
       "<tr>\n",
       "  <th>Product_Consumer Loan</th>           <td>    0.3240</td> <td>    0.088</td> <td>    3.663</td> <td> 0.000</td> <td>    0.151     0.497</td>\n",
       "</tr>\n",
       "<tr>\n",
       "  <th>Product_Credit card</th>             <td>    1.2561</td> <td>    0.066</td> <td>   19.153</td> <td> 0.000</td> <td>    1.128     1.385</td>\n",
       "</tr>\n",
       "<tr>\n",
       "  <th>Product_Credit reporting</th>        <td>    2.9952</td> <td>    0.119</td> <td>   25.137</td> <td> 0.000</td> <td>    2.762     3.229</td>\n",
       "</tr>\n",
       "<tr>\n",
       "  <th>Product_Debt collection</th>         <td>   -0.7688</td> <td>    0.032</td> <td>  -24.161</td> <td> 0.000</td> <td>   -0.831    -0.706</td>\n",
       "</tr>\n",
       "<tr>\n",
       "  <th>Product_Money transfers</th>         <td>    0.2804</td> <td>    0.223</td> <td>    1.255</td> <td> 0.209</td> <td>   -0.157     0.718</td>\n",
       "</tr>\n",
       "<tr>\n",
       "  <th>Product_Mortgage</th>                <td>    0.2825</td> <td>    0.028</td> <td>   10.063</td> <td> 0.000</td> <td>    0.227     0.337</td>\n",
       "</tr>\n",
       "<tr>\n",
       "  <th>Product_Payday loan</th>             <td>   -1.3116</td> <td>    0.163</td> <td>   -8.057</td> <td> 0.000</td> <td>   -1.631    -0.993</td>\n",
       "</tr>\n",
       "<tr>\n",
       "  <th>Product_Prepaid card</th>            <td>    1.9428</td> <td>    0.478</td> <td>    4.063</td> <td> 0.000</td> <td>    1.006     2.880</td>\n",
       "</tr>\n",
       "<tr>\n",
       "  <th>Product_Student loan</th>            <td>    1.1701</td> <td>    0.123</td> <td>    9.482</td> <td> 0.000</td> <td>    0.928     1.412</td>\n",
       "</tr>\n",
       "<tr>\n",
       "  <th>Tags_Older American</th>             <td>    0.1322</td> <td>    0.069</td> <td>    1.913</td> <td> 0.056</td> <td>   -0.003     0.268</td>\n",
       "</tr>\n",
       "</table>"
      ],
      "text/plain": [
       "<class 'statsmodels.iolib.summary.Summary'>\n",
       "\"\"\"\n",
       "                           Logit Regression Results                           \n",
       "==============================================================================\n",
       "Dep. Variable:             Timely_Yes   No. Observations:                15580\n",
       "Model:                          Logit   Df Residuals:                    15569\n",
       "Method:                           MLE   Df Model:                           10\n",
       "Date:                Sat, 09 Jul 2016   Pseudo R-squ.:                  0.1413\n",
       "Time:                        12:21:30   Log-Likelihood:                -9154.4\n",
       "converged:                       True   LL-Null:                       -10660.\n",
       "                                        LLR p-value:                     0.000\n",
       "===================================================================================================\n",
       "                                      coef    std err          z      P>|z|      [95.0% Conf. Int.]\n",
       "---------------------------------------------------------------------------------------------------\n",
       "Product_Bank account or service     0.9603      0.061     15.799      0.000         0.841     1.079\n",
       "Product_Consumer Loan               0.3240      0.088      3.663      0.000         0.151     0.497\n",
       "Product_Credit card                 1.2561      0.066     19.153      0.000         1.128     1.385\n",
       "Product_Credit reporting            2.9952      0.119     25.137      0.000         2.762     3.229\n",
       "Product_Debt collection            -0.7688      0.032    -24.161      0.000        -0.831    -0.706\n",
       "Product_Money transfers             0.2804      0.223      1.255      0.209        -0.157     0.718\n",
       "Product_Mortgage                    0.2825      0.028     10.063      0.000         0.227     0.337\n",
       "Product_Payday loan                -1.3116      0.163     -8.057      0.000        -1.631    -0.993\n",
       "Product_Prepaid card                1.9428      0.478      4.063      0.000         1.006     2.880\n",
       "Product_Student loan                1.1701      0.123      9.482      0.000         0.928     1.412\n",
       "Tags_Older American                 0.1322      0.069      1.913      0.056        -0.003     0.268\n",
       "===================================================================================================\n",
       "\"\"\""
      ]
     },
     "execution_count": 92,
     "metadata": {},
     "output_type": "execute_result"
    }
   ],
   "source": [
    "logit = sm.Logit(train_y, X9)\n",
    "logit = logit.fit()\n",
    "logit.summary()"
   ]
  },
  {
   "cell_type": "code",
   "execution_count": 93,
   "metadata": {
    "collapsed": false
   },
   "outputs": [
    {
     "name": "stdout",
     "output_type": "stream",
     "text": [
      "Optimization terminated successfully.\n",
      "         Current function value: 0.687255\n",
      "         Iterations 1\n"
     ]
    },
    {
     "data": {
      "text/html": [
       "<table class=\"simpletable\">\n",
       "<caption>Logit Regression Results</caption>\n",
       "<tr>\n",
       "  <th>Dep. Variable:</th>    <td>Timely_Yes</td>    <th>  No. Observations:  </th>  <td> 15580</td>  \n",
       "</tr>\n",
       "<tr>\n",
       "  <th>Model:</th>               <td>Logit</td>      <th>  Df Residuals:      </th>  <td> 15579</td>  \n",
       "</tr>\n",
       "<tr>\n",
       "  <th>Method:</th>               <td>MLE</td>       <th>  Df Model:          </th>  <td>     0</td>  \n",
       "</tr>\n",
       "<tr>\n",
       "  <th>Date:</th>          <td>Sat, 09 Jul 2016</td> <th>  Pseudo R-squ.:     </th> <td>-0.004427</td>\n",
       "</tr>\n",
       "<tr>\n",
       "  <th>Time:</th>              <td>12:21:30</td>     <th>  Log-Likelihood:    </th> <td> -10707.</td> \n",
       "</tr>\n",
       "<tr>\n",
       "  <th>converged:</th>           <td>True</td>       <th>  LL-Null:           </th> <td> -10660.</td> \n",
       "</tr>\n",
       "<tr>\n",
       "  <th> </th>                      <td> </td>        <th>  LLR p-value:       </th>  <td>   nan</td>  \n",
       "</tr>\n",
       "</table>\n",
       "<table class=\"simpletable\">\n",
       "<tr>\n",
       "      <td></td>         <th>coef</th>     <th>std err</th>      <th>z</th>      <th>P>|z|</th> <th>[95.0% Conf. Int.]</th> \n",
       "</tr>\n",
       "<tr>\n",
       "  <th>AGI_state</th> <td> 3.629e-10</td> <td> 2.73e-11</td> <td>   13.285</td> <td> 0.000</td> <td> 3.09e-10  4.16e-10</td>\n",
       "</tr>\n",
       "</table>"
      ],
      "text/plain": [
       "<class 'statsmodels.iolib.summary.Summary'>\n",
       "\"\"\"\n",
       "                           Logit Regression Results                           \n",
       "==============================================================================\n",
       "Dep. Variable:             Timely_Yes   No. Observations:                15580\n",
       "Model:                          Logit   Df Residuals:                    15579\n",
       "Method:                           MLE   Df Model:                            0\n",
       "Date:                Sat, 09 Jul 2016   Pseudo R-squ.:               -0.004427\n",
       "Time:                        12:21:30   Log-Likelihood:                -10707.\n",
       "converged:                       True   LL-Null:                       -10660.\n",
       "                                        LLR p-value:                       nan\n",
       "==============================================================================\n",
       "                 coef    std err          z      P>|z|      [95.0% Conf. Int.]\n",
       "------------------------------------------------------------------------------\n",
       "AGI_state   3.629e-10   2.73e-11     13.285      0.000      3.09e-10  4.16e-10\n",
       "==============================================================================\n",
       "\"\"\""
      ]
     },
     "execution_count": 93,
     "metadata": {},
     "output_type": "execute_result"
    }
   ],
   "source": [
    "# Evaluate state-level income variable\n",
    "X10 = train_X.join([agi_cols])\n",
    "X10 = X10.drop('AGI_zip', axis = 1)\n",
    "logit = sm.Logit(train_y, X10)\n",
    "logit = logit.fit()\n",
    "logit.summary()"
   ]
  },
  {
   "cell_type": "code",
   "execution_count": 94,
   "metadata": {
    "collapsed": false
   },
   "outputs": [
    {
     "name": "stdout",
     "output_type": "stream",
     "text": [
      "Optimization terminated successfully.\n",
      "         Current function value: 0.686587\n",
      "         Iterations 3\n"
     ]
    },
    {
     "data": {
      "text/html": [
       "<table class=\"simpletable\">\n",
       "<caption>Logit Regression Results</caption>\n",
       "<tr>\n",
       "  <th>Dep. Variable:</th>    <td>Timely_Yes</td>    <th>  No. Observations:  </th>  <td> 15580</td>  \n",
       "</tr>\n",
       "<tr>\n",
       "  <th>Model:</th>               <td>Logit</td>      <th>  Df Residuals:      </th>  <td> 15579</td>  \n",
       "</tr>\n",
       "<tr>\n",
       "  <th>Method:</th>               <td>MLE</td>       <th>  Df Model:          </th>  <td>     0</td>  \n",
       "</tr>\n",
       "<tr>\n",
       "  <th>Date:</th>          <td>Sat, 09 Jul 2016</td> <th>  Pseudo R-squ.:     </th> <td>-0.003451</td>\n",
       "</tr>\n",
       "<tr>\n",
       "  <th>Time:</th>              <td>12:21:30</td>     <th>  Log-Likelihood:    </th> <td> -10697.</td> \n",
       "</tr>\n",
       "<tr>\n",
       "  <th>converged:</th>           <td>True</td>       <th>  LL-Null:           </th> <td> -10660.</td> \n",
       "</tr>\n",
       "<tr>\n",
       "  <th> </th>                      <td> </td>        <th>  LLR p-value:       </th>  <td>   nan</td>  \n",
       "</tr>\n",
       "</table>\n",
       "<table class=\"simpletable\">\n",
       "<tr>\n",
       "     <td></td>        <th>coef</th>     <th>std err</th>      <th>z</th>      <th>P>|z|</th> <th>[95.0% Conf. Int.]</th> \n",
       "</tr>\n",
       "<tr>\n",
       "  <th>AGI_zip</th> <td> 1.745e-07</td> <td> 1.26e-08</td> <td>   13.865</td> <td> 0.000</td> <td>  1.5e-07  1.99e-07</td>\n",
       "</tr>\n",
       "</table>"
      ],
      "text/plain": [
       "<class 'statsmodels.iolib.summary.Summary'>\n",
       "\"\"\"\n",
       "                           Logit Regression Results                           \n",
       "==============================================================================\n",
       "Dep. Variable:             Timely_Yes   No. Observations:                15580\n",
       "Model:                          Logit   Df Residuals:                    15579\n",
       "Method:                           MLE   Df Model:                            0\n",
       "Date:                Sat, 09 Jul 2016   Pseudo R-squ.:               -0.003451\n",
       "Time:                        12:21:30   Log-Likelihood:                -10697.\n",
       "converged:                       True   LL-Null:                       -10660.\n",
       "                                        LLR p-value:                       nan\n",
       "==============================================================================\n",
       "                 coef    std err          z      P>|z|      [95.0% Conf. Int.]\n",
       "------------------------------------------------------------------------------\n",
       "AGI_zip     1.745e-07   1.26e-08     13.865      0.000       1.5e-07  1.99e-07\n",
       "==============================================================================\n",
       "\"\"\""
      ]
     },
     "execution_count": 94,
     "metadata": {},
     "output_type": "execute_result"
    }
   ],
   "source": [
    "# Evaluate zip-level income variable\n",
    "X11 = train_X.join([agi_cols])\n",
    "X11 = X11.drop('AGI_state', axis = 1)\n",
    "logit = sm.Logit(train_y, X11)\n",
    "logit = logit.fit()\n",
    "logit.summary()"
   ]
  },
  {
   "cell_type": "code",
   "execution_count": 95,
   "metadata": {
    "collapsed": false
   },
   "outputs": [],
   "source": [
    "# Create Product, Tags, and State-Level Income feature set\n",
    "X12 = X6.join([agi_cols]).drop('AGI_zip', axis = 1)"
   ]
  },
  {
   "cell_type": "code",
   "execution_count": 96,
   "metadata": {
    "collapsed": false
   },
   "outputs": [
    {
     "name": "stdout",
     "output_type": "stream",
     "text": [
      "Optimization terminated successfully.\n",
      "         Current function value: 0.587163\n",
      "         Iterations 7\n"
     ]
    },
    {
     "data": {
      "text/html": [
       "<table class=\"simpletable\">\n",
       "<caption>Logit Regression Results</caption>\n",
       "<tr>\n",
       "  <th>Dep. Variable:</th>    <td>Timely_Yes</td>    <th>  No. Observations:  </th>  <td> 15580</td> \n",
       "</tr>\n",
       "<tr>\n",
       "  <th>Model:</th>               <td>Logit</td>      <th>  Df Residuals:      </th>  <td> 15565</td> \n",
       "</tr>\n",
       "<tr>\n",
       "  <th>Method:</th>               <td>MLE</td>       <th>  Df Model:          </th>  <td>    14</td> \n",
       "</tr>\n",
       "<tr>\n",
       "  <th>Date:</th>          <td>Sat, 09 Jul 2016</td> <th>  Pseudo R-squ.:     </th>  <td>0.1419</td> \n",
       "</tr>\n",
       "<tr>\n",
       "  <th>Time:</th>              <td>12:21:31</td>     <th>  Log-Likelihood:    </th> <td> -9148.0</td>\n",
       "</tr>\n",
       "<tr>\n",
       "  <th>converged:</th>           <td>True</td>       <th>  LL-Null:           </th> <td> -10660.</td>\n",
       "</tr>\n",
       "<tr>\n",
       "  <th> </th>                      <td> </td>        <th>  LLR p-value:       </th>  <td> 0.000</td> \n",
       "</tr>\n",
       "</table>\n",
       "<table class=\"simpletable\">\n",
       "<tr>\n",
       "                   <td></td>                     <th>coef</th>     <th>std err</th>      <th>z</th>      <th>P>|z|</th> <th>[95.0% Conf. Int.]</th> \n",
       "</tr>\n",
       "<tr>\n",
       "  <th>Product_Bank account or service</th>    <td>    0.9519</td> <td>    0.065</td> <td>   14.714</td> <td> 0.000</td> <td>    0.825     1.079</td>\n",
       "</tr>\n",
       "<tr>\n",
       "  <th>Product_Consumer Loan</th>              <td>    0.3127</td> <td>    0.091</td> <td>    3.430</td> <td> 0.001</td> <td>    0.134     0.491</td>\n",
       "</tr>\n",
       "<tr>\n",
       "  <th>Product_Credit card</th>                <td>    1.2489</td> <td>    0.069</td> <td>   18.073</td> <td> 0.000</td> <td>    1.113     1.384</td>\n",
       "</tr>\n",
       "<tr>\n",
       "  <th>Product_Credit reporting</th>           <td>    2.9901</td> <td>    0.121</td> <td>   24.638</td> <td> 0.000</td> <td>    2.752     3.228</td>\n",
       "</tr>\n",
       "<tr>\n",
       "  <th>Product_Debt collection</th>            <td>   -0.7764</td> <td>    0.039</td> <td>  -19.828</td> <td> 0.000</td> <td>   -0.853    -0.700</td>\n",
       "</tr>\n",
       "<tr>\n",
       "  <th>Product_Money transfers</th>            <td>    0.2767</td> <td>    0.224</td> <td>    1.233</td> <td> 0.218</td> <td>   -0.163     0.717</td>\n",
       "</tr>\n",
       "<tr>\n",
       "  <th>Product_Mortgage</th>                   <td>    0.2745</td> <td>    0.037</td> <td>    7.520</td> <td> 0.000</td> <td>    0.203     0.346</td>\n",
       "</tr>\n",
       "<tr>\n",
       "  <th>Product_Other financial service</th>    <td>   -1.0575</td> <td>    0.414</td> <td>   -2.553</td> <td> 0.011</td> <td>   -1.869    -0.246</td>\n",
       "</tr>\n",
       "<tr>\n",
       "  <th>Product_Payday loan</th>                <td>   -1.3296</td> <td>    0.164</td> <td>   -8.092</td> <td> 0.000</td> <td>   -1.652    -1.008</td>\n",
       "</tr>\n",
       "<tr>\n",
       "  <th>Product_Prepaid card</th>               <td>    1.9395</td> <td>    0.479</td> <td>    4.052</td> <td> 0.000</td> <td>    1.001     2.878</td>\n",
       "</tr>\n",
       "<tr>\n",
       "  <th>Product_Student loan</th>               <td>    1.1668</td> <td>    0.125</td> <td>    9.344</td> <td> 0.000</td> <td>    0.922     1.412</td>\n",
       "</tr>\n",
       "<tr>\n",
       "  <th>Tags_Older American</th>                <td>    0.1401</td> <td>    0.069</td> <td>    2.020</td> <td> 0.043</td> <td>    0.004     0.276</td>\n",
       "</tr>\n",
       "<tr>\n",
       "  <th>Tags_Older American, Servicemember</th> <td>    0.3956</td> <td>    0.166</td> <td>    2.380</td> <td> 0.017</td> <td>    0.070     0.721</td>\n",
       "</tr>\n",
       "<tr>\n",
       "  <th>Tags_Servicemember</th>                 <td>   -0.0097</td> <td>    0.081</td> <td>   -0.120</td> <td> 0.905</td> <td>   -0.169     0.149</td>\n",
       "</tr>\n",
       "<tr>\n",
       "  <th>AGI_state</th>                          <td> 6.822e-12</td> <td> 4.75e-11</td> <td>    0.144</td> <td> 0.886</td> <td>-8.63e-11  9.99e-11</td>\n",
       "</tr>\n",
       "</table>"
      ],
      "text/plain": [
       "<class 'statsmodels.iolib.summary.Summary'>\n",
       "\"\"\"\n",
       "                           Logit Regression Results                           \n",
       "==============================================================================\n",
       "Dep. Variable:             Timely_Yes   No. Observations:                15580\n",
       "Model:                          Logit   Df Residuals:                    15565\n",
       "Method:                           MLE   Df Model:                           14\n",
       "Date:                Sat, 09 Jul 2016   Pseudo R-squ.:                  0.1419\n",
       "Time:                        12:21:31   Log-Likelihood:                -9148.0\n",
       "converged:                       True   LL-Null:                       -10660.\n",
       "                                        LLR p-value:                     0.000\n",
       "======================================================================================================\n",
       "                                         coef    std err          z      P>|z|      [95.0% Conf. Int.]\n",
       "------------------------------------------------------------------------------------------------------\n",
       "Product_Bank account or service        0.9519      0.065     14.714      0.000         0.825     1.079\n",
       "Product_Consumer Loan                  0.3127      0.091      3.430      0.001         0.134     0.491\n",
       "Product_Credit card                    1.2489      0.069     18.073      0.000         1.113     1.384\n",
       "Product_Credit reporting               2.9901      0.121     24.638      0.000         2.752     3.228\n",
       "Product_Debt collection               -0.7764      0.039    -19.828      0.000        -0.853    -0.700\n",
       "Product_Money transfers                0.2767      0.224      1.233      0.218        -0.163     0.717\n",
       "Product_Mortgage                       0.2745      0.037      7.520      0.000         0.203     0.346\n",
       "Product_Other financial service       -1.0575      0.414     -2.553      0.011        -1.869    -0.246\n",
       "Product_Payday loan                   -1.3296      0.164     -8.092      0.000        -1.652    -1.008\n",
       "Product_Prepaid card                   1.9395      0.479      4.052      0.000         1.001     2.878\n",
       "Product_Student loan                   1.1668      0.125      9.344      0.000         0.922     1.412\n",
       "Tags_Older American                    0.1401      0.069      2.020      0.043         0.004     0.276\n",
       "Tags_Older American, Servicemember     0.3956      0.166      2.380      0.017         0.070     0.721\n",
       "Tags_Servicemember                    -0.0097      0.081     -0.120      0.905        -0.169     0.149\n",
       "AGI_state                           6.822e-12   4.75e-11      0.144      0.886     -8.63e-11  9.99e-11\n",
       "======================================================================================================\n",
       "\"\"\""
      ]
     },
     "execution_count": 96,
     "metadata": {},
     "output_type": "execute_result"
    }
   ],
   "source": [
    "# Regress Product and State-Level Income against timeliness\n",
    "logit = sm.Logit(train_y, X12)\n",
    "logit = logit.fit()\n",
    "logit.summary()"
   ]
  },
  {
   "cell_type": "code",
   "execution_count": 97,
   "metadata": {
    "collapsed": true
   },
   "outputs": [],
   "source": [
    "# Create Product, Tags, and State-Level Income feature set\n",
    "X15 = X6.join([agi_cols]).drop('AGI_state', axis = 1)"
   ]
  },
  {
   "cell_type": "code",
   "execution_count": 98,
   "metadata": {
    "collapsed": false
   },
   "outputs": [
    {
     "name": "stdout",
     "output_type": "stream",
     "text": [
      "Optimization terminated successfully.\n",
      "         Current function value: 0.587152\n",
      "         Iterations 7\n"
     ]
    },
    {
     "data": {
      "text/html": [
       "<table class=\"simpletable\">\n",
       "<caption>Logit Regression Results</caption>\n",
       "<tr>\n",
       "  <th>Dep. Variable:</th>    <td>Timely_Yes</td>    <th>  No. Observations:  </th>  <td> 15580</td> \n",
       "</tr>\n",
       "<tr>\n",
       "  <th>Model:</th>               <td>Logit</td>      <th>  Df Residuals:      </th>  <td> 15565</td> \n",
       "</tr>\n",
       "<tr>\n",
       "  <th>Method:</th>               <td>MLE</td>       <th>  Df Model:          </th>  <td>    14</td> \n",
       "</tr>\n",
       "<tr>\n",
       "  <th>Date:</th>          <td>Sat, 09 Jul 2016</td> <th>  Pseudo R-squ.:     </th>  <td>0.1419</td> \n",
       "</tr>\n",
       "<tr>\n",
       "  <th>Time:</th>              <td>12:21:31</td>     <th>  Log-Likelihood:    </th> <td> -9147.8</td>\n",
       "</tr>\n",
       "<tr>\n",
       "  <th>converged:</th>           <td>True</td>       <th>  LL-Null:           </th> <td> -10660.</td>\n",
       "</tr>\n",
       "<tr>\n",
       "  <th> </th>                      <td> </td>        <th>  LLR p-value:       </th>  <td> 0.000</td> \n",
       "</tr>\n",
       "</table>\n",
       "<table class=\"simpletable\">\n",
       "<tr>\n",
       "                   <td></td>                     <th>coef</th>     <th>std err</th>      <th>z</th>      <th>P>|z|</th> <th>[95.0% Conf. Int.]</th> \n",
       "</tr>\n",
       "<tr>\n",
       "  <th>Product_Bank account or service</th>    <td>    0.9423</td> <td>    0.064</td> <td>   14.633</td> <td> 0.000</td> <td>    0.816     1.068</td>\n",
       "</tr>\n",
       "<tr>\n",
       "  <th>Product_Consumer Loan</th>              <td>    0.3041</td> <td>    0.091</td> <td>    3.348</td> <td> 0.001</td> <td>    0.126     0.482</td>\n",
       "</tr>\n",
       "<tr>\n",
       "  <th>Product_Credit card</th>                <td>    1.2384</td> <td>    0.069</td> <td>   17.876</td> <td> 0.000</td> <td>    1.103     1.374</td>\n",
       "</tr>\n",
       "<tr>\n",
       "  <th>Product_Credit reporting</th>           <td>    2.9812</td> <td>    0.121</td> <td>   24.670</td> <td> 0.000</td> <td>    2.744     3.218</td>\n",
       "</tr>\n",
       "<tr>\n",
       "  <th>Product_Debt collection</th>            <td>   -0.7848</td> <td>    0.038</td> <td>  -20.831</td> <td> 0.000</td> <td>   -0.859    -0.711</td>\n",
       "</tr>\n",
       "<tr>\n",
       "  <th>Product_Money transfers</th>            <td>    0.2683</td> <td>    0.224</td> <td>    1.197</td> <td> 0.231</td> <td>   -0.171     0.708</td>\n",
       "</tr>\n",
       "<tr>\n",
       "  <th>Product_Mortgage</th>                   <td>    0.2654</td> <td>    0.035</td> <td>    7.606</td> <td> 0.000</td> <td>    0.197     0.334</td>\n",
       "</tr>\n",
       "<tr>\n",
       "  <th>Product_Other financial service</th>    <td>   -1.0651</td> <td>    0.414</td> <td>   -2.573</td> <td> 0.010</td> <td>   -1.877    -0.254</td>\n",
       "</tr>\n",
       "<tr>\n",
       "  <th>Product_Payday loan</th>                <td>   -1.3379</td> <td>    0.164</td> <td>   -8.150</td> <td> 0.000</td> <td>   -1.660    -1.016</td>\n",
       "</tr>\n",
       "<tr>\n",
       "  <th>Product_Prepaid card</th>               <td>    1.9333</td> <td>    0.478</td> <td>    4.041</td> <td> 0.000</td> <td>    0.996     2.871</td>\n",
       "</tr>\n",
       "<tr>\n",
       "  <th>Product_Student loan</th>               <td>    1.1580</td> <td>    0.125</td> <td>    9.269</td> <td> 0.000</td> <td>    0.913     1.403</td>\n",
       "</tr>\n",
       "<tr>\n",
       "  <th>Tags_Older American</th>                <td>    0.1407</td> <td>    0.069</td> <td>    2.029</td> <td> 0.042</td> <td>    0.005     0.277</td>\n",
       "</tr>\n",
       "<tr>\n",
       "  <th>Tags_Older American, Servicemember</th> <td>    0.3973</td> <td>    0.166</td> <td>    2.390</td> <td> 0.017</td> <td>    0.071     0.723</td>\n",
       "</tr>\n",
       "<tr>\n",
       "  <th>Tags_Servicemember</th>                 <td>   -0.0088</td> <td>    0.081</td> <td>   -0.109</td> <td> 0.914</td> <td>   -0.168     0.150</td>\n",
       "</tr>\n",
       "<tr>\n",
       "  <th>AGI_zip</th>                            <td> 1.192e-08</td> <td> 1.95e-08</td> <td>    0.611</td> <td> 0.541</td> <td>-2.63e-08  5.02e-08</td>\n",
       "</tr>\n",
       "</table>"
      ],
      "text/plain": [
       "<class 'statsmodels.iolib.summary.Summary'>\n",
       "\"\"\"\n",
       "                           Logit Regression Results                           \n",
       "==============================================================================\n",
       "Dep. Variable:             Timely_Yes   No. Observations:                15580\n",
       "Model:                          Logit   Df Residuals:                    15565\n",
       "Method:                           MLE   Df Model:                           14\n",
       "Date:                Sat, 09 Jul 2016   Pseudo R-squ.:                  0.1419\n",
       "Time:                        12:21:31   Log-Likelihood:                -9147.8\n",
       "converged:                       True   LL-Null:                       -10660.\n",
       "                                        LLR p-value:                     0.000\n",
       "======================================================================================================\n",
       "                                         coef    std err          z      P>|z|      [95.0% Conf. Int.]\n",
       "------------------------------------------------------------------------------------------------------\n",
       "Product_Bank account or service        0.9423      0.064     14.633      0.000         0.816     1.068\n",
       "Product_Consumer Loan                  0.3041      0.091      3.348      0.001         0.126     0.482\n",
       "Product_Credit card                    1.2384      0.069     17.876      0.000         1.103     1.374\n",
       "Product_Credit reporting               2.9812      0.121     24.670      0.000         2.744     3.218\n",
       "Product_Debt collection               -0.7848      0.038    -20.831      0.000        -0.859    -0.711\n",
       "Product_Money transfers                0.2683      0.224      1.197      0.231        -0.171     0.708\n",
       "Product_Mortgage                       0.2654      0.035      7.606      0.000         0.197     0.334\n",
       "Product_Other financial service       -1.0651      0.414     -2.573      0.010        -1.877    -0.254\n",
       "Product_Payday loan                   -1.3379      0.164     -8.150      0.000        -1.660    -1.016\n",
       "Product_Prepaid card                   1.9333      0.478      4.041      0.000         0.996     2.871\n",
       "Product_Student loan                   1.1580      0.125      9.269      0.000         0.913     1.403\n",
       "Tags_Older American                    0.1407      0.069      2.029      0.042         0.005     0.277\n",
       "Tags_Older American, Servicemember     0.3973      0.166      2.390      0.017         0.071     0.723\n",
       "Tags_Servicemember                    -0.0088      0.081     -0.109      0.914        -0.168     0.150\n",
       "AGI_zip                             1.192e-08   1.95e-08      0.611      0.541     -2.63e-08  5.02e-08\n",
       "======================================================================================================\n",
       "\"\"\""
      ]
     },
     "execution_count": 98,
     "metadata": {},
     "output_type": "execute_result"
    }
   ],
   "source": [
    "# Regress Product and State-Level Income against timeliness\n",
    "logit = sm.Logit(train_y, X15)\n",
    "logit = logit.fit()\n",
    "logit.summary()"
   ]
  },
  {
   "cell_type": "code",
   "execution_count": 99,
   "metadata": {
    "collapsed": false
   },
   "outputs": [
    {
     "data": {
      "text/plain": [
       "0.67477535301668801"
      ]
     },
     "execution_count": 99,
     "metadata": {},
     "output_type": "execute_result"
    }
   ],
   "source": [
    "# Evaluate Debt Collection with Scikitlearn\n",
    "debt_collection = linear_model.LogisticRegression()\n",
    "debt_collection.fit(X7, train_y)\n",
    "debt_collection.score(X7, train_y)"
   ]
  },
  {
   "cell_type": "code",
   "execution_count": 100,
   "metadata": {
    "collapsed": false
   },
   "outputs": [
    {
     "data": {
      "text/plain": [
       "0.68376123234916564"
      ]
     },
     "execution_count": 100,
     "metadata": {},
     "output_type": "execute_result"
    }
   ],
   "source": [
    "# Evaluate Product and Tags model with Scikitlearn's LogisticRegression function\n",
    "product_tags = linear_model.LogisticRegression()\n",
    "product_tags.fit(X9, train_y)\n",
    "product_tags.score(X9, train_y)"
   ]
  },
  {
   "cell_type": "code",
   "execution_count": 101,
   "metadata": {
    "collapsed": false
   },
   "outputs": [
    {
     "data": {
      "text/plain": [
       "0.56668806161745833"
      ]
     },
     "execution_count": 101,
     "metadata": {},
     "output_type": "execute_result"
    }
   ],
   "source": [
    "# Evaluate Sub-Product and Tags model with Scikitlearn's LogisticRegression function\n",
    "sub_product_tags = linear_model.LogisticRegression()\n",
    "sub_product_tags.fit(X11, train_y)\n",
    "sub_product_tags.score(X11, train_y)"
   ]
  },
  {
   "cell_type": "code",
   "execution_count": 102,
   "metadata": {
    "collapsed": true
   },
   "outputs": [],
   "source": [
    "# Plot the residuals and identify potential remaining sources of signal if they do follow a pattern\n",
    "# https://github.com/ga-students/DS-SF-23/blob/56f0e85decd927c22692120998506689d39b93e2/classes/06/code/lab-06-introduction-to-regression-and-model-fit-answer-key.ipynb\n",
    "# Plot residuals of both Sklearn and Statsmodel\n",
    "# figure = sm.qqplot(logit.resid, line = 's')"
   ]
  },
  {
   "cell_type": "code",
   "execution_count": 103,
   "metadata": {
    "collapsed": false
   },
   "outputs": [],
   "source": [
    "# Evaluate Product without sole insignificant var ('Other Financial Service) on test data\n",
    "X9_test = test_X.join([product_dummies, tags_dummies])\n",
    "X9_test = X9_test.drop(['Product_Other financial service', 'Tags_Older American, Servicemember', 'Tags_Servicemember'], axis = 1)"
   ]
  },
  {
   "cell_type": "code",
   "execution_count": 104,
   "metadata": {
    "collapsed": false
   },
   "outputs": [
    {
     "data": {
      "text/html": [
       "<div>\n",
       "<table border=\"1\" class=\"dataframe\">\n",
       "  <thead>\n",
       "    <tr style=\"text-align: right;\">\n",
       "      <th></th>\n",
       "      <th>Product_Bank account or service</th>\n",
       "      <th>Product_Consumer Loan</th>\n",
       "      <th>Product_Credit card</th>\n",
       "      <th>Product_Credit reporting</th>\n",
       "      <th>Product_Debt collection</th>\n",
       "      <th>Product_Money transfers</th>\n",
       "      <th>Product_Mortgage</th>\n",
       "      <th>Product_Payday loan</th>\n",
       "      <th>Product_Prepaid card</th>\n",
       "      <th>Product_Student loan</th>\n",
       "      <th>Tags_Older American</th>\n",
       "    </tr>\n",
       "  </thead>\n",
       "  <tbody>\n",
       "    <tr>\n",
       "      <th>443543</th>\n",
       "      <td>0.0</td>\n",
       "      <td>0.0</td>\n",
       "      <td>1.0</td>\n",
       "      <td>0.0</td>\n",
       "      <td>0.0</td>\n",
       "      <td>0.0</td>\n",
       "      <td>0.0</td>\n",
       "      <td>0.0</td>\n",
       "      <td>0.0</td>\n",
       "      <td>0.0</td>\n",
       "      <td>0.0</td>\n",
       "    </tr>\n",
       "    <tr>\n",
       "      <th>69787</th>\n",
       "      <td>0.0</td>\n",
       "      <td>0.0</td>\n",
       "      <td>0.0</td>\n",
       "      <td>0.0</td>\n",
       "      <td>1.0</td>\n",
       "      <td>0.0</td>\n",
       "      <td>0.0</td>\n",
       "      <td>0.0</td>\n",
       "      <td>0.0</td>\n",
       "      <td>0.0</td>\n",
       "      <td>0.0</td>\n",
       "    </tr>\n",
       "    <tr>\n",
       "      <th>129661</th>\n",
       "      <td>0.0</td>\n",
       "      <td>0.0</td>\n",
       "      <td>0.0</td>\n",
       "      <td>0.0</td>\n",
       "      <td>0.0</td>\n",
       "      <td>0.0</td>\n",
       "      <td>1.0</td>\n",
       "      <td>0.0</td>\n",
       "      <td>0.0</td>\n",
       "      <td>0.0</td>\n",
       "      <td>0.0</td>\n",
       "    </tr>\n",
       "    <tr>\n",
       "      <th>8567</th>\n",
       "      <td>1.0</td>\n",
       "      <td>0.0</td>\n",
       "      <td>0.0</td>\n",
       "      <td>0.0</td>\n",
       "      <td>0.0</td>\n",
       "      <td>0.0</td>\n",
       "      <td>0.0</td>\n",
       "      <td>0.0</td>\n",
       "      <td>0.0</td>\n",
       "      <td>0.0</td>\n",
       "      <td>0.0</td>\n",
       "    </tr>\n",
       "    <tr>\n",
       "      <th>153548</th>\n",
       "      <td>0.0</td>\n",
       "      <td>0.0</td>\n",
       "      <td>0.0</td>\n",
       "      <td>0.0</td>\n",
       "      <td>0.0</td>\n",
       "      <td>0.0</td>\n",
       "      <td>1.0</td>\n",
       "      <td>0.0</td>\n",
       "      <td>0.0</td>\n",
       "      <td>0.0</td>\n",
       "      <td>0.0</td>\n",
       "    </tr>\n",
       "  </tbody>\n",
       "</table>\n",
       "</div>"
      ],
      "text/plain": [
       "        Product_Bank account or service  Product_Consumer Loan  \\\n",
       "443543                              0.0                    0.0   \n",
       "69787                               0.0                    0.0   \n",
       "129661                              0.0                    0.0   \n",
       "8567                                1.0                    0.0   \n",
       "153548                              0.0                    0.0   \n",
       "\n",
       "        Product_Credit card  Product_Credit reporting  \\\n",
       "443543                  1.0                       0.0   \n",
       "69787                   0.0                       0.0   \n",
       "129661                  0.0                       0.0   \n",
       "8567                    0.0                       0.0   \n",
       "153548                  0.0                       0.0   \n",
       "\n",
       "        Product_Debt collection  Product_Money transfers  Product_Mortgage  \\\n",
       "443543                      0.0                      0.0               0.0   \n",
       "69787                       1.0                      0.0               0.0   \n",
       "129661                      0.0                      0.0               1.0   \n",
       "8567                        0.0                      0.0               0.0   \n",
       "153548                      0.0                      0.0               1.0   \n",
       "\n",
       "        Product_Payday loan  Product_Prepaid card  Product_Student loan  \\\n",
       "443543                  0.0                   0.0                   0.0   \n",
       "69787                   0.0                   0.0                   0.0   \n",
       "129661                  0.0                   0.0                   0.0   \n",
       "8567                    0.0                   0.0                   0.0   \n",
       "153548                  0.0                   0.0                   0.0   \n",
       "\n",
       "        Tags_Older American  \n",
       "443543                  0.0  \n",
       "69787                   0.0  \n",
       "129661                  0.0  \n",
       "8567                    0.0  \n",
       "153548                  0.0  "
      ]
     },
     "execution_count": 104,
     "metadata": {},
     "output_type": "execute_result"
    }
   ],
   "source": [
    "X9_test.head()"
   ]
  },
  {
   "cell_type": "code",
   "execution_count": 105,
   "metadata": {
    "collapsed": false
   },
   "outputs": [
    {
     "name": "stdout",
     "output_type": "stream",
     "text": [
      "Optimization terminated successfully.\n",
      "         Current function value: 0.592982\n",
      "         Iterations 7\n"
     ]
    },
    {
     "data": {
      "text/html": [
       "<table class=\"simpletable\">\n",
       "<caption>Logit Regression Results</caption>\n",
       "<tr>\n",
       "  <th>Dep. Variable:</th>    <td>Timely_Yes</td>    <th>  No. Observations:  </th>  <td> 10386</td> \n",
       "</tr>\n",
       "<tr>\n",
       "  <th>Model:</th>               <td>Logit</td>      <th>  Df Residuals:      </th>  <td> 10375</td> \n",
       "</tr>\n",
       "<tr>\n",
       "  <th>Method:</th>               <td>MLE</td>       <th>  Df Model:          </th>  <td>    10</td> \n",
       "</tr>\n",
       "<tr>\n",
       "  <th>Date:</th>          <td>Sat, 09 Jul 2016</td> <th>  Pseudo R-squ.:     </th>  <td>0.1360</td> \n",
       "</tr>\n",
       "<tr>\n",
       "  <th>Time:</th>              <td>12:21:31</td>     <th>  Log-Likelihood:    </th> <td> -6158.7</td>\n",
       "</tr>\n",
       "<tr>\n",
       "  <th>converged:</th>           <td>True</td>       <th>  LL-Null:           </th> <td> -7128.1</td>\n",
       "</tr>\n",
       "<tr>\n",
       "  <th> </th>                      <td> </td>        <th>  LLR p-value:       </th>  <td> 0.000</td> \n",
       "</tr>\n",
       "</table>\n",
       "<table class=\"simpletable\">\n",
       "<tr>\n",
       "                 <td></td>                    <th>coef</th>     <th>std err</th>      <th>z</th>      <th>P>|z|</th> <th>[95.0% Conf. Int.]</th> \n",
       "</tr>\n",
       "<tr>\n",
       "  <th>Product_Bank account or service</th> <td>    0.9976</td> <td>    0.075</td> <td>   13.355</td> <td> 0.000</td> <td>    0.851     1.144</td>\n",
       "</tr>\n",
       "<tr>\n",
       "  <th>Product_Consumer Loan</th>           <td>    0.1491</td> <td>    0.109</td> <td>    1.368</td> <td> 0.171</td> <td>   -0.064     0.363</td>\n",
       "</tr>\n",
       "<tr>\n",
       "  <th>Product_Credit card</th>             <td>    1.0475</td> <td>    0.076</td> <td>   13.870</td> <td> 0.000</td> <td>    0.899     1.195</td>\n",
       "</tr>\n",
       "<tr>\n",
       "  <th>Product_Credit reporting</th>        <td>    3.1510</td> <td>    0.160</td> <td>   19.748</td> <td> 0.000</td> <td>    2.838     3.464</td>\n",
       "</tr>\n",
       "<tr>\n",
       "  <th>Product_Debt collection</th>         <td>   -0.7844</td> <td>    0.040</td> <td>  -19.800</td> <td> 0.000</td> <td>   -0.862    -0.707</td>\n",
       "</tr>\n",
       "<tr>\n",
       "  <th>Product_Money transfers</th>         <td>    0.8574</td> <td>    0.298</td> <td>    2.875</td> <td> 0.004</td> <td>    0.273     1.442</td>\n",
       "</tr>\n",
       "<tr>\n",
       "  <th>Product_Mortgage</th>                <td>    0.2555</td> <td>    0.034</td> <td>    7.610</td> <td> 0.000</td> <td>    0.190     0.321</td>\n",
       "</tr>\n",
       "<tr>\n",
       "  <th>Product_Payday loan</th>             <td>   -1.4232</td> <td>    0.211</td> <td>   -6.758</td> <td> 0.000</td> <td>   -1.836    -1.010</td>\n",
       "</tr>\n",
       "<tr>\n",
       "  <th>Product_Prepaid card</th>            <td>    0.4562</td> <td>    0.369</td> <td>    1.237</td> <td> 0.216</td> <td>   -0.267     1.179</td>\n",
       "</tr>\n",
       "<tr>\n",
       "  <th>Product_Student loan</th>            <td>    0.9376</td> <td>    0.151</td> <td>    6.208</td> <td> 0.000</td> <td>    0.642     1.234</td>\n",
       "</tr>\n",
       "<tr>\n",
       "  <th>Tags_Older American</th>             <td>    0.0517</td> <td>    0.084</td> <td>    0.615</td> <td> 0.538</td> <td>   -0.113     0.216</td>\n",
       "</tr>\n",
       "</table>"
      ],
      "text/plain": [
       "<class 'statsmodels.iolib.summary.Summary'>\n",
       "\"\"\"\n",
       "                           Logit Regression Results                           \n",
       "==============================================================================\n",
       "Dep. Variable:             Timely_Yes   No. Observations:                10386\n",
       "Model:                          Logit   Df Residuals:                    10375\n",
       "Method:                           MLE   Df Model:                           10\n",
       "Date:                Sat, 09 Jul 2016   Pseudo R-squ.:                  0.1360\n",
       "Time:                        12:21:31   Log-Likelihood:                -6158.7\n",
       "converged:                       True   LL-Null:                       -7128.1\n",
       "                                        LLR p-value:                     0.000\n",
       "===================================================================================================\n",
       "                                      coef    std err          z      P>|z|      [95.0% Conf. Int.]\n",
       "---------------------------------------------------------------------------------------------------\n",
       "Product_Bank account or service     0.9976      0.075     13.355      0.000         0.851     1.144\n",
       "Product_Consumer Loan               0.1491      0.109      1.368      0.171        -0.064     0.363\n",
       "Product_Credit card                 1.0475      0.076     13.870      0.000         0.899     1.195\n",
       "Product_Credit reporting            3.1510      0.160     19.748      0.000         2.838     3.464\n",
       "Product_Debt collection            -0.7844      0.040    -19.800      0.000        -0.862    -0.707\n",
       "Product_Money transfers             0.8574      0.298      2.875      0.004         0.273     1.442\n",
       "Product_Mortgage                    0.2555      0.034      7.610      0.000         0.190     0.321\n",
       "Product_Payday loan                -1.4232      0.211     -6.758      0.000        -1.836    -1.010\n",
       "Product_Prepaid card                0.4562      0.369      1.237      0.216        -0.267     1.179\n",
       "Product_Student loan                0.9376      0.151      6.208      0.000         0.642     1.234\n",
       "Tags_Older American                 0.0517      0.084      0.615      0.538        -0.113     0.216\n",
       "===================================================================================================\n",
       "\"\"\""
      ]
     },
     "execution_count": 105,
     "metadata": {},
     "output_type": "execute_result"
    }
   ],
   "source": [
    "logit = sm.Logit(test_y, X9_test)\n",
    "logit = logit.fit()\n",
    "logit.summary()"
   ]
  },
  {
   "cell_type": "code",
   "execution_count": null,
   "metadata": {
    "collapsed": true
   },
   "outputs": [],
   "source": []
  }
 ],
 "metadata": {
  "kernelspec": {
   "display_name": "Python 3",
   "language": "python",
   "name": "python3"
  },
  "language_info": {
   "codemirror_mode": {
    "name": "ipython",
    "version": 3
   },
   "file_extension": ".py",
   "mimetype": "text/x-python",
   "name": "python",
   "nbconvert_exporter": "python",
   "pygments_lexer": "ipython3",
   "version": "3.5.1"
  }
 },
 "nbformat": 4,
 "nbformat_minor": 0
}
