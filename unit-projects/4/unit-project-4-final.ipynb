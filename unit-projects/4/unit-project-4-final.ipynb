{
 "cells": [
  {
   "cell_type": "markdown",
   "metadata": {},
   "source": [
    "# SF-DAT-21 | Unit Project 4\n",
    "\n",
    "In this project, you will summarize and present your analysis from Unit Projects 1-3."
   ]
  },
  {
   "cell_type": "markdown",
   "metadata": {},
   "source": [
    "### Question 1. Introduction: Write a problem Statement/Specific Aim for this project."
   ]
  },
  {
   "cell_type": "markdown",
   "metadata": {},
   "source": [
    "With this project, my aim is to determine whether GPA, GRE, and prestige of undergraduate institution are statistically significant predictors of likelihood of admission to grad school at UCLA."
   ]
  },
  {
   "cell_type": "markdown",
   "metadata": {},
   "source": [
    "### Question 2. Dataset: Write up a description of your data and any cleaning that was completed."
   ]
  },
  {
   "cell_type": "markdown",
   "metadata": {},
   "source": [
    "The dataset is 400 records of previous applicants. Each row contains values for (1) the applicant's undergraduate GPA, (2) the applicant's GRE score, (3) the prestige of their undergraduate institution (with 1 being the lowest and 4 being the highest), and (4) an admission decision outcome of acceptance ('1') or denial ('0').\n",
    "\n",
    "I removed three rows because they had null values for one or more of the variables. For the logistic regression portion of my analysis, I created four dummy variables to represent each possible value for the Prestige variable. "
   ]
  },
  {
   "cell_type": "markdown",
   "metadata": {
    "collapsed": true
   },
   "source": [
    "### Question 3. Demo: Provide a table that explains the data by admission status."
   ]
  },
  {
   "cell_type": "markdown",
   "metadata": {},
   "source": [
    "Mean (STD) or counts by admission status for each variable\n",
    "\n",
    "| Not Admitted | Admitted\n",
    "---| ---|---\n",
    "GPA | 3.35 (0.38) | 3.49 (0.37)\n",
    "GRE | 574 (116) | 618 (108)\n",
    "Prestige 1 | 14% | 3%\n",
    "Prestige 2 | 23% | 7%\n",
    "Prestige 3 | 24% | 13%\n",
    "Prestige 4 | 7% | 8%"
   ]
  },
  {
   "cell_type": "markdown",
   "metadata": {},
   "source": [
    "### Question 4. Methods: Write up the methods used in your analysis."
   ]
  },
  {
   "cell_type": "markdown",
   "metadata": {},
   "source": [
    "In unit project 1, I constructed a hypothesis: all three variables will be statistically significant predictors of admission decision, and GRE score will be the most important factor, followed by GPA, with prestige as the least important variable of the set.\n",
    "\n",
    "In unit project 2, I cleaned the data and added dummies, as detailed above. I also performed exploratory analysis, visualizing the distribution of each variable and testing for intercorrelation. Specifically, I found that the sole red flag prior to regression was that there was some intercorrelation between GRE and GPA (0.38). While not so significant as to suggest the two variables could not be regressed together, I determined that the autocorrelation should prompt some caution around dispersion of signal between these two variables when regressed together. Finally, I outlined an analysis plan informed by my findings in exploration.\n",
    "\n",
    "In unit project 3, I analyzed the data by calculating odds ratios and using linear regression."
   ]
  },
  {
   "cell_type": "markdown",
   "metadata": {},
   "source": [
    "### Question 5. Results: Write up your results."
   ]
  },
  {
   "cell_type": "markdown",
   "metadata": {},
   "source": [
    "First, using odds ratios, I found that applicants from the lowest prestige schools had significantly higher odds of admission than those applying from schools in the most prestigious category. For example, applicants with undergrad prestige of 4 have a 88% lower chance of admission than those applying from schools with lower prestige levels. Also using odds ratios, I found that \n",
    "\n",
    "Second, using logistic regression, I found that GRE, Prestige_2, and Prestige_3 were not significant predictors of likelihood of admission. However, this regression also showed statistically significant evidence that GPA was negatively associated with acceptance and that the lowest Prestige level (1) was significantly positively associated with acceptance.\n",
    "\n",
    "Third, I calculated the odds ratios for each indivudal variable. Along similar lines as the z-scores from the regression, a one unit increase in GRE score increased odds of acceptance by 1%, while a one unit increase in GPA corresponded to a 40% decrease in odds of admission. Applying from a school with prestige 1 increased chance of admission 265% (compared to prestige 2-4), while applying from a prestige 2 school increased odds of admission 65%, and applying from a prestige 3 school decreased odds of admission by 5%."
   ]
  },
  {
   "cell_type": "markdown",
   "metadata": {},
   "source": [
    "### Question 6. Visuals: Provide a table or visualization of these results."
   ]
  },
  {
   "cell_type": "markdown",
   "metadata": {},
   "source": [
    "#### Fig A. Regression Results"
   ]
  },
  {
   "cell_type": "markdown",
   "metadata": {},
   "source": [
    "<img src='assets/logit_results.png' height = 425 width = 425>"
   ]
  },
  {
   "cell_type": "markdown",
   "metadata": {},
   "source": [
    "#### Fig B. Odds Ratios and P-Value Per Variable"
   ]
  },
  {
   "cell_type": "markdown",
   "metadata": {},
   "source": [
    "<img src='assets/odds_table.png' height = 220 width = 220>"
   ]
  },
  {
   "cell_type": "markdown",
   "metadata": {},
   "source": [
    "#### Fig C. P-Value Vs. Odds Ratio"
   ]
  },
  {
   "cell_type": "markdown",
   "metadata": {},
   "source": [
    "This figure demonstrates that the most statistically significant variable, Prestige 1, also has the largest incremental impact on odds of admission. (Of course, it is worth remembering that the Prestige variable is not continuous, so the smaller number of possible values compared to GPA and GRE score should be kept in mind.)"
   ]
  },
  {
   "cell_type": "markdown",
   "metadata": {},
   "source": [
    "<img src='assets/p_value.png' height = 300 width = 800>"
   ]
  },
  {
   "cell_type": "markdown",
   "metadata": {},
   "source": [
    "### Question 7. Discussion: Write up your discussion and future steps."
   ]
  },
  {
   "cell_type": "markdown",
   "metadata": {},
   "source": [
    "My analysis provides evidence for significant effects on admission based on the prestige of the applicant's undergraduate institution and their GPA. This provides evidence to reject the hypothesis that all the variables would be significant predictors of admission.\n",
    "\n",
    "Next steps should include additional regression analyses using the dataset in its current form. Given the initial findings regarding intercorrelation between GRE and GPA, these factors should be regressed separately. Otherwise, the initial \n",
    "\n",
    "Additionally, to reach the broader goal of understanding the most significant drivers of admission, more variables should be evaluated. The model presented above explained only 3% of variation in admission, so, while these findings are statistically significant, the low r-square value may suggest that there are other sources of signal beyond GPA, Prestige, and GRE. Potential signals may include: (1) geographic proximity, (2) legacy (i.e., family of alumni) status, and (3) submssion date of the application."
   ]
  },
  {
   "cell_type": "code",
   "execution_count": null,
   "metadata": {
    "collapsed": true
   },
   "outputs": [],
   "source": []
  }
 ],
 "metadata": {
  "kernelspec": {
   "display_name": "Python 3",
   "language": "python",
   "name": "python3"
  },
  "language_info": {
   "codemirror_mode": {
    "name": "ipython",
    "version": 3
   },
   "file_extension": ".py",
   "mimetype": "text/x-python",
   "name": "python",
   "nbconvert_exporter": "python",
   "pygments_lexer": "ipython3",
   "version": "3.5.1"
  }
 },
 "nbformat": 4,
 "nbformat_minor": 0
}
